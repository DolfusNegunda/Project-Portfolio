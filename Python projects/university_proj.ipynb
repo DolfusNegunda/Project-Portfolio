{
 "cells": [
  {
   "cell_type": "markdown",
   "metadata": {},
   "source": [
    "# EXPLORATORY DATA ANALYSIS CASE STUDY \n",
    "## ABOUT DATASET\n",
    "### DATASET: World University Ranking (2022 - 2023)\n",
    "### SOURCE: Kaggle\n",
    "\n",
    "::: METHODOLOGY :::\n",
    "\n",
    "The Center for World University Rankings (CWUR) publishes the only academic ranking of global universities that assesses the quality of education, alumni employment, quality of faculty, and research performance without relying on surveys and university data submissions.\n",
    "\n",
    "CWUR uses seven objective and robust indicators grouped into four areas to rank the world’s universities:\n",
    "\n",
    "Education: based on the academic success of a university’s alumni, and measured by the number of a university's alumni who have won prestigious academic distinctions relative to the university's size (25%)\n",
    "\n",
    "Employability: based on the professional success of a university’s alumni, and measured by the number of a university's alumni who have held top positions at major companies relative to the university's size (25%)\n",
    "\n",
    "Faculty: measured by the number of faculty members who have won prestigious academic distinctions (10%)\n",
    "\n",
    "Research:\n",
    "i) Research Output: measured by the total number of research papers (10%)\n",
    "ii) High-Quality Publications: measured by the number of research papers appearing in top-tier journals (10%)\n",
    "iii) Influence: measured by the number of research papers appearing in highly-influential journals (10%)\n",
    "iv) Citations: measured by the number of highly-cited research papers (10%)\n",
    "\n",
    "### LINK TO ABOVE METHODOLOGY TEXT: https://cwur.org/methodology/world-university-rankings.php"
   ]
  },
  {
   "cell_type": "markdown",
   "metadata": {},
   "source": [
    "## 1 Importing the relevant libraries"
   ]
  },
  {
   "cell_type": "code",
   "execution_count": 1,
   "metadata": {},
   "outputs": [],
   "source": [
    "import pandas as pd\n",
    "import numpy as np"
   ]
  },
  {
   "cell_type": "markdown",
   "metadata": {},
   "source": [
    "## 2 Reading and understanding the data"
   ]
  },
  {
   "cell_type": "code",
   "execution_count": 4,
   "metadata": {},
   "outputs": [
    {
     "data": {
      "text/html": [
       "<div>\n",
       "<style scoped>\n",
       "    .dataframe tbody tr th:only-of-type {\n",
       "        vertical-align: middle;\n",
       "    }\n",
       "\n",
       "    .dataframe tbody tr th {\n",
       "        vertical-align: top;\n",
       "    }\n",
       "\n",
       "    .dataframe thead th {\n",
       "        text-align: right;\n",
       "    }\n",
       "</style>\n",
       "<table border=\"1\" class=\"dataframe\">\n",
       "  <thead>\n",
       "    <tr style=\"text-align: right;\">\n",
       "      <th></th>\n",
       "      <th>World Rank</th>\n",
       "      <th>Institution</th>\n",
       "      <th>Location</th>\n",
       "      <th>National Rank</th>\n",
       "      <th>Education Rank</th>\n",
       "      <th>Employability Rank</th>\n",
       "      <th>Faculty Rank</th>\n",
       "      <th>Research Rank</th>\n",
       "      <th>Score</th>\n",
       "    </tr>\n",
       "  </thead>\n",
       "  <tbody>\n",
       "    <tr>\n",
       "      <th>0</th>\n",
       "      <td>1</td>\n",
       "      <td>Harvard University</td>\n",
       "      <td>USA</td>\n",
       "      <td>1</td>\n",
       "      <td>1</td>\n",
       "      <td>1</td>\n",
       "      <td>1</td>\n",
       "      <td>1</td>\n",
       "      <td>100.0</td>\n",
       "    </tr>\n",
       "    <tr>\n",
       "      <th>1</th>\n",
       "      <td>2</td>\n",
       "      <td>Massachusetts Institute of Technology</td>\n",
       "      <td>USA</td>\n",
       "      <td>2</td>\n",
       "      <td>4</td>\n",
       "      <td>12</td>\n",
       "      <td>2</td>\n",
       "      <td>7</td>\n",
       "      <td>96.7</td>\n",
       "    </tr>\n",
       "    <tr>\n",
       "      <th>2</th>\n",
       "      <td>3</td>\n",
       "      <td>Stanford University</td>\n",
       "      <td>USA</td>\n",
       "      <td>3</td>\n",
       "      <td>11</td>\n",
       "      <td>4</td>\n",
       "      <td>3</td>\n",
       "      <td>2</td>\n",
       "      <td>95.1</td>\n",
       "    </tr>\n",
       "    <tr>\n",
       "      <th>3</th>\n",
       "      <td>4</td>\n",
       "      <td>University of Cambridge</td>\n",
       "      <td>United Kingdom</td>\n",
       "      <td>1</td>\n",
       "      <td>3</td>\n",
       "      <td>25</td>\n",
       "      <td>4</td>\n",
       "      <td>10</td>\n",
       "      <td>94.1</td>\n",
       "    </tr>\n",
       "    <tr>\n",
       "      <th>4</th>\n",
       "      <td>5</td>\n",
       "      <td>University of Oxford</td>\n",
       "      <td>United Kingdom</td>\n",
       "      <td>2</td>\n",
       "      <td>7</td>\n",
       "      <td>27</td>\n",
       "      <td>9</td>\n",
       "      <td>4</td>\n",
       "      <td>93.3</td>\n",
       "    </tr>\n",
       "  </tbody>\n",
       "</table>\n",
       "</div>"
      ],
      "text/plain": [
       "   World Rank                            Institution        Location  \\\n",
       "0           1                     Harvard University             USA   \n",
       "1           2  Massachusetts Institute of Technology             USA   \n",
       "2           3                    Stanford University             USA   \n",
       "3           4                University of Cambridge  United Kingdom   \n",
       "4           5                   University of Oxford  United Kingdom   \n",
       "\n",
       "   National Rank Education Rank Employability Rank Faculty Rank Research Rank  \\\n",
       "0              1              1                  1            1             1   \n",
       "1              2              4                 12            2             7   \n",
       "2              3             11                  4            3             2   \n",
       "3              1              3                 25            4            10   \n",
       "4              2              7                 27            9             4   \n",
       "\n",
       "   Score  \n",
       "0  100.0  \n",
       "1   96.7  \n",
       "2   95.1  \n",
       "3   94.1  \n",
       "4   93.3  "
      ]
     },
     "execution_count": 4,
     "metadata": {},
     "output_type": "execute_result"
    }
   ],
   "source": [
    "wrld_uni_ranks = pd.read_csv('WORLD UNIVERSITY RANKINGS.csv')\n",
    "wrld_uni_ranks.head()"
   ]
  },
  {
   "cell_type": "code",
   "execution_count": 8,
   "metadata": {},
   "outputs": [
    {
     "data": {
      "text/plain": [
       "(2000, 9)"
      ]
     },
     "execution_count": 8,
     "metadata": {},
     "output_type": "execute_result"
    }
   ],
   "source": [
    "# Checking the number of rows and columns\n",
    "wrld_uni_ranks.shape"
   ]
  },
  {
   "cell_type": "code",
   "execution_count": 10,
   "metadata": {},
   "outputs": [
    {
     "name": "stdout",
     "output_type": "stream",
     "text": [
      "<class 'pandas.core.frame.DataFrame'>\n",
      "RangeIndex: 2000 entries, 0 to 1999\n",
      "Data columns (total 9 columns):\n",
      " #   Column              Non-Null Count  Dtype  \n",
      "---  ------              --------------  -----  \n",
      " 0   World Rank          2000 non-null   int64  \n",
      " 1   Institution         2000 non-null   object \n",
      " 2   Location            2000 non-null   object \n",
      " 3   National Rank       2000 non-null   int64  \n",
      " 4   Education Rank      2000 non-null   object \n",
      " 5   Employability Rank  2000 non-null   object \n",
      " 6   Faculty Rank        2000 non-null   object \n",
      " 7   Research Rank       2000 non-null   object \n",
      " 8   Score               2000 non-null   float64\n",
      "dtypes: float64(1), int64(2), object(6)\n",
      "memory usage: 140.8+ KB\n"
     ]
    }
   ],
   "source": [
    "# General information on data\n",
    "wrld_uni_ranks.info()"
   ]
  },
  {
   "cell_type": "code",
   "execution_count": 15,
   "metadata": {},
   "outputs": [
    {
     "data": {
      "text/html": [
       "<div>\n",
       "<style scoped>\n",
       "    .dataframe tbody tr th:only-of-type {\n",
       "        vertical-align: middle;\n",
       "    }\n",
       "\n",
       "    .dataframe tbody tr th {\n",
       "        vertical-align: top;\n",
       "    }\n",
       "\n",
       "    .dataframe thead th {\n",
       "        text-align: right;\n",
       "    }\n",
       "</style>\n",
       "<table border=\"1\" class=\"dataframe\">\n",
       "  <thead>\n",
       "    <tr style=\"text-align: right;\">\n",
       "      <th></th>\n",
       "      <th>World Rank</th>\n",
       "      <th>Institution</th>\n",
       "      <th>Location</th>\n",
       "      <th>National Rank</th>\n",
       "      <th>Education Rank</th>\n",
       "      <th>Employability Rank</th>\n",
       "      <th>Faculty Rank</th>\n",
       "      <th>Research Rank</th>\n",
       "      <th>Score</th>\n",
       "    </tr>\n",
       "  </thead>\n",
       "  <tbody>\n",
       "  </tbody>\n",
       "</table>\n",
       "</div>"
      ],
      "text/plain": [
       "Empty DataFrame\n",
       "Columns: [World Rank, Institution, Location, National Rank, Education Rank, Employability Rank, Faculty Rank, Research Rank, Score]\n",
       "Index: []"
      ]
     },
     "execution_count": 15,
     "metadata": {},
     "output_type": "execute_result"
    }
   ],
   "source": [
    "# Checking for duplicates\n",
    "wrld_uni_ranks[wrld_uni_ranks.duplicated()]"
   ]
  },
  {
   "cell_type": "markdown",
   "metadata": {},
   "source": [
    "Blank rows indicates that we do not have any duplicates"
   ]
  },
  {
   "cell_type": "code",
   "execution_count": 17,
   "metadata": {},
   "outputs": [
    {
     "data": {
      "text/plain": [
       "World Rank            0\n",
       "Institution           0\n",
       "Location              0\n",
       "National Rank         0\n",
       "Education Rank        0\n",
       "Employability Rank    0\n",
       "Faculty Rank          0\n",
       "Research Rank         0\n",
       "Score                 0\n",
       "dtype: int64"
      ]
     },
     "execution_count": 17,
     "metadata": {},
     "output_type": "execute_result"
    }
   ],
   "source": [
    "# Checking Null value\n",
    "wrld_uni_ranks.isna().sum()"
   ]
  },
  {
   "cell_type": "markdown",
   "metadata": {},
   "source": [
    "### Inisghts\n",
    "* The dataset consists of 2000 rows and 9 columns\n",
    "* This implies that we are working with the top 2000 universities in the world\n",
    "* The dataset does not contain duplicate values\n",
    "* The dataset does not have Null values "
   ]
  },
  {
   "cell_type": "markdown",
   "metadata": {},
   "source": [
    "## 3 EXPLORATORY DATA ANALYSIS"
   ]
  },
  {
   "cell_type": "code",
   "execution_count": 19,
   "metadata": {},
   "outputs": [
    {
     "data": {
      "text/plain": [
       "['World Rank',\n",
       " 'Institution',\n",
       " 'Location',\n",
       " 'National Rank',\n",
       " 'Education Rank',\n",
       " 'Employability Rank',\n",
       " 'Faculty Rank',\n",
       " 'Research Rank',\n",
       " 'Score']"
      ]
     },
     "execution_count": 19,
     "metadata": {},
     "output_type": "execute_result"
    }
   ],
   "source": [
    "list(wrld_uni_ranks.columns)"
   ]
  },
  {
   "cell_type": "code",
   "execution_count": 36,
   "metadata": {},
   "outputs": [
    {
     "data": {
      "text/plain": [
       "array(['Algeria', 'Argentina', 'Armenia', 'Australia', 'Austria',\n",
       "       'Azerbaijan', 'Bangladesh', 'Belarus', 'Belgium', 'Brazil',\n",
       "       'Bulgaria', 'Cameroon', 'Canada', 'Chile', 'China', 'Colombia',\n",
       "       'Costa Rica', 'Croatia', 'Cyprus', 'Czech Republic', 'Denmark',\n",
       "       'Ecuador', 'Egypt', 'Estonia', 'Ethiopia', 'Finland', 'France',\n",
       "       'Georgia', 'Germany', 'Ghana', 'Greece', 'Hungary', 'Iceland',\n",
       "       'India', 'Indonesia', 'Iran', 'Ireland', 'Israel', 'Italy',\n",
       "       'Japan', 'Jordan', 'Kazakhstan', 'Kenya', 'Kuwait', 'Latvia',\n",
       "       'Lebanon', 'Lithuania', 'Luxembourg', 'Malawi', 'Malaysia',\n",
       "       'Malta', 'Mexico', 'Morocco', 'Nepal', 'Netherlands',\n",
       "       'New Zealand', 'Nigeria', 'North Macedonia', 'Northern Cyprus',\n",
       "       'Norway', 'Oman', 'Pakistan', 'Palestine', 'Peru', 'Philippines',\n",
       "       'Poland', 'Portugal', 'Qatar', 'Romania', 'Russia', 'Saudi Arabia',\n",
       "       'Serbia', 'Singapore', 'Slovak Republic', 'Slovenia',\n",
       "       'South Africa', 'South Korea', 'Spain', 'Sri Lanka', 'Sweden',\n",
       "       'Switzerland', 'Taiwan', 'Tanzania', 'Thailand', 'Tunisia',\n",
       "       'Turkey', 'USA', 'Uganda', 'Ukraine', 'United Arab Emirates',\n",
       "       'United Kingdom', 'Uruguay', 'Venezuela', 'Vietnam', 'Zambia',\n",
       "       'Zimbabwe'], dtype=object)"
      ]
     },
     "execution_count": 36,
     "metadata": {},
     "output_type": "execute_result"
    }
   ],
   "source": [
    "# Quick overview of the countries these universities are based\n",
    "wrld_uni_ranks['Location'].sort_values().unique()"
   ]
  },
  {
   "cell_type": "markdown",
   "metadata": {},
   "source": [
    "With the above line I was curious to see if there are any universities from South Africa that made it to the top 2000"
   ]
  },
  {
   "cell_type": "code",
   "execution_count": 46,
   "metadata": {},
   "outputs": [
    {
     "data": {
      "text/plain": [
       "Location\n",
       "South Africa    12\n",
       "Name: Institution, dtype: int64"
      ]
     },
     "execution_count": 46,
     "metadata": {},
     "output_type": "execute_result"
    }
   ],
   "source": [
    "wrld_uni_ranks[wrld_uni_ranks['Location'] == 'South Africa'].groupby('Location')['Institution'].count()"
   ]
  },
  {
   "cell_type": "markdown",
   "metadata": {},
   "source": [
    "Seeing there are 12 universities in South Africa, I am interested to see which university is highly ranked to end\n",
    "the superiority debate between Wits and Tuks students lol"
   ]
  },
  {
   "cell_type": "code",
   "execution_count": 77,
   "metadata": {},
   "outputs": [
    {
     "data": {
      "text/html": [
       "<div>\n",
       "<style scoped>\n",
       "    .dataframe tbody tr th:only-of-type {\n",
       "        vertical-align: middle;\n",
       "    }\n",
       "\n",
       "    .dataframe tbody tr th {\n",
       "        vertical-align: top;\n",
       "    }\n",
       "\n",
       "    .dataframe thead th {\n",
       "        text-align: right;\n",
       "    }\n",
       "</style>\n",
       "<table border=\"1\" class=\"dataframe\">\n",
       "  <thead>\n",
       "    <tr style=\"text-align: right;\">\n",
       "      <th></th>\n",
       "      <th>World Rank</th>\n",
       "      <th>Institution</th>\n",
       "    </tr>\n",
       "  </thead>\n",
       "  <tbody>\n",
       "    <tr>\n",
       "      <th>269</th>\n",
       "      <td>270</td>\n",
       "      <td>University of Cape Town</td>\n",
       "    </tr>\n",
       "    <tr>\n",
       "      <th>291</th>\n",
       "      <td>292</td>\n",
       "      <td>University of the Witwatersrand</td>\n",
       "    </tr>\n",
       "    <tr>\n",
       "      <th>440</th>\n",
       "      <td>441</td>\n",
       "      <td>Stellenbosch University</td>\n",
       "    </tr>\n",
       "    <tr>\n",
       "      <th>483</th>\n",
       "      <td>484</td>\n",
       "      <td>University of KwaZulu-Natal</td>\n",
       "    </tr>\n",
       "    <tr>\n",
       "      <th>554</th>\n",
       "      <td>555</td>\n",
       "      <td>University of Pretoria</td>\n",
       "    </tr>\n",
       "    <tr>\n",
       "      <th>628</th>\n",
       "      <td>629</td>\n",
       "      <td>University of Johannesburg</td>\n",
       "    </tr>\n",
       "    <tr>\n",
       "      <th>879</th>\n",
       "      <td>880</td>\n",
       "      <td>North-West University</td>\n",
       "    </tr>\n",
       "    <tr>\n",
       "      <th>1125</th>\n",
       "      <td>1126</td>\n",
       "      <td>University of the Free State</td>\n",
       "    </tr>\n",
       "    <tr>\n",
       "      <th>1185</th>\n",
       "      <td>1186</td>\n",
       "      <td>University of Western Cape</td>\n",
       "    </tr>\n",
       "    <tr>\n",
       "      <th>1301</th>\n",
       "      <td>1302</td>\n",
       "      <td>University of South Africa</td>\n",
       "    </tr>\n",
       "    <tr>\n",
       "      <th>1303</th>\n",
       "      <td>1304</td>\n",
       "      <td>Rhodes University</td>\n",
       "    </tr>\n",
       "    <tr>\n",
       "      <th>1635</th>\n",
       "      <td>1636</td>\n",
       "      <td>Nelson Mandela University</td>\n",
       "    </tr>\n",
       "  </tbody>\n",
       "</table>\n",
       "</div>"
      ],
      "text/plain": [
       "      World Rank                      Institution\n",
       "269          270          University of Cape Town\n",
       "291          292  University of the Witwatersrand\n",
       "440          441          Stellenbosch University\n",
       "483          484      University of KwaZulu-Natal\n",
       "554          555           University of Pretoria\n",
       "628          629       University of Johannesburg\n",
       "879          880            North-West University\n",
       "1125        1126     University of the Free State\n",
       "1185        1186       University of Western Cape\n",
       "1301        1302       University of South Africa\n",
       "1303        1304                Rhodes University\n",
       "1635        1636        Nelson Mandela University"
      ]
     },
     "execution_count": 77,
     "metadata": {},
     "output_type": "execute_result"
    }
   ],
   "source": [
    "# Quick look at the respective rankings on a global scale\n",
    "wrld_uni_ranks[wrld_uni_ranks['Location'] == 'South Africa'][['World Rank', 'Institution']].sort_values(by='World Rank')"
   ]
  },
  {
   "cell_type": "code",
   "execution_count": 171,
   "metadata": {},
   "outputs": [
    {
     "name": "stdout",
     "output_type": "stream",
     "text": [
      "Number of Universities in the top 1000 World ranks:\n",
      "7\n",
      "\n",
      "Number of Universities in the upper 1000 World ranks:\n",
      "5\n"
     ]
    }
   ],
   "source": [
    "# I actually thought of this when I was reviewing code for insights(last to be added)\n",
    "print('Number of Universities in the top 1000 World ranks:')\n",
    "print(wrld_uni_ranks[(wrld_uni_ranks['Location'] == 'South Africa') & (wrld_uni_ranks['World Rank'] < 1000)]['Institution'].count())\n",
    "print('')\n",
    "print('Number of Universities in the upper 1000 World ranks:')\n",
    "print(wrld_uni_ranks[(wrld_uni_ranks['Location'] == 'South Africa') & (wrld_uni_ranks['World Rank'] > 1000)]['Institution'].count())"
   ]
  },
  {
   "cell_type": "code",
   "execution_count": 96,
   "metadata": {},
   "outputs": [
    {
     "data": {
      "text/html": [
       "<div>\n",
       "<style scoped>\n",
       "    .dataframe tbody tr th:only-of-type {\n",
       "        vertical-align: middle;\n",
       "    }\n",
       "\n",
       "    .dataframe tbody tr th {\n",
       "        vertical-align: top;\n",
       "    }\n",
       "\n",
       "    .dataframe thead th {\n",
       "        text-align: right;\n",
       "    }\n",
       "</style>\n",
       "<table border=\"1\" class=\"dataframe\">\n",
       "  <thead>\n",
       "    <tr style=\"text-align: right;\">\n",
       "      <th></th>\n",
       "      <th>National Rank</th>\n",
       "      <th>Institution</th>\n",
       "      <th>Score</th>\n",
       "    </tr>\n",
       "  </thead>\n",
       "  <tbody>\n",
       "    <tr>\n",
       "      <th>269</th>\n",
       "      <td>1</td>\n",
       "      <td>University of Cape Town</td>\n",
       "      <td>77.2</td>\n",
       "    </tr>\n",
       "    <tr>\n",
       "      <th>291</th>\n",
       "      <td>2</td>\n",
       "      <td>University of the Witwatersrand</td>\n",
       "      <td>76.9</td>\n",
       "    </tr>\n",
       "    <tr>\n",
       "      <th>440</th>\n",
       "      <td>3</td>\n",
       "      <td>Stellenbosch University</td>\n",
       "      <td>74.8</td>\n",
       "    </tr>\n",
       "    <tr>\n",
       "      <th>483</th>\n",
       "      <td>4</td>\n",
       "      <td>University of KwaZulu-Natal</td>\n",
       "      <td>74.3</td>\n",
       "    </tr>\n",
       "    <tr>\n",
       "      <th>554</th>\n",
       "      <td>5</td>\n",
       "      <td>University of Pretoria</td>\n",
       "      <td>73.6</td>\n",
       "    </tr>\n",
       "    <tr>\n",
       "      <th>628</th>\n",
       "      <td>6</td>\n",
       "      <td>University of Johannesburg</td>\n",
       "      <td>72.9</td>\n",
       "    </tr>\n",
       "    <tr>\n",
       "      <th>879</th>\n",
       "      <td>7</td>\n",
       "      <td>North-West University</td>\n",
       "      <td>71.0</td>\n",
       "    </tr>\n",
       "    <tr>\n",
       "      <th>1125</th>\n",
       "      <td>8</td>\n",
       "      <td>University of the Free State</td>\n",
       "      <td>69.5</td>\n",
       "    </tr>\n",
       "    <tr>\n",
       "      <th>1185</th>\n",
       "      <td>9</td>\n",
       "      <td>University of Western Cape</td>\n",
       "      <td>69.2</td>\n",
       "    </tr>\n",
       "    <tr>\n",
       "      <th>1301</th>\n",
       "      <td>10</td>\n",
       "      <td>University of South Africa</td>\n",
       "      <td>68.6</td>\n",
       "    </tr>\n",
       "    <tr>\n",
       "      <th>1303</th>\n",
       "      <td>11</td>\n",
       "      <td>Rhodes University</td>\n",
       "      <td>68.6</td>\n",
       "    </tr>\n",
       "    <tr>\n",
       "      <th>1635</th>\n",
       "      <td>12</td>\n",
       "      <td>Nelson Mandela University</td>\n",
       "      <td>67.1</td>\n",
       "    </tr>\n",
       "  </tbody>\n",
       "</table>\n",
       "</div>"
      ],
      "text/plain": [
       "      National Rank                      Institution  Score\n",
       "269               1          University of Cape Town   77.2\n",
       "291               2  University of the Witwatersrand   76.9\n",
       "440               3          Stellenbosch University   74.8\n",
       "483               4      University of KwaZulu-Natal   74.3\n",
       "554               5           University of Pretoria   73.6\n",
       "628               6       University of Johannesburg   72.9\n",
       "879               7            North-West University   71.0\n",
       "1125              8     University of the Free State   69.5\n",
       "1185              9       University of Western Cape   69.2\n",
       "1301             10       University of South Africa   68.6\n",
       "1303             11                Rhodes University   68.6\n",
       "1635             12        Nelson Mandela University   67.1"
      ]
     },
     "execution_count": 96,
     "metadata": {},
     "output_type": "execute_result"
    }
   ],
   "source": [
    "# University rankings in South Africa\n",
    "wrld_uni_ranks[wrld_uni_ranks['Location'] == 'South Africa'][['National Rank', 'Institution', 'Score']].sort_values(by='National Rank')"
   ]
  },
  {
   "cell_type": "markdown",
   "metadata": {},
   "source": [
    "I will now look into the top 3 universties by the different ranking categories\n",
    "\n",
    "This includes education, employability, faculty and resreach"
   ]
  },
  {
   "cell_type": "code",
   "execution_count": 97,
   "metadata": {},
   "outputs": [
    {
     "data": {
      "text/html": [
       "<div>\n",
       "<style scoped>\n",
       "    .dataframe tbody tr th:only-of-type {\n",
       "        vertical-align: middle;\n",
       "    }\n",
       "\n",
       "    .dataframe tbody tr th {\n",
       "        vertical-align: top;\n",
       "    }\n",
       "\n",
       "    .dataframe thead th {\n",
       "        text-align: right;\n",
       "    }\n",
       "</style>\n",
       "<table border=\"1\" class=\"dataframe\">\n",
       "  <thead>\n",
       "    <tr style=\"text-align: right;\">\n",
       "      <th></th>\n",
       "      <th>World Rank</th>\n",
       "      <th>Institution</th>\n",
       "      <th>Location</th>\n",
       "      <th>National Rank</th>\n",
       "      <th>Education Rank</th>\n",
       "      <th>Employability Rank</th>\n",
       "      <th>Faculty Rank</th>\n",
       "      <th>Research Rank</th>\n",
       "      <th>Score</th>\n",
       "    </tr>\n",
       "  </thead>\n",
       "  <tbody>\n",
       "    <tr>\n",
       "      <th>269</th>\n",
       "      <td>270</td>\n",
       "      <td>University of Cape Town</td>\n",
       "      <td>South Africa</td>\n",
       "      <td>1</td>\n",
       "      <td>178</td>\n",
       "      <td>237</td>\n",
       "      <td>-</td>\n",
       "      <td>250</td>\n",
       "      <td>77.2</td>\n",
       "    </tr>\n",
       "    <tr>\n",
       "      <th>291</th>\n",
       "      <td>292</td>\n",
       "      <td>University of the Witwatersrand</td>\n",
       "      <td>South Africa</td>\n",
       "      <td>2</td>\n",
       "      <td>193</td>\n",
       "      <td>99</td>\n",
       "      <td>-</td>\n",
       "      <td>327</td>\n",
       "      <td>76.9</td>\n",
       "    </tr>\n",
       "    <tr>\n",
       "      <th>440</th>\n",
       "      <td>441</td>\n",
       "      <td>Stellenbosch University</td>\n",
       "      <td>South Africa</td>\n",
       "      <td>3</td>\n",
       "      <td>-</td>\n",
       "      <td>195</td>\n",
       "      <td>-</td>\n",
       "      <td>462</td>\n",
       "      <td>74.8</td>\n",
       "    </tr>\n",
       "    <tr>\n",
       "      <th>483</th>\n",
       "      <td>484</td>\n",
       "      <td>University of KwaZulu-Natal</td>\n",
       "      <td>South Africa</td>\n",
       "      <td>4</td>\n",
       "      <td>497</td>\n",
       "      <td>361</td>\n",
       "      <td>-</td>\n",
       "      <td>475</td>\n",
       "      <td>74.3</td>\n",
       "    </tr>\n",
       "    <tr>\n",
       "      <th>554</th>\n",
       "      <td>555</td>\n",
       "      <td>University of Pretoria</td>\n",
       "      <td>South Africa</td>\n",
       "      <td>5</td>\n",
       "      <td>-</td>\n",
       "      <td>739</td>\n",
       "      <td>-</td>\n",
       "      <td>526</td>\n",
       "      <td>73.6</td>\n",
       "    </tr>\n",
       "    <tr>\n",
       "      <th>628</th>\n",
       "      <td>629</td>\n",
       "      <td>University of Johannesburg</td>\n",
       "      <td>South Africa</td>\n",
       "      <td>6</td>\n",
       "      <td>-</td>\n",
       "      <td>1040</td>\n",
       "      <td>-</td>\n",
       "      <td>599</td>\n",
       "      <td>72.9</td>\n",
       "    </tr>\n",
       "    <tr>\n",
       "      <th>879</th>\n",
       "      <td>880</td>\n",
       "      <td>North-West University</td>\n",
       "      <td>South Africa</td>\n",
       "      <td>7</td>\n",
       "      <td>-</td>\n",
       "      <td>-</td>\n",
       "      <td>-</td>\n",
       "      <td>837</td>\n",
       "      <td>71.0</td>\n",
       "    </tr>\n",
       "    <tr>\n",
       "      <th>1125</th>\n",
       "      <td>1126</td>\n",
       "      <td>University of the Free State</td>\n",
       "      <td>South Africa</td>\n",
       "      <td>8</td>\n",
       "      <td>-</td>\n",
       "      <td>-</td>\n",
       "      <td>-</td>\n",
       "      <td>1076</td>\n",
       "      <td>69.5</td>\n",
       "    </tr>\n",
       "    <tr>\n",
       "      <th>1185</th>\n",
       "      <td>1186</td>\n",
       "      <td>University of Western Cape</td>\n",
       "      <td>South Africa</td>\n",
       "      <td>9</td>\n",
       "      <td>-</td>\n",
       "      <td>-</td>\n",
       "      <td>-</td>\n",
       "      <td>1133</td>\n",
       "      <td>69.2</td>\n",
       "    </tr>\n",
       "    <tr>\n",
       "      <th>1301</th>\n",
       "      <td>1302</td>\n",
       "      <td>University of South Africa</td>\n",
       "      <td>South Africa</td>\n",
       "      <td>10</td>\n",
       "      <td>-</td>\n",
       "      <td>950</td>\n",
       "      <td>-</td>\n",
       "      <td>1249</td>\n",
       "      <td>68.6</td>\n",
       "    </tr>\n",
       "    <tr>\n",
       "      <th>1303</th>\n",
       "      <td>1304</td>\n",
       "      <td>Rhodes University</td>\n",
       "      <td>South Africa</td>\n",
       "      <td>11</td>\n",
       "      <td>374</td>\n",
       "      <td>858</td>\n",
       "      <td>-</td>\n",
       "      <td>1256</td>\n",
       "      <td>68.6</td>\n",
       "    </tr>\n",
       "    <tr>\n",
       "      <th>1635</th>\n",
       "      <td>1636</td>\n",
       "      <td>Nelson Mandela University</td>\n",
       "      <td>South Africa</td>\n",
       "      <td>12</td>\n",
       "      <td>-</td>\n",
       "      <td>1327</td>\n",
       "      <td>-</td>\n",
       "      <td>1565</td>\n",
       "      <td>67.1</td>\n",
       "    </tr>\n",
       "  </tbody>\n",
       "</table>\n",
       "</div>"
      ],
      "text/plain": [
       "      World Rank                      Institution      Location  \\\n",
       "269          270          University of Cape Town  South Africa   \n",
       "291          292  University of the Witwatersrand  South Africa   \n",
       "440          441          Stellenbosch University  South Africa   \n",
       "483          484      University of KwaZulu-Natal  South Africa   \n",
       "554          555           University of Pretoria  South Africa   \n",
       "628          629       University of Johannesburg  South Africa   \n",
       "879          880            North-West University  South Africa   \n",
       "1125        1126     University of the Free State  South Africa   \n",
       "1185        1186       University of Western Cape  South Africa   \n",
       "1301        1302       University of South Africa  South Africa   \n",
       "1303        1304                Rhodes University  South Africa   \n",
       "1635        1636        Nelson Mandela University  South Africa   \n",
       "\n",
       "      National Rank Education Rank Employability Rank Faculty Rank  \\\n",
       "269               1            178                237            -   \n",
       "291               2            193                 99            -   \n",
       "440               3              -                195            -   \n",
       "483               4            497                361            -   \n",
       "554               5              -                739            -   \n",
       "628               6              -               1040            -   \n",
       "879               7              -                  -            -   \n",
       "1125              8              -                  -            -   \n",
       "1185              9              -                  -            -   \n",
       "1301             10              -                950            -   \n",
       "1303             11            374                858            -   \n",
       "1635             12              -               1327            -   \n",
       "\n",
       "     Research Rank  Score  \n",
       "269            250   77.2  \n",
       "291            327   76.9  \n",
       "440            462   74.8  \n",
       "483            475   74.3  \n",
       "554            526   73.6  \n",
       "628            599   72.9  \n",
       "879            837   71.0  \n",
       "1125          1076   69.5  \n",
       "1185          1133   69.2  \n",
       "1301          1249   68.6  \n",
       "1303          1256   68.6  \n",
       "1635          1565   67.1  "
      ]
     },
     "execution_count": 97,
     "metadata": {},
     "output_type": "execute_result"
    }
   ],
   "source": [
    "wrld_uni_ranks[wrld_uni_ranks['Location'] == 'South Africa']"
   ]
  },
  {
   "cell_type": "markdown",
   "metadata": {},
   "source": [
    "For the purpose of this analysis I will assume '-' as no rank and not Null\n",
    "\n",
    "Since I am interested in the top 3, I will discard any columns with less than 3 numeric entries.\n",
    "\n",
    "Therefore I will discard the faculty category\n",
    "\n",
    "(I will convert all '-' to 0 temporarily due problems encountered when going through this phase) "
   ]
  },
  {
   "cell_type": "code",
   "execution_count": 157,
   "metadata": {},
   "outputs": [],
   "source": [
    "# Creating new data set to replace '-' with 0 and converting the columns from object to int \n",
    "# This is to resolve inaccuarate sorting when going through the top 3 analysis \n",
    "wrld_uni_ranks2 = wrld_uni_ranks[(wrld_uni_ranks['Location'] == 'South Africa')].replace('-', 0)\n",
    "wrld_uni_ranks2[['Education Rank', 'Employability Rank', 'Research Rank']] = wrld_uni_ranks2[['Education Rank', 'Employability Rank', 'Research Rank']].astype('int64')"
   ]
  },
  {
   "cell_type": "code",
   "execution_count": 161,
   "metadata": {},
   "outputs": [
    {
     "data": {
      "text/html": [
       "<div>\n",
       "<style scoped>\n",
       "    .dataframe tbody tr th:only-of-type {\n",
       "        vertical-align: middle;\n",
       "    }\n",
       "\n",
       "    .dataframe tbody tr th {\n",
       "        vertical-align: top;\n",
       "    }\n",
       "\n",
       "    .dataframe thead th {\n",
       "        text-align: right;\n",
       "    }\n",
       "</style>\n",
       "<table border=\"1\" class=\"dataframe\">\n",
       "  <thead>\n",
       "    <tr style=\"text-align: right;\">\n",
       "      <th></th>\n",
       "      <th>Education Rank</th>\n",
       "      <th>Institution</th>\n",
       "    </tr>\n",
       "  </thead>\n",
       "  <tbody>\n",
       "    <tr>\n",
       "      <th>269</th>\n",
       "      <td>178</td>\n",
       "      <td>University of Cape Town</td>\n",
       "    </tr>\n",
       "    <tr>\n",
       "      <th>291</th>\n",
       "      <td>193</td>\n",
       "      <td>University of the Witwatersrand</td>\n",
       "    </tr>\n",
       "    <tr>\n",
       "      <th>1303</th>\n",
       "      <td>374</td>\n",
       "      <td>Rhodes University</td>\n",
       "    </tr>\n",
       "  </tbody>\n",
       "</table>\n",
       "</div>"
      ],
      "text/plain": [
       "      Education Rank                      Institution\n",
       "269              178          University of Cape Town\n",
       "291              193  University of the Witwatersrand\n",
       "1303             374                Rhodes University"
      ]
     },
     "execution_count": 161,
     "metadata": {},
     "output_type": "execute_result"
    }
   ],
   "source": [
    "# Top 3 in the Education category\n",
    "wrld_uni_ranks2[(wrld_uni_ranks2['Location'] == 'South Africa') & (wrld_uni_ranks2['Education Rank'] != 0)][['Education Rank', 'Institution']].replace('-',0).sort_values(by='Education Rank').head(3)"
   ]
  },
  {
   "cell_type": "code",
   "execution_count": 156,
   "metadata": {},
   "outputs": [
    {
     "data": {
      "text/html": [
       "<div>\n",
       "<style scoped>\n",
       "    .dataframe tbody tr th:only-of-type {\n",
       "        vertical-align: middle;\n",
       "    }\n",
       "\n",
       "    .dataframe tbody tr th {\n",
       "        vertical-align: top;\n",
       "    }\n",
       "\n",
       "    .dataframe thead th {\n",
       "        text-align: right;\n",
       "    }\n",
       "</style>\n",
       "<table border=\"1\" class=\"dataframe\">\n",
       "  <thead>\n",
       "    <tr style=\"text-align: right;\">\n",
       "      <th></th>\n",
       "      <th>Employability Rank</th>\n",
       "      <th>Institution</th>\n",
       "    </tr>\n",
       "  </thead>\n",
       "  <tbody>\n",
       "    <tr>\n",
       "      <th>291</th>\n",
       "      <td>99</td>\n",
       "      <td>University of the Witwatersrand</td>\n",
       "    </tr>\n",
       "    <tr>\n",
       "      <th>440</th>\n",
       "      <td>195</td>\n",
       "      <td>Stellenbosch University</td>\n",
       "    </tr>\n",
       "    <tr>\n",
       "      <th>269</th>\n",
       "      <td>237</td>\n",
       "      <td>University of Cape Town</td>\n",
       "    </tr>\n",
       "  </tbody>\n",
       "</table>\n",
       "</div>"
      ],
      "text/plain": [
       "     Employability Rank                      Institution\n",
       "291                  99  University of the Witwatersrand\n",
       "440                 195          Stellenbosch University\n",
       "269                 237          University of Cape Town"
      ]
     },
     "execution_count": 156,
     "metadata": {},
     "output_type": "execute_result"
    }
   ],
   "source": [
    "# Top 3 in the Employability category\n",
    "wrld_uni_ranks2[(wrld_uni_ranks2['Location'] == 'South Africa') & (wrld_uni_ranks2['Employability Rank'] != 0)][['Employability Rank', 'Institution']].sort_values(by='Employability Rank').head(3)"
   ]
  },
  {
   "cell_type": "code",
   "execution_count": 160,
   "metadata": {},
   "outputs": [
    {
     "data": {
      "text/html": [
       "<div>\n",
       "<style scoped>\n",
       "    .dataframe tbody tr th:only-of-type {\n",
       "        vertical-align: middle;\n",
       "    }\n",
       "\n",
       "    .dataframe tbody tr th {\n",
       "        vertical-align: top;\n",
       "    }\n",
       "\n",
       "    .dataframe thead th {\n",
       "        text-align: right;\n",
       "    }\n",
       "</style>\n",
       "<table border=\"1\" class=\"dataframe\">\n",
       "  <thead>\n",
       "    <tr style=\"text-align: right;\">\n",
       "      <th></th>\n",
       "      <th>Research Rank</th>\n",
       "      <th>Institution</th>\n",
       "    </tr>\n",
       "  </thead>\n",
       "  <tbody>\n",
       "    <tr>\n",
       "      <th>269</th>\n",
       "      <td>250</td>\n",
       "      <td>University of Cape Town</td>\n",
       "    </tr>\n",
       "    <tr>\n",
       "      <th>291</th>\n",
       "      <td>327</td>\n",
       "      <td>University of the Witwatersrand</td>\n",
       "    </tr>\n",
       "    <tr>\n",
       "      <th>440</th>\n",
       "      <td>462</td>\n",
       "      <td>Stellenbosch University</td>\n",
       "    </tr>\n",
       "  </tbody>\n",
       "</table>\n",
       "</div>"
      ],
      "text/plain": [
       "     Research Rank                      Institution\n",
       "269            250          University of Cape Town\n",
       "291            327  University of the Witwatersrand\n",
       "440            462          Stellenbosch University"
      ]
     },
     "execution_count": 160,
     "metadata": {},
     "output_type": "execute_result"
    }
   ],
   "source": [
    "# Top 3 in the Research category\n",
    "wrld_uni_ranks2[(wrld_uni_ranks2['Location'] == 'South Africa') & (wrld_uni_ranks2['Research Rank'] != 0)][['Research Rank', 'Institution']].sort_values(by='Research Rank').head(3)"
   ]
  },
  {
   "cell_type": "markdown",
   "metadata": {},
   "source": [
    "### Insights\n",
    "\n",
    "* There are 12 universities from South Africa in the top 2000 university world ranking as by CWUR\n",
    "* 7 of these universities are in the top 1000 world rankings\n",
    "* 5 in the upper 1000\n",
    "* The University of Cape Town (UCT) is ranked 1st in South Africa on a global scale\n",
    "* UCT is also 1st in the Education category\n",
    "* The University of Witwatersrand (Wits) is 1st in the Employability category\n",
    "* UCT is 1st in the Research category\n",
    "* UCT and Wits are in the top 3 rankings across all categories in South Africa"
   ]
  },
  {
   "cell_type": "markdown",
   "metadata": {},
   "source": [
    "## Conclusion\n",
    "If you are Research focused your best options are in the following order, University of Cape Town, University of the Witwatersrand and Stellenbosch University.\n",
    "\n",
    "If your goal is to attain academic accolades, you will have a better chance choosing the following in order,  University of Cape Town, University of the Witwatersrand  and Rhodes University.\n",
    "\n",
    "For those that are career focused, you have a higher chance in holding a top position in a major company if you have a background from the University of the Witwatersrand, Stellenbosch University and University of Cape Town in order."
   ]
  }
 ],
 "metadata": {
  "kernelspec": {
   "display_name": "Python 3.9.12 ('base')",
   "language": "python",
   "name": "python3"
  },
  "language_info": {
   "codemirror_mode": {
    "name": "ipython",
    "version": 3
   },
   "file_extension": ".py",
   "mimetype": "text/x-python",
   "name": "python",
   "nbconvert_exporter": "python",
   "pygments_lexer": "ipython3",
   "version": "3.9.12"
  },
  "orig_nbformat": 4,
  "vscode": {
   "interpreter": {
    "hash": "957d859b40b0211d74c5c43fc51ff77d71cd365e4a62c1cdcfedf0a33be2cc80"
   }
  }
 },
 "nbformat": 4,
 "nbformat_minor": 2
}

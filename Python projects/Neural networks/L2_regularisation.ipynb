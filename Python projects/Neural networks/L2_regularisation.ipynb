{
 "cells": [
  {
   "cell_type": "markdown",
   "metadata": {},
   "source": [
    "# L2 regularisation on a multilayer perceptron neural network\n",
    "## In this lab I will demonstrate the impact and importance of regularisation on neural networks by modelling the factors that impact a vehicles fuel efficiency using data from kaggle.com. I will further demonstrate the use of neural networks in setting design guidelines for the automotive industry and dive into the consequences that can result in using an inaccurate model. \n",
    "## Insights and suggestions are based on the results of a response curve.\n",
    "## The flexibility of neural networks allows it to model non-linear relationships and capture the true relationship and patterns in the data. \n",
    "### **Importing libraries and loading data**"
   ]
  },
  {
   "cell_type": "code",
   "execution_count": 4,
   "metadata": {},
   "outputs": [],
   "source": [
    "import pandas as pd\n",
    "import numpy as np\n",
    "import matplotlib.pyplot as plt\n",
    "import seaborn as sns\n",
    "from sklearn.preprocessing import StandardScaler\n",
    "from sklearn.neural_network import MLPRegressor\n",
    "from sklearn.model_selection import train_test_split, cross_val_score\n",
    "from sklearn.metrics import mean_squared_error\n",
    "import itertools\n",
    "\n",
    "from warnings import filterwarnings\n",
    "filterwarnings('ignore')"
   ]
  },
  {
   "cell_type": "code",
   "execution_count": 5,
   "metadata": {},
   "outputs": [
    {
     "data": {
      "text/html": [
       "<div>\n",
       "<style scoped>\n",
       "    .dataframe tbody tr th:only-of-type {\n",
       "        vertical-align: middle;\n",
       "    }\n",
       "\n",
       "    .dataframe tbody tr th {\n",
       "        vertical-align: top;\n",
       "    }\n",
       "\n",
       "    .dataframe thead th {\n",
       "        text-align: right;\n",
       "    }\n",
       "</style>\n",
       "<table border=\"1\" class=\"dataframe\">\n",
       "  <thead>\n",
       "    <tr style=\"text-align: right;\">\n",
       "      <th></th>\n",
       "      <th>mpg</th>\n",
       "      <th>cylinders</th>\n",
       "      <th>displacement</th>\n",
       "      <th>horsepower</th>\n",
       "      <th>weight</th>\n",
       "      <th>acceleration</th>\n",
       "      <th>model year</th>\n",
       "      <th>origin</th>\n",
       "      <th>car name</th>\n",
       "    </tr>\n",
       "  </thead>\n",
       "  <tbody>\n",
       "    <tr>\n",
       "      <th>111</th>\n",
       "      <td>18.0</td>\n",
       "      <td>3</td>\n",
       "      <td>70.0</td>\n",
       "      <td>90</td>\n",
       "      <td>2124</td>\n",
       "      <td>13.5</td>\n",
       "      <td>73</td>\n",
       "      <td>3</td>\n",
       "      <td>maxda rx3</td>\n",
       "    </tr>\n",
       "    <tr>\n",
       "      <th>218</th>\n",
       "      <td>36.0</td>\n",
       "      <td>4</td>\n",
       "      <td>79.0</td>\n",
       "      <td>58</td>\n",
       "      <td>1825</td>\n",
       "      <td>18.6</td>\n",
       "      <td>77</td>\n",
       "      <td>2</td>\n",
       "      <td>renault 5 gtl</td>\n",
       "    </tr>\n",
       "    <tr>\n",
       "      <th>327</th>\n",
       "      <td>36.4</td>\n",
       "      <td>5</td>\n",
       "      <td>121.0</td>\n",
       "      <td>67</td>\n",
       "      <td>2950</td>\n",
       "      <td>19.9</td>\n",
       "      <td>80</td>\n",
       "      <td>2</td>\n",
       "      <td>audi 5000s (diesel)</td>\n",
       "    </tr>\n",
       "    <tr>\n",
       "      <th>76</th>\n",
       "      <td>18.0</td>\n",
       "      <td>4</td>\n",
       "      <td>121.0</td>\n",
       "      <td>112</td>\n",
       "      <td>2933</td>\n",
       "      <td>14.5</td>\n",
       "      <td>72</td>\n",
       "      <td>2</td>\n",
       "      <td>volvo 145e (sw)</td>\n",
       "    </tr>\n",
       "    <tr>\n",
       "      <th>234</th>\n",
       "      <td>24.5</td>\n",
       "      <td>4</td>\n",
       "      <td>151.0</td>\n",
       "      <td>88</td>\n",
       "      <td>2740</td>\n",
       "      <td>16.0</td>\n",
       "      <td>77</td>\n",
       "      <td>1</td>\n",
       "      <td>pontiac sunbird coupe</td>\n",
       "    </tr>\n",
       "  </tbody>\n",
       "</table>\n",
       "</div>"
      ],
      "text/plain": [
       "      mpg  cylinders  displacement horsepower  weight  acceleration  \\\n",
       "111  18.0          3          70.0         90    2124          13.5   \n",
       "218  36.0          4          79.0         58    1825          18.6   \n",
       "327  36.4          5         121.0         67    2950          19.9   \n",
       "76   18.0          4         121.0        112    2933          14.5   \n",
       "234  24.5          4         151.0         88    2740          16.0   \n",
       "\n",
       "     model year  origin               car name  \n",
       "111          73       3              maxda rx3  \n",
       "218          77       2          renault 5 gtl  \n",
       "327          80       2    audi 5000s (diesel)  \n",
       "76           72       2        volvo 145e (sw)  \n",
       "234          77       1  pontiac sunbird coupe  "
      ]
     },
     "execution_count": 5,
     "metadata": {},
     "output_type": "execute_result"
    }
   ],
   "source": [
    "auto = pd.read_csv('auto-mpg.csv')\n",
    "auto.sample(5)"
   ]
  },
  {
   "cell_type": "code",
   "execution_count": 6,
   "metadata": {},
   "outputs": [
    {
     "name": "stdout",
     "output_type": "stream",
     "text": [
      "(398, 9)\n",
      "Null values: 0\n",
      " \n",
      "<class 'pandas.core.frame.DataFrame'>\n",
      "RangeIndex: 398 entries, 0 to 397\n",
      "Data columns (total 9 columns):\n",
      " #   Column        Non-Null Count  Dtype  \n",
      "---  ------        --------------  -----  \n",
      " 0   mpg           398 non-null    float64\n",
      " 1   cylinders     398 non-null    int64  \n",
      " 2   displacement  398 non-null    float64\n",
      " 3   horsepower    398 non-null    object \n",
      " 4   weight        398 non-null    int64  \n",
      " 5   acceleration  398 non-null    float64\n",
      " 6   model year    398 non-null    int64  \n",
      " 7   origin        398 non-null    int64  \n",
      " 8   car name      398 non-null    object \n",
      "dtypes: float64(3), int64(4), object(2)\n",
      "memory usage: 28.1+ KB\n",
      "None\n"
     ]
    }
   ],
   "source": [
    "print(auto.shape)\n",
    "print('Null values:', auto.isna().sum().sum())\n",
    "print(' ')\n",
    "print(auto.info())"
   ]
  },
  {
   "cell_type": "markdown",
   "metadata": {},
   "source": [
    "### The attribute `horsepower` is an object data type instead of int. This indicates that there are possible invalid entries.\n",
    "### **Data cleaning**"
   ]
  },
  {
   "cell_type": "code",
   "execution_count": 7,
   "metadata": {},
   "outputs": [
    {
     "data": {
      "text/html": [
       "<div>\n",
       "<style scoped>\n",
       "    .dataframe tbody tr th:only-of-type {\n",
       "        vertical-align: middle;\n",
       "    }\n",
       "\n",
       "    .dataframe tbody tr th {\n",
       "        vertical-align: top;\n",
       "    }\n",
       "\n",
       "    .dataframe thead th {\n",
       "        text-align: right;\n",
       "    }\n",
       "</style>\n",
       "<table border=\"1\" class=\"dataframe\">\n",
       "  <thead>\n",
       "    <tr style=\"text-align: right;\">\n",
       "      <th></th>\n",
       "      <th>mpg</th>\n",
       "      <th>cylinders</th>\n",
       "      <th>displacement</th>\n",
       "      <th>horsepower</th>\n",
       "      <th>weight</th>\n",
       "      <th>acceleration</th>\n",
       "      <th>model year</th>\n",
       "      <th>origin</th>\n",
       "      <th>car name</th>\n",
       "    </tr>\n",
       "  </thead>\n",
       "  <tbody>\n",
       "    <tr>\n",
       "      <th>32</th>\n",
       "      <td>25.0</td>\n",
       "      <td>4</td>\n",
       "      <td>98.0</td>\n",
       "      <td>?</td>\n",
       "      <td>2046</td>\n",
       "      <td>19.0</td>\n",
       "      <td>71</td>\n",
       "      <td>1</td>\n",
       "      <td>ford pinto</td>\n",
       "    </tr>\n",
       "    <tr>\n",
       "      <th>126</th>\n",
       "      <td>21.0</td>\n",
       "      <td>6</td>\n",
       "      <td>200.0</td>\n",
       "      <td>?</td>\n",
       "      <td>2875</td>\n",
       "      <td>17.0</td>\n",
       "      <td>74</td>\n",
       "      <td>1</td>\n",
       "      <td>ford maverick</td>\n",
       "    </tr>\n",
       "    <tr>\n",
       "      <th>330</th>\n",
       "      <td>40.9</td>\n",
       "      <td>4</td>\n",
       "      <td>85.0</td>\n",
       "      <td>?</td>\n",
       "      <td>1835</td>\n",
       "      <td>17.3</td>\n",
       "      <td>80</td>\n",
       "      <td>2</td>\n",
       "      <td>renault lecar deluxe</td>\n",
       "    </tr>\n",
       "    <tr>\n",
       "      <th>336</th>\n",
       "      <td>23.6</td>\n",
       "      <td>4</td>\n",
       "      <td>140.0</td>\n",
       "      <td>?</td>\n",
       "      <td>2905</td>\n",
       "      <td>14.3</td>\n",
       "      <td>80</td>\n",
       "      <td>1</td>\n",
       "      <td>ford mustang cobra</td>\n",
       "    </tr>\n",
       "    <tr>\n",
       "      <th>354</th>\n",
       "      <td>34.5</td>\n",
       "      <td>4</td>\n",
       "      <td>100.0</td>\n",
       "      <td>?</td>\n",
       "      <td>2320</td>\n",
       "      <td>15.8</td>\n",
       "      <td>81</td>\n",
       "      <td>2</td>\n",
       "      <td>renault 18i</td>\n",
       "    </tr>\n",
       "    <tr>\n",
       "      <th>374</th>\n",
       "      <td>23.0</td>\n",
       "      <td>4</td>\n",
       "      <td>151.0</td>\n",
       "      <td>?</td>\n",
       "      <td>3035</td>\n",
       "      <td>20.5</td>\n",
       "      <td>82</td>\n",
       "      <td>1</td>\n",
       "      <td>amc concord dl</td>\n",
       "    </tr>\n",
       "  </tbody>\n",
       "</table>\n",
       "</div>"
      ],
      "text/plain": [
       "      mpg  cylinders  displacement horsepower  weight  acceleration  \\\n",
       "32   25.0          4          98.0          ?    2046          19.0   \n",
       "126  21.0          6         200.0          ?    2875          17.0   \n",
       "330  40.9          4          85.0          ?    1835          17.3   \n",
       "336  23.6          4         140.0          ?    2905          14.3   \n",
       "354  34.5          4         100.0          ?    2320          15.8   \n",
       "374  23.0          4         151.0          ?    3035          20.5   \n",
       "\n",
       "     model year  origin              car name  \n",
       "32           71       1            ford pinto  \n",
       "126          74       1         ford maverick  \n",
       "330          80       2  renault lecar deluxe  \n",
       "336          80       1    ford mustang cobra  \n",
       "354          81       2           renault 18i  \n",
       "374          82       1        amc concord dl  "
      ]
     },
     "execution_count": 7,
     "metadata": {},
     "output_type": "execute_result"
    }
   ],
   "source": [
    "# Common data issue\n",
    "auto[auto['horsepower'] == '?']"
   ]
  },
  {
   "cell_type": "code",
   "execution_count": 8,
   "metadata": {},
   "outputs": [
    {
     "name": "stdout",
     "output_type": "stream",
     "text": [
      "(392, 9)\n",
      "Null values: 0\n",
      "Horsepower data type is int32\n"
     ]
    }
   ],
   "source": [
    "auto = auto.replace('?', np.nan)\n",
    "auto.dropna(inplace= True)\n",
    "auto['horsepower'] = auto['horsepower'].astype('int')\n",
    "\n",
    "print(auto.shape)\n",
    "print('Null values:', auto.isna().sum().sum())\n",
    "print('Horsepower data type is', auto['horsepower'].dtype)"
   ]
  },
  {
   "cell_type": "markdown",
   "metadata": {},
   "source": [
    "### There were only 6 invalid entries which has now been removed and converted the horsepower feature into its correct data type. This leaves us with 392 vehicles with 8 features that impacts a vehicles fuel effeciency.\n",
    "### **Feature selection and scaling**\n",
    "### All features except car name will be used in the neural network to model the relationships affecting a vehicles fuel effeciency. This will then be split into a training and test set to determine the performance of our model."
   ]
  },
  {
   "cell_type": "code",
   "execution_count": 9,
   "metadata": {},
   "outputs": [],
   "source": [
    "X = auto.drop(columns= ['mpg', 'car name'])\n",
    "y = auto['mpg']\n",
    "\n",
    "y = np.ravel(y)\n",
    "\n",
    "X_train, X_test, y_train, y_test = train_test_split(X, y, random_state= 0) "
   ]
  },
  {
   "cell_type": "markdown",
   "metadata": {},
   "source": [
    "### Feature scaling is useful in improving the training process and the overall performance of the model. This is done by weighting data on the same scale to prevent larger values from dominating the model."
   ]
  },
  {
   "cell_type": "code",
   "execution_count": 10,
   "metadata": {},
   "outputs": [],
   "source": [
    "scaler = StandardScaler().fit(X_train)\n",
    "X_train = scaler.transform(X_train)\n",
    "X_test = scaler.transform(X_test)"
   ]
  },
  {
   "cell_type": "markdown",
   "metadata": {},
   "source": [
    "### **Parameter tuning**\n",
    "### This model will make use of one hidden layer. In order to determine the optimal nodes in the hidden layer, I will use the k-fold cross-validation approach. The node with the highest validation score will be selected.\n",
    "### This is then followed by calculating the mean squared error (mse) on the test data before regularisation."
   ]
  },
  {
   "cell_type": "code",
   "execution_count": 11,
   "metadata": {},
   "outputs": [
    {
     "name": "stdout",
     "output_type": "stream",
     "text": [
      "Nodes: Score\n",
      "4 : 0.734\n",
      "5 : 0.800\n",
      "6 : 0.811\n",
      " \n",
      "Optimal node gives us a score of : 0.811\n",
      "This corresponds to 6 nodes\n"
     ]
    }
   ],
   "source": [
    "val_score = {}\n",
    "print('Nodes: Score')\n",
    "\n",
    "for hidden_layer_node in range(4, 7):\n",
    "    mlpr = MLPRegressor(max_iter= 1200, solver= 'lbfgs', activation= 'tanh',\n",
    "                        hidden_layer_sizes= hidden_layer_node, random_state= 1)\n",
    "    \n",
    "    score = cross_val_score(estimator= mlpr, X= X_train, y= y_train, cv= 5)\n",
    "    val_score[hidden_layer_node] = score.mean()\n",
    "    \n",
    "    print(hidden_layer_node, ': %0.3f' % val_score[hidden_layer_node])\n",
    "print(' ')\n",
    "print('Optimal node gives us a score of', ': %0.3f' % max(val_score.values()))\n",
    "best_node = max(val_score, key= val_score.get)\n",
    "print(\"This corresponds to %s nodes\" % best_node)"
   ]
  },
  {
   "cell_type": "code",
   "execution_count": 12,
   "metadata": {},
   "outputs": [
    {
     "name": "stdout",
     "output_type": "stream",
     "text": [
      "Mean sqaured error: : 10.940\n"
     ]
    }
   ],
   "source": [
    "mlpr = MLPRegressor(max_iter= 1200, solver= 'lbfgs', activation= 'tanh',\n",
    "                    hidden_layer_sizes= (6), random_state= 1)\n",
    "mlpr = mlpr.fit(X_train, y_train)\n",
    "\n",
    "y_pred = mlpr.predict(X_test)\n",
    "mse = mean_squared_error(y_test, y_pred)\n",
    "print('Mean sqaured error:', ': %0.3f' % (mse))"
   ]
  },
  {
   "cell_type": "markdown",
   "metadata": {},
   "source": [
    "### Through cross-validation, it is determined that the optimal nodes to use in the network is 6 . This results to the model having a mean sqaured error of 10.940 on our test data.\n",
    "### **L2 regularisation**\n",
    "### I will apply L2 regularisation by tuning the `alpha` hyperparameter and selecting the value that results to the lowest mse on the training set.\n",
    "### L2 regularisation is a technique used to avoid overfitting the noise in the data. This is done by introducing a penalty term to the cost function to regulate the weights in the neural network. This is achieved by pushing large weights in the network closer to 0, this phenomenon is known as weight decay."
   ]
  },
  {
   "cell_type": "code",
   "execution_count": 13,
   "metadata": {},
   "outputs": [
    {
     "name": "stdout",
     "output_type": "stream",
     "text": [
      " alpha  |  Sq.Error\n",
      "0.04979 |  11.769499\n",
      "0.13534 |  11.560965\n",
      "0.36788 |  9.217541\n",
      "1.00000 |  9.076877\n",
      "2.71828 |  8.214131\n",
      "7.38906 |  7.583204\n",
      "20.08554 |  7.776923\n",
      "54.59815 |  9.968656\n",
      "148.41316 |  15.211338\n",
      " \n",
      "The lowest cross validation error is 7.583204\n",
      "This corresponds to regularisation parameter e**2.0\n"
     ]
    }
   ],
   "source": [
    "reg_par = [np.e**n for n in np.arange(-3,6,1)] \n",
    "\n",
    "# Optimise neural network with regularisation\n",
    "val_scores1 = {}\n",
    "print(\" alpha  |  Sq.Error\")  \n",
    "\n",
    "for param in reg_par:\n",
    "    mlpr1 = MLPRegressor(max_iter= 12000, solver= 'lbfgs', activation= 'tanh', \n",
    "                        hidden_layer_sizes= (6), alpha= param, random_state= 1)\n",
    "    score1 = cross_val_score(estimator= mlpr1, X= X_train, y= y_train, \n",
    "                            cv= 5, scoring= \"neg_mean_squared_error\")\n",
    "    val_scores1[param] = -score1.mean()\n",
    "    print(\"%0.5f |  %0.6f\" % (param, -score1.mean()))\n",
    "\n",
    "print(' ')\n",
    "print(\"The lowest cross validation error is %f\" % min(val_scores1.values()))\n",
    "best_reg_param = min(val_scores1, key= val_scores1.get)\n",
    "print(\"This corresponds to regularisation parameter e**%s\" % np.log(best_reg_param))"
   ]
  },
  {
   "cell_type": "markdown",
   "metadata": {},
   "source": [
    "### By comparing the mse, we find that the optimal value for alpha is 2 which provides the lowest mse on the training data. This will be used for the final model to observe if there is any changes on the mse for the test data.\n",
    "### Below is a visual representation of this test for lowest mse."
   ]
  },
  {
   "cell_type": "code",
   "execution_count": 14,
   "metadata": {},
   "outputs": [
    {
     "data": {
      "text/plain": [
       "Text(0, 0.5, 'Mean Sq Error')"
      ]
     },
     "execution_count": 14,
     "metadata": {},
     "output_type": "execute_result"
    },
    {
     "data": {
      "image/png": "[encoded data removed]",
      "text/plain": [
       "<Figure size 640x480 with 1 Axes>"
      ]
     },
     "metadata": {},
     "output_type": "display_data"
    }
   ],
   "source": [
    "plt.plot([np.log(i) for i in val_scores1.keys()], list(val_scores1.values()))\n",
    "plt.xlabel(\"Ln of alpha\")\n",
    "plt.ylabel(\"Mean Sq Error\")"
   ]
  },
  {
   "cell_type": "code",
   "execution_count": 15,
   "metadata": {},
   "outputs": [
    {
     "name": "stdout",
     "output_type": "stream",
     "text": [
      "Mean sqaured error: : 9.080\n"
     ]
    }
   ],
   "source": [
    "mlpr1 = MLPRegressor(max_iter= 1200, solver= 'lbfgs', activation= 'tanh',\n",
    "                    hidden_layer_sizes= (6), alpha= 2, random_state= 1)\n",
    "mlpr1 = mlpr1.fit(X_train, y_train)\n",
    "\n",
    "y_pred1 = mlpr1.predict(X_test)\n",
    "mse1 = mean_squared_error(y_test, y_pred1)\n",
    "print('Mean sqaured error:', ': %0.3f' % (mse1))"
   ]
  },
  {
   "cell_type": "markdown",
   "metadata": {},
   "source": [
    "### We observe a decrease in mse on the test data from 10.940 to an mse of 9.080, this indicates an improved model that can better generalize on unseen data and provide more accurate predictions.\n",
    "### The decrease in mse underlines the value of regularisation on neural networks. By capturing the true relationship and patterns in the data the results are more reliable and useable in real life contexts.\n",
    "### **Using response curve for design guidelines**\n",
    "### I will demonstrate the use of response curve by focusing on the relationship between the displacement and fuel efficiency. This can be conducted on other input variables as well."
   ]
  },
  {
   "cell_type": "code",
   "execution_count": 16,
   "metadata": {},
   "outputs": [
    {
     "data": {
      "image/png": "[encoded data removed]",
      "text/plain": [
       "<Figure size 640x480 with 1 Axes>"
      ]
     },
     "metadata": {},
     "output_type": "display_data"
    }
   ],
   "source": [
    "X_design = X.copy()\n",
    "X_design_vec = pd.DataFrame(X_design.median()).transpose()\n",
    "    \n",
    "min_resultant = min(X.loc[:, 'displacement'])\n",
    "max_resultant = max(X.loc[:, 'displacement'])\n",
    "seq = np.linspace(start= min_resultant, stop= max_resultant, num= 30)\n",
    "\n",
    "to_predict = []\n",
    "for result in seq:\n",
    "    X_design_vec.loc[0, 'displacement'] = result\n",
    "    to_predict.append(X_design_vec.copy())\n",
    "\n",
    "to_predict = pd.concat(to_predict)\n",
    "\n",
    "to_predict = scaler.transform(to_predict)\n",
    "preds = mlpr1.predict(to_predict)\n",
    "\n",
    "plt.plot(seq, preds)\n",
    "plt.xlabel('Displacement')\n",
    "plt.ylabel('Miles per galon')\n",
    "plt.title('Miles per galon per vehicle size')\n",
    "\n",
    "plt.show()"
   ]
  },
  {
   "cell_type": "markdown",
   "metadata": {},
   "source": [
    "### The reponse curve indicates an inversely proportional relationship between displacement and fuel efficiency. Larger displacements lead to a lower fuel efficiency. \n",
    "### In order to maintain fuel efficient cars we need to ensure that the displacement remains lower than 350, displacement values higher than that leads to inefficient performance in vehicles. These measures can be used as design guidelines for automotive industries to maximise the power of a vehicles while maintaining fuel efficiency.\n",
    "### **Consequences of using an overfitted model**\n",
    "### If the model was overfitted, we would likely obtain inaccurate results that leads to suggesting much higher displacement values for a certain range of fuel efficiency. This results to unexpected performances in vehicles.\n",
    "### This further causes an issue of wasted resources as manufacturers will dedicate time, money and personnel on inaccurate designs and features without gaining the benefits of fuel efficient cars.\n",
    "### Such problems can cause ripple effects such as reputational damage."
   ]
  }
 ],
 "metadata": {
  "kernelspec": {
   "display_name": "base",
   "language": "python",
   "name": "python3"
  },
  "language_info": {
   "codemirror_mode": {
    "name": "ipython",
    "version": 3
   },
   "file_extension": ".py",
   "mimetype": "text/x-python",
   "name": "python",
   "nbconvert_exporter": "python",
   "pygments_lexer": "ipython3",
   "version": "3.9.12"
  },
  "orig_nbformat": 4
 },
 "nbformat": 4,
 "nbformat_minor": 2
}

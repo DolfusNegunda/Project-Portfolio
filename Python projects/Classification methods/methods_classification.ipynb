{
 "cells": [
  {
   "cell_type": "markdown",
   "metadata": {},
   "source": [
    "# Classification task\n",
    "## In this lab we will examine the `Weekly` data, which is part of the `ISLP` package. For this project we will explore various classification models such as `logistic regression`, `linear discriminant analysis`, `Quadratic discriminant analysis`, `naive bayes`, and `K-nearest neighbors` to determine which model is most suitable for the data set used.\n",
    "### **1. Importing libraries and loading data**"
   ]
  },
  {
   "cell_type": "code",
   "execution_count": 144,
   "metadata": {},
   "outputs": [],
   "source": [
    "import pandas as pd\n",
    "import numpy as np\n",
    "import matplotlib.pyplot as plt\n",
    "import seaborn as sns\n",
    "import statsmodels.api as sm\n",
    "from ISLP import load_data\n",
    "from ISLP.models import (ModelSpec as MS, summarize)\n",
    "from ISLP import confusion_table\n",
    "from sklearn.discriminant_analysis import (LinearDiscriminantAnalysis as LDA, \n",
    "                                           QuadraticDiscriminantAnalysis as QDA)\n",
    "from sklearn.naive_bayes import GaussianNB\n",
    "from sklearn.linear_model import LogisticRegression\n",
    "from sklearn.neighbors import KNeighborsClassifier\n",
    "from sklearn.preprocessing import StandardScaler\n",
    "from sklearn.model_selection import train_test_split\n",
    "from sklearn.metrics import confusion_matrix, accuracy_score"
   ]
  },
  {
   "cell_type": "code",
   "execution_count": 145,
   "metadata": {},
   "outputs": [
    {
     "data": {
      "text/html": [
       "<div>\n",
       "<style scoped>\n",
       "    .dataframe tbody tr th:only-of-type {\n",
       "        vertical-align: middle;\n",
       "    }\n",
       "\n",
       "    .dataframe tbody tr th {\n",
       "        vertical-align: top;\n",
       "    }\n",
       "\n",
       "    .dataframe thead th {\n",
       "        text-align: right;\n",
       "    }\n",
       "</style>\n",
       "<table border=\"1\" class=\"dataframe\">\n",
       "  <thead>\n",
       "    <tr style=\"text-align: right;\">\n",
       "      <th></th>\n",
       "      <th>Year</th>\n",
       "      <th>Lag1</th>\n",
       "      <th>Lag2</th>\n",
       "      <th>Lag3</th>\n",
       "      <th>Lag4</th>\n",
       "      <th>Lag5</th>\n",
       "      <th>Volume</th>\n",
       "      <th>Today</th>\n",
       "      <th>Direction</th>\n",
       "    </tr>\n",
       "  </thead>\n",
       "  <tbody>\n",
       "    <tr>\n",
       "      <th>0</th>\n",
       "      <td>1990</td>\n",
       "      <td>0.816</td>\n",
       "      <td>1.572</td>\n",
       "      <td>-3.936</td>\n",
       "      <td>-0.229</td>\n",
       "      <td>-3.484</td>\n",
       "      <td>0.154976</td>\n",
       "      <td>-0.270</td>\n",
       "      <td>Down</td>\n",
       "    </tr>\n",
       "    <tr>\n",
       "      <th>1</th>\n",
       "      <td>1990</td>\n",
       "      <td>-0.270</td>\n",
       "      <td>0.816</td>\n",
       "      <td>1.572</td>\n",
       "      <td>-3.936</td>\n",
       "      <td>-0.229</td>\n",
       "      <td>0.148574</td>\n",
       "      <td>-2.576</td>\n",
       "      <td>Down</td>\n",
       "    </tr>\n",
       "    <tr>\n",
       "      <th>2</th>\n",
       "      <td>1990</td>\n",
       "      <td>-2.576</td>\n",
       "      <td>-0.270</td>\n",
       "      <td>0.816</td>\n",
       "      <td>1.572</td>\n",
       "      <td>-3.936</td>\n",
       "      <td>0.159837</td>\n",
       "      <td>3.514</td>\n",
       "      <td>Up</td>\n",
       "    </tr>\n",
       "    <tr>\n",
       "      <th>3</th>\n",
       "      <td>1990</td>\n",
       "      <td>3.514</td>\n",
       "      <td>-2.576</td>\n",
       "      <td>-0.270</td>\n",
       "      <td>0.816</td>\n",
       "      <td>1.572</td>\n",
       "      <td>0.161630</td>\n",
       "      <td>0.712</td>\n",
       "      <td>Up</td>\n",
       "    </tr>\n",
       "    <tr>\n",
       "      <th>4</th>\n",
       "      <td>1990</td>\n",
       "      <td>0.712</td>\n",
       "      <td>3.514</td>\n",
       "      <td>-2.576</td>\n",
       "      <td>-0.270</td>\n",
       "      <td>0.816</td>\n",
       "      <td>0.153728</td>\n",
       "      <td>1.178</td>\n",
       "      <td>Up</td>\n",
       "    </tr>\n",
       "  </tbody>\n",
       "</table>\n",
       "</div>"
      ],
      "text/plain": [
       "   Year   Lag1   Lag2   Lag3   Lag4   Lag5    Volume  Today Direction\n",
       "0  1990  0.816  1.572 -3.936 -0.229 -3.484  0.154976 -0.270      Down\n",
       "1  1990 -0.270  0.816  1.572 -3.936 -0.229  0.148574 -2.576      Down\n",
       "2  1990 -2.576 -0.270  0.816  1.572 -3.936  0.159837  3.514        Up\n",
       "3  1990  3.514 -2.576 -0.270  0.816  1.572  0.161630  0.712        Up\n",
       "4  1990  0.712  3.514 -2.576 -0.270  0.816  0.153728  1.178        Up"
      ]
     },
     "execution_count": 145,
     "metadata": {},
     "output_type": "execute_result"
    }
   ],
   "source": [
    "weekly_returns = load_data('Weekly')\n",
    "weekly_returns.head()"
   ]
  },
  {
   "cell_type": "code",
   "execution_count": 146,
   "metadata": {},
   "outputs": [
    {
     "data": {
      "text/html": [
       "<div>\n",
       "<style scoped>\n",
       "    .dataframe tbody tr th:only-of-type {\n",
       "        vertical-align: middle;\n",
       "    }\n",
       "\n",
       "    .dataframe tbody tr th {\n",
       "        vertical-align: top;\n",
       "    }\n",
       "\n",
       "    .dataframe thead th {\n",
       "        text-align: right;\n",
       "    }\n",
       "</style>\n",
       "<table border=\"1\" class=\"dataframe\">\n",
       "  <thead>\n",
       "    <tr style=\"text-align: right;\">\n",
       "      <th></th>\n",
       "      <th>Year</th>\n",
       "      <th>Lag1</th>\n",
       "      <th>Lag2</th>\n",
       "      <th>Lag3</th>\n",
       "      <th>Lag4</th>\n",
       "      <th>Lag5</th>\n",
       "      <th>Volume</th>\n",
       "      <th>Today</th>\n",
       "    </tr>\n",
       "  </thead>\n",
       "  <tbody>\n",
       "    <tr>\n",
       "      <th>count</th>\n",
       "      <td>1089.000000</td>\n",
       "      <td>1089.000000</td>\n",
       "      <td>1089.000000</td>\n",
       "      <td>1089.000000</td>\n",
       "      <td>1089.000000</td>\n",
       "      <td>1089.000000</td>\n",
       "      <td>1089.000000</td>\n",
       "      <td>1089.000000</td>\n",
       "    </tr>\n",
       "    <tr>\n",
       "      <th>mean</th>\n",
       "      <td>2000.048669</td>\n",
       "      <td>0.150585</td>\n",
       "      <td>0.151079</td>\n",
       "      <td>0.147205</td>\n",
       "      <td>0.145818</td>\n",
       "      <td>0.139893</td>\n",
       "      <td>1.574618</td>\n",
       "      <td>0.149899</td>\n",
       "    </tr>\n",
       "    <tr>\n",
       "      <th>std</th>\n",
       "      <td>6.033182</td>\n",
       "      <td>2.357013</td>\n",
       "      <td>2.357254</td>\n",
       "      <td>2.360502</td>\n",
       "      <td>2.360279</td>\n",
       "      <td>2.361285</td>\n",
       "      <td>1.686636</td>\n",
       "      <td>2.356927</td>\n",
       "    </tr>\n",
       "    <tr>\n",
       "      <th>min</th>\n",
       "      <td>1990.000000</td>\n",
       "      <td>-18.195000</td>\n",
       "      <td>-18.195000</td>\n",
       "      <td>-18.195000</td>\n",
       "      <td>-18.195000</td>\n",
       "      <td>-18.195000</td>\n",
       "      <td>0.087465</td>\n",
       "      <td>-18.195000</td>\n",
       "    </tr>\n",
       "    <tr>\n",
       "      <th>25%</th>\n",
       "      <td>1995.000000</td>\n",
       "      <td>-1.154000</td>\n",
       "      <td>-1.154000</td>\n",
       "      <td>-1.158000</td>\n",
       "      <td>-1.158000</td>\n",
       "      <td>-1.166000</td>\n",
       "      <td>0.332022</td>\n",
       "      <td>-1.154000</td>\n",
       "    </tr>\n",
       "    <tr>\n",
       "      <th>50%</th>\n",
       "      <td>2000.000000</td>\n",
       "      <td>0.241000</td>\n",
       "      <td>0.241000</td>\n",
       "      <td>0.241000</td>\n",
       "      <td>0.238000</td>\n",
       "      <td>0.234000</td>\n",
       "      <td>1.002680</td>\n",
       "      <td>0.241000</td>\n",
       "    </tr>\n",
       "    <tr>\n",
       "      <th>75%</th>\n",
       "      <td>2005.000000</td>\n",
       "      <td>1.405000</td>\n",
       "      <td>1.409000</td>\n",
       "      <td>1.409000</td>\n",
       "      <td>1.409000</td>\n",
       "      <td>1.405000</td>\n",
       "      <td>2.053727</td>\n",
       "      <td>1.405000</td>\n",
       "    </tr>\n",
       "    <tr>\n",
       "      <th>max</th>\n",
       "      <td>2010.000000</td>\n",
       "      <td>12.026000</td>\n",
       "      <td>12.026000</td>\n",
       "      <td>12.026000</td>\n",
       "      <td>12.026000</td>\n",
       "      <td>12.026000</td>\n",
       "      <td>9.328214</td>\n",
       "      <td>12.026000</td>\n",
       "    </tr>\n",
       "  </tbody>\n",
       "</table>\n",
       "</div>"
      ],
      "text/plain": [
       "              Year         Lag1         Lag2         Lag3         Lag4  \\\n",
       "count  1089.000000  1089.000000  1089.000000  1089.000000  1089.000000   \n",
       "mean   2000.048669     0.150585     0.151079     0.147205     0.145818   \n",
       "std       6.033182     2.357013     2.357254     2.360502     2.360279   \n",
       "min    1990.000000   -18.195000   -18.195000   -18.195000   -18.195000   \n",
       "25%    1995.000000    -1.154000    -1.154000    -1.158000    -1.158000   \n",
       "50%    2000.000000     0.241000     0.241000     0.241000     0.238000   \n",
       "75%    2005.000000     1.405000     1.409000     1.409000     1.409000   \n",
       "max    2010.000000    12.026000    12.026000    12.026000    12.026000   \n",
       "\n",
       "              Lag5       Volume        Today  \n",
       "count  1089.000000  1089.000000  1089.000000  \n",
       "mean      0.139893     1.574618     0.149899  \n",
       "std       2.361285     1.686636     2.356927  \n",
       "min     -18.195000     0.087465   -18.195000  \n",
       "25%      -1.166000     0.332022    -1.154000  \n",
       "50%       0.234000     1.002680     0.241000  \n",
       "75%       1.405000     2.053727     1.405000  \n",
       "max      12.026000     9.328214    12.026000  "
      ]
     },
     "execution_count": 146,
     "metadata": {},
     "output_type": "execute_result"
    }
   ],
   "source": [
    "weekly_returns.describe()"
   ]
  },
  {
   "cell_type": "markdown",
   "metadata": {},
   "source": [
    "### This data set consists of weekly percentage returns for stock index over 21 years, from 1990 until 2010. Each date contains the percentage returns for each of the five previous trading days, `Lag1` through `Lag5`. We have also recorded  `Volume` (the number of shares traded on the previous day, in billions), `Today` (the percentage return on the date in question) and  `Direction` (whether the market was  `Up`  or  `Down`  on this date).\n",
    "### **2. Exploratory visualisation**"
   ]
  },
  {
   "cell_type": "code",
   "execution_count": 164,
   "metadata": {},
   "outputs": [
    {
     "name": "stderr",
     "output_type": "stream",
     "text": [
      "C:\\Users\\Dolf\\AppData\\Local\\Temp\\ipykernel_20132\\765845474.py:1: FutureWarning: The default value of numeric_only in DataFrame.corr is deprecated. In a future version, it will default to False. Select only valid columns or specify the value of numeric_only to silence this warning.\n",
      "  weekly_returns.corr()\n"
     ]
    },
    {
     "data": {
      "text/html": [
       "<div>\n",
       "<style scoped>\n",
       "    .dataframe tbody tr th:only-of-type {\n",
       "        vertical-align: middle;\n",
       "    }\n",
       "\n",
       "    .dataframe tbody tr th {\n",
       "        vertical-align: top;\n",
       "    }\n",
       "\n",
       "    .dataframe thead th {\n",
       "        text-align: right;\n",
       "    }\n",
       "</style>\n",
       "<table border=\"1\" class=\"dataframe\">\n",
       "  <thead>\n",
       "    <tr style=\"text-align: right;\">\n",
       "      <th></th>\n",
       "      <th>Year</th>\n",
       "      <th>Lag1</th>\n",
       "      <th>Lag2</th>\n",
       "      <th>Lag3</th>\n",
       "      <th>Lag4</th>\n",
       "      <th>Lag5</th>\n",
       "      <th>Volume</th>\n",
       "      <th>Today</th>\n",
       "    </tr>\n",
       "  </thead>\n",
       "  <tbody>\n",
       "    <tr>\n",
       "      <th>Year</th>\n",
       "      <td>1.000000</td>\n",
       "      <td>-0.032289</td>\n",
       "      <td>-0.033390</td>\n",
       "      <td>-0.030006</td>\n",
       "      <td>-0.031128</td>\n",
       "      <td>-0.030519</td>\n",
       "      <td>0.841942</td>\n",
       "      <td>-0.032460</td>\n",
       "    </tr>\n",
       "    <tr>\n",
       "      <th>Lag1</th>\n",
       "      <td>-0.032289</td>\n",
       "      <td>1.000000</td>\n",
       "      <td>-0.074853</td>\n",
       "      <td>0.058636</td>\n",
       "      <td>-0.071274</td>\n",
       "      <td>-0.008183</td>\n",
       "      <td>-0.064951</td>\n",
       "      <td>-0.075032</td>\n",
       "    </tr>\n",
       "    <tr>\n",
       "      <th>Lag2</th>\n",
       "      <td>-0.033390</td>\n",
       "      <td>-0.074853</td>\n",
       "      <td>1.000000</td>\n",
       "      <td>-0.075721</td>\n",
       "      <td>0.058382</td>\n",
       "      <td>-0.072499</td>\n",
       "      <td>-0.085513</td>\n",
       "      <td>0.059167</td>\n",
       "    </tr>\n",
       "    <tr>\n",
       "      <th>Lag3</th>\n",
       "      <td>-0.030006</td>\n",
       "      <td>0.058636</td>\n",
       "      <td>-0.075721</td>\n",
       "      <td>1.000000</td>\n",
       "      <td>-0.075396</td>\n",
       "      <td>0.060657</td>\n",
       "      <td>-0.069288</td>\n",
       "      <td>-0.071244</td>\n",
       "    </tr>\n",
       "    <tr>\n",
       "      <th>Lag4</th>\n",
       "      <td>-0.031128</td>\n",
       "      <td>-0.071274</td>\n",
       "      <td>0.058382</td>\n",
       "      <td>-0.075396</td>\n",
       "      <td>1.000000</td>\n",
       "      <td>-0.075675</td>\n",
       "      <td>-0.061075</td>\n",
       "      <td>-0.007826</td>\n",
       "    </tr>\n",
       "    <tr>\n",
       "      <th>Lag5</th>\n",
       "      <td>-0.030519</td>\n",
       "      <td>-0.008183</td>\n",
       "      <td>-0.072499</td>\n",
       "      <td>0.060657</td>\n",
       "      <td>-0.075675</td>\n",
       "      <td>1.000000</td>\n",
       "      <td>-0.058517</td>\n",
       "      <td>0.011013</td>\n",
       "    </tr>\n",
       "    <tr>\n",
       "      <th>Volume</th>\n",
       "      <td>0.841942</td>\n",
       "      <td>-0.064951</td>\n",
       "      <td>-0.085513</td>\n",
       "      <td>-0.069288</td>\n",
       "      <td>-0.061075</td>\n",
       "      <td>-0.058517</td>\n",
       "      <td>1.000000</td>\n",
       "      <td>-0.033078</td>\n",
       "    </tr>\n",
       "    <tr>\n",
       "      <th>Today</th>\n",
       "      <td>-0.032460</td>\n",
       "      <td>-0.075032</td>\n",
       "      <td>0.059167</td>\n",
       "      <td>-0.071244</td>\n",
       "      <td>-0.007826</td>\n",
       "      <td>0.011013</td>\n",
       "      <td>-0.033078</td>\n",
       "      <td>1.000000</td>\n",
       "    </tr>\n",
       "  </tbody>\n",
       "</table>\n",
       "</div>"
      ],
      "text/plain": [
       "            Year      Lag1      Lag2      Lag3      Lag4      Lag5    Volume  \\\n",
       "Year    1.000000 -0.032289 -0.033390 -0.030006 -0.031128 -0.030519  0.841942   \n",
       "Lag1   -0.032289  1.000000 -0.074853  0.058636 -0.071274 -0.008183 -0.064951   \n",
       "Lag2   -0.033390 -0.074853  1.000000 -0.075721  0.058382 -0.072499 -0.085513   \n",
       "Lag3   -0.030006  0.058636 -0.075721  1.000000 -0.075396  0.060657 -0.069288   \n",
       "Lag4   -0.031128 -0.071274  0.058382 -0.075396  1.000000 -0.075675 -0.061075   \n",
       "Lag5   -0.030519 -0.008183 -0.072499  0.060657 -0.075675  1.000000 -0.058517   \n",
       "Volume  0.841942 -0.064951 -0.085513 -0.069288 -0.061075 -0.058517  1.000000   \n",
       "Today  -0.032460 -0.075032  0.059167 -0.071244 -0.007826  0.011013 -0.033078   \n",
       "\n",
       "           Today  \n",
       "Year   -0.032460  \n",
       "Lag1   -0.075032  \n",
       "Lag2    0.059167  \n",
       "Lag3   -0.071244  \n",
       "Lag4   -0.007826  \n",
       "Lag5    0.011013  \n",
       "Volume -0.033078  \n",
       "Today   1.000000  "
      ]
     },
     "execution_count": 164,
     "metadata": {},
     "output_type": "execute_result"
    }
   ],
   "source": [
    "# Correlation matrix\n",
    "weekly_returns.corr()"
   ]
  },
  {
   "cell_type": "code",
   "execution_count": 147,
   "metadata": {},
   "outputs": [
    {
     "data": {
      "text/plain": [
       "([<matplotlib.axis.XTick at 0x190830a2d00>,\n",
       "  <matplotlib.axis.XTick at 0x190830a2b80>,\n",
       "  <matplotlib.axis.XTick at 0x1908308a6d0>,\n",
       "  <matplotlib.axis.XTick at 0x19082f7cbb0>,\n",
       "  <matplotlib.axis.XTick at 0x19082f8a6a0>],\n",
       " [Text(1990, 0, '1990'),\n",
       "  Text(1995, 0, '1995'),\n",
       "  Text(2000, 0, '2000'),\n",
       "  Text(2005, 0, '2005'),\n",
       "  Text(2010, 0, '2010')])"
      ]
     },
     "execution_count": 147,
     "metadata": {},
     "output_type": "execute_result"
    },
    {
     "data": {
      "image/png": "[encoded data removed]",
      "text/plain": [
       "<Figure size 1000x600 with 1 Axes>"
      ]
     },
     "metadata": {},
     "output_type": "display_data"
    }
   ],
   "source": [
    "# Time-series plot\n",
    "plt.figure(figsize=(10,6))\n",
    "sns.lineplot(y= weekly_returns['Volume'], x= weekly_returns['Year'], color= 'purple')\n",
    "x_ticks = weekly_returns['Year'].unique()[::5]  # Get unique years with 5 increments\n",
    "plt.xticks(x_ticks)"
   ]
  },
  {
   "cell_type": "code",
   "execution_count": 148,
   "metadata": {},
   "outputs": [
    {
     "data": {
      "text/plain": [
       "<Axes: xlabel='Volume', ylabel='Direction'>"
      ]
     },
     "execution_count": 148,
     "metadata": {},
     "output_type": "execute_result"
    },
    {
     "data": {
      "image/png": "[encoded data removed]",
      "text/plain": [
       "<Figure size 640x480 with 1 Axes>"
      ]
     },
     "metadata": {},
     "output_type": "display_data"
    }
   ],
   "source": [
    "sns.boxplot(x= weekly_returns['Volume'], y= weekly_returns['Direction'])"
   ]
  },
  {
   "cell_type": "markdown",
   "metadata": {},
   "source": [
    "### The correlation matrix shows a very strong positive correlation between `Volume` and `Year` which is further shown using a line plot for a `time-series analysis` on the volume traded during this period. We observe an increase in volume traded over the years. There is a spike towards 2005 reaching a peak in 2009. Meaning the most shares were traded in this period.\n",
    "### Another high correlation is between `Volume` and `Lag2`, showing a very strong negative relationship.\n",
    "### Comparing the medians of the boxplots we observe that slightly more stocks were sold than bought.\n",
    "### Next, I will perform a `logistic regression` to the full data set using `Direction` as the target and `Lag1` to `Lag5` and `Volume` as the predictors. The results of this regression will help determine statistical significance in our predictors in relation to our target.\n",
    "### **3. Classification models**\n",
    "### **Logistic regression** "
   ]
  },
  {
   "cell_type": "code",
   "execution_count": 149,
   "metadata": {},
   "outputs": [
    {
     "name": "stdout",
     "output_type": "stream",
     "text": [
      "Optimization terminated successfully.\n",
      "         Current function value: 0.682441\n",
      "         Iterations 4\n"
     ]
    },
    {
     "data": {
      "text/html": [
       "<table class=\"simpletable\">\n",
       "<caption>Logit Regression Results</caption>\n",
       "<tr>\n",
       "  <th>Dep. Variable:</th>       <td>Direction</td>    <th>  No. Observations:  </th>  <td>  1089</td> \n",
       "</tr>\n",
       "<tr>\n",
       "  <th>Model:</th>                 <td>Logit</td>      <th>  Df Residuals:      </th>  <td>  1082</td> \n",
       "</tr>\n",
       "<tr>\n",
       "  <th>Method:</th>                 <td>MLE</td>       <th>  Df Model:          </th>  <td>     6</td> \n",
       "</tr>\n",
       "<tr>\n",
       "  <th>Date:</th>            <td>Sat, 19 Aug 2023</td> <th>  Pseudo R-squ.:     </th> <td>0.006580</td>\n",
       "</tr>\n",
       "<tr>\n",
       "  <th>Time:</th>                <td>15:19:55</td>     <th>  Log-Likelihood:    </th> <td> -743.18</td>\n",
       "</tr>\n",
       "<tr>\n",
       "  <th>converged:</th>             <td>True</td>       <th>  LL-Null:           </th> <td> -748.10</td>\n",
       "</tr>\n",
       "<tr>\n",
       "  <th>Covariance Type:</th>     <td>nonrobust</td>    <th>  LLR p-value:       </th>  <td>0.1313</td> \n",
       "</tr>\n",
       "</table>\n",
       "<table class=\"simpletable\">\n",
       "<tr>\n",
       "      <td></td>         <th>coef</th>     <th>std err</th>      <th>z</th>      <th>P>|z|</th>  <th>[0.025</th>    <th>0.975]</th>  \n",
       "</tr>\n",
       "<tr>\n",
       "  <th>intercept</th> <td>    0.2669</td> <td>    0.086</td> <td>    3.106</td> <td> 0.002</td> <td>    0.098</td> <td>    0.435</td>\n",
       "</tr>\n",
       "<tr>\n",
       "  <th>Lag1</th>      <td>   -0.0413</td> <td>    0.026</td> <td>   -1.563</td> <td> 0.118</td> <td>   -0.093</td> <td>    0.010</td>\n",
       "</tr>\n",
       "<tr>\n",
       "  <th>Lag2</th>      <td>    0.0584</td> <td>    0.027</td> <td>    2.175</td> <td> 0.030</td> <td>    0.006</td> <td>    0.111</td>\n",
       "</tr>\n",
       "<tr>\n",
       "  <th>Lag3</th>      <td>   -0.0161</td> <td>    0.027</td> <td>   -0.602</td> <td> 0.547</td> <td>   -0.068</td> <td>    0.036</td>\n",
       "</tr>\n",
       "<tr>\n",
       "  <th>Lag4</th>      <td>   -0.0278</td> <td>    0.026</td> <td>   -1.050</td> <td> 0.294</td> <td>   -0.080</td> <td>    0.024</td>\n",
       "</tr>\n",
       "<tr>\n",
       "  <th>Lag5</th>      <td>   -0.0145</td> <td>    0.026</td> <td>   -0.549</td> <td> 0.583</td> <td>   -0.066</td> <td>    0.037</td>\n",
       "</tr>\n",
       "<tr>\n",
       "  <th>Volume</th>    <td>   -0.0227</td> <td>    0.037</td> <td>   -0.616</td> <td> 0.538</td> <td>   -0.095</td> <td>    0.050</td>\n",
       "</tr>\n",
       "</table>"
      ],
      "text/latex": [
       "\\begin{center}\n",
       "\\begin{tabular}{lclc}\n",
       "\\toprule\n",
       "\\textbf{Dep. Variable:}   &    Direction     & \\textbf{  No. Observations:  } &     1089    \\\\\n",
       "\\textbf{Model:}           &      Logit       & \\textbf{  Df Residuals:      } &     1082    \\\\\n",
       "\\textbf{Method:}          &       MLE        & \\textbf{  Df Model:          } &        6    \\\\\n",
       "\\textbf{Date:}            & Sat, 19 Aug 2023 & \\textbf{  Pseudo R-squ.:     } &  0.006580   \\\\\n",
       "\\textbf{Time:}            &     15:19:55     & \\textbf{  Log-Likelihood:    } &   -743.18   \\\\\n",
       "\\textbf{converged:}       &       True       & \\textbf{  LL-Null:           } &   -748.10   \\\\\n",
       "\\textbf{Covariance Type:} &    nonrobust     & \\textbf{  LLR p-value:       } &   0.1313    \\\\\n",
       "\\bottomrule\n",
       "\\end{tabular}\n",
       "\\begin{tabular}{lcccccc}\n",
       "                   & \\textbf{coef} & \\textbf{std err} & \\textbf{z} & \\textbf{P$> |$z$|$} & \\textbf{[0.025} & \\textbf{0.975]}  \\\\\n",
       "\\midrule\n",
       "\\textbf{intercept} &       0.2669  &        0.086     &     3.106  &         0.002        &        0.098    &        0.435     \\\\\n",
       "\\textbf{Lag1}      &      -0.0413  &        0.026     &    -1.563  &         0.118        &       -0.093    &        0.010     \\\\\n",
       "\\textbf{Lag2}      &       0.0584  &        0.027     &     2.175  &         0.030        &        0.006    &        0.111     \\\\\n",
       "\\textbf{Lag3}      &      -0.0161  &        0.027     &    -0.602  &         0.547        &       -0.068    &        0.036     \\\\\n",
       "\\textbf{Lag4}      &      -0.0278  &        0.026     &    -1.050  &         0.294        &       -0.080    &        0.024     \\\\\n",
       "\\textbf{Lag5}      &      -0.0145  &        0.026     &    -0.549  &         0.583        &       -0.066    &        0.037     \\\\\n",
       "\\textbf{Volume}    &      -0.0227  &        0.037     &    -0.616  &         0.538        &       -0.095    &        0.050     \\\\\n",
       "\\bottomrule\n",
       "\\end{tabular}\n",
       "%\\caption{Logit Regression Results}\n",
       "\\end{center}"
      ],
      "text/plain": [
       "<class 'statsmodels.iolib.summary.Summary'>\n",
       "\"\"\"\n",
       "                           Logit Regression Results                           \n",
       "==============================================================================\n",
       "Dep. Variable:              Direction   No. Observations:                 1089\n",
       "Model:                          Logit   Df Residuals:                     1082\n",
       "Method:                           MLE   Df Model:                            6\n",
       "Date:                Sat, 19 Aug 2023   Pseudo R-squ.:                0.006580\n",
       "Time:                        15:19:55   Log-Likelihood:                -743.18\n",
       "converged:                       True   LL-Null:                       -748.10\n",
       "Covariance Type:            nonrobust   LLR p-value:                    0.1313\n",
       "==============================================================================\n",
       "                 coef    std err          z      P>|z|      [0.025      0.975]\n",
       "------------------------------------------------------------------------------\n",
       "intercept      0.2669      0.086      3.106      0.002       0.098       0.435\n",
       "Lag1          -0.0413      0.026     -1.563      0.118      -0.093       0.010\n",
       "Lag2           0.0584      0.027      2.175      0.030       0.006       0.111\n",
       "Lag3          -0.0161      0.027     -0.602      0.547      -0.068       0.036\n",
       "Lag4          -0.0278      0.026     -1.050      0.294      -0.080       0.024\n",
       "Lag5          -0.0145      0.026     -0.549      0.583      -0.066       0.037\n",
       "Volume        -0.0227      0.037     -0.616      0.538      -0.095       0.050\n",
       "==============================================================================\n",
       "\"\"\""
      ]
     },
     "execution_count": 149,
     "metadata": {},
     "output_type": "execute_result"
    }
   ],
   "source": [
    "# Predictors and response\n",
    "predictors = list(weekly_returns.drop(columns= ['Year', 'Today', 'Direction']))\n",
    "y = weekly_returns['Direction'].map({'Down':0, 'Up':1}) # transforming response into binary to avoid dummy variables\n",
    "X = MS(predictors).fit_transform(weekly_returns)\n",
    "\n",
    "# Logistics regression\n",
    "logreg = sm.Logit(y, X)\n",
    "rslt = logreg.fit()\n",
    "rslt.summary()"
   ]
  },
  {
   "cell_type": "markdown",
   "metadata": {},
   "source": [
    "### Using a p-value of less than 0.05 as our criteria to determine statistical significance, we can drop every other predictor except for `Lag2`. This can be expected as we observed a very strong correlation between `Lag2` and `Volume` earlier with the correlation matrix.\n",
    "### Using a confusion matrix, I will determine the performance of the logistic regression."
   ]
  },
  {
   "cell_type": "code",
   "execution_count": 150,
   "metadata": {},
   "outputs": [
    {
     "name": "stdout",
     "output_type": "stream",
     "text": [
      "Confusion matrix:\n",
      "[[ 54 430]\n",
      " [ 48 557]] \n",
      "\n",
      "Accuracy: 56.11\n"
     ]
    }
   ],
   "source": [
    "y_pred = rslt.predict(X) >= 0.5\n",
    "cm = confusion_matrix(y, y_pred)\n",
    "accuracy = accuracy_score(y, y_pred)\n",
    "print('Confusion matrix:')\n",
    "print(cm , '\\n')\n",
    "print('Accuracy: {:.2f}'.format(accuracy * 100)) "
   ]
  },
  {
   "cell_type": "markdown",
   "metadata": {},
   "source": [
    "### The results show a 56.11% accuracy, which is not bad for stock market direction prediction. The model predicted the market to go down correctly 54 times (True negative), and to go up correctly 557 times (True positive). \n",
    "### The model does however incorrectly predict the market to go down 430 times (False negative), and incorreclty predict the market to go up 48 times (false positive). This information can be used to guide a trading strategy although it is important to note that the stock market does have a lot of complexities, other factors could be studies and applied.\n",
    "### In order to truly test the performance of the model, I will use data from 2009 - 2010 as the test set and data from 1990 - 2008 as the training set. The significance of a model is based on its performance on unseen data.\n",
    "### For the improved model, we only use `Lag2` as it is the only predictor that is statistically significant. This will be used to test different models including a `linear discriminant analysis`, `Quadratic discriminant analysis`, the `naive bayes` and `K-nearest neighbors`."
   ]
  },
  {
   "cell_type": "code",
   "execution_count": 151,
   "metadata": {},
   "outputs": [
    {
     "data": {
      "text/plain": [
       "(   const   Lag2\n",
       " 0    1.0  1.572\n",
       " 1    1.0  0.816\n",
       " 2    1.0 -0.270\n",
       " 3    1.0 -2.576\n",
       " 4    1.0  3.514,\n",
       " 0    0\n",
       " 1    0\n",
       " 2    1\n",
       " 3    1\n",
       " 4    1\n",
       " Name: Direction, dtype: int64)"
      ]
     },
     "execution_count": 151,
     "metadata": {},
     "output_type": "execute_result"
    }
   ],
   "source": [
    "# Assigning training and test sets\n",
    "# Train set for data from 1990 - 2008\n",
    "X_train = weekly_returns[weekly_returns['Year'] <= 2008]['Lag2']\n",
    "X_train = sm.add_constant(X_train)\n",
    "y_train = weekly_returns[weekly_returns['Year'] <= 2008]['Direction'].map({'Down':0, 'Up':1})\n",
    "\n",
    "# Test set for data from 2009 - 2010\n",
    "X_test = weekly_returns[weekly_returns['Year'] > 2008]['Lag2']\n",
    "X_test = sm.add_constant(X_test)\n",
    "y_test = weekly_returns[weekly_returns['Year'] > 2008]['Direction'].map({'Down':0, 'Up':1})\n",
    "\n",
    "X_train.head(), y_train.head()"
   ]
  },
  {
   "cell_type": "code",
   "execution_count": 166,
   "metadata": {},
   "outputs": [
    {
     "name": "stdout",
     "output_type": "stream",
     "text": [
      "Optimization terminated successfully.\n",
      "         Current function value: 0.685555\n",
      "         Iterations 4\n",
      "Confusion matrix:\n",
      "[[ 9 34]\n",
      " [ 5 56]] \n",
      "\n",
      "Accuracy: 62.50\n"
     ]
    }
   ],
   "source": [
    "# Logistics regression\n",
    "logreg1 = sm.Logit(y_train, X_train)\n",
    "rslt1 = logreg1.fit()\n",
    "\n",
    "# Confusion matrix\n",
    "y_pred1 = rslt1.predict(X_test) >= 0.5\n",
    "cm1 = confusion_matrix(y_test, y_pred1)\n",
    "accuracy1 = accuracy_score(y_test, y_pred1)\n",
    "\n",
    "print('Confusion matrix:')\n",
    "print(cm1 , '\\n')\n",
    "print('Accuracy: {:.2f}'.format(accuracy1 * 100)) "
   ]
  },
  {
   "cell_type": "markdown",
   "metadata": {},
   "source": [
    "### Using only `Lag2` as the predictor, the performance of our logistic regression has improved from 56.11% to 62.5% accuracy.\n",
    "### **Linear discriminant analysis**"
   ]
  },
  {
   "cell_type": "code",
   "execution_count": 155,
   "metadata": {},
   "outputs": [
    {
     "name": "stdout",
     "output_type": "stream",
     "text": [
      "Confusion matrix:\n",
      "[[ 9 34]\n",
      " [ 5 56]] \n",
      "\n",
      "Accuracy: 62.50\n"
     ]
    }
   ],
   "source": [
    "# Linear discriminant analysis\n",
    "lda = LDA()\n",
    "lda = lda.fit(X_train, y_train)\n",
    "\n",
    "# Confusion matrix\n",
    "lda_pred = lda.predict(X_test)\n",
    "lda_cm = confusion_matrix(y_test, lda_pred)\n",
    "lda_accuracy = accuracy_score(y_test, lda_pred)\n",
    "\n",
    "print('Confusion matrix:')\n",
    "print(lda_cm , '\\n')\n",
    "print('Accuracy: {:.2f}'.format(lda_accuracy * 100)) "
   ]
  },
  {
   "cell_type": "markdown",
   "metadata": {},
   "source": [
    "### Using a linear discriminant analysis we achieve 62.5% accuracy, which is similar to the logistics regression.\n",
    "### **Quadratic discriminant analysis**"
   ]
  },
  {
   "cell_type": "code",
   "execution_count": 156,
   "metadata": {},
   "outputs": [
    {
     "name": "stdout",
     "output_type": "stream",
     "text": [
      "Confusion matrix:\n",
      "[[43  0]\n",
      " [61  0]] \n",
      "\n",
      "Accuracy: 41.35\n"
     ]
    },
    {
     "name": "stderr",
     "output_type": "stream",
     "text": [
      "c:\\Users\\Dolf\\miniconda3\\lib\\site-packages\\sklearn\\discriminant_analysis.py:926: UserWarning: Variables are collinear\n",
      "  warnings.warn(\"Variables are collinear\")\n",
      "c:\\Users\\Dolf\\miniconda3\\lib\\site-packages\\sklearn\\discriminant_analysis.py:951: RuntimeWarning: divide by zero encountered in power\n",
      "  X2 = np.dot(Xm, R * (S ** (-0.5)))\n",
      "c:\\Users\\Dolf\\miniconda3\\lib\\site-packages\\sklearn\\discriminant_analysis.py:951: RuntimeWarning: invalid value encountered in multiply\n",
      "  X2 = np.dot(Xm, R * (S ** (-0.5)))\n",
      "c:\\Users\\Dolf\\miniconda3\\lib\\site-packages\\sklearn\\discriminant_analysis.py:954: RuntimeWarning: divide by zero encountered in log\n",
      "  u = np.asarray([np.sum(np.log(s)) for s in self.scalings_])\n"
     ]
    }
   ],
   "source": [
    "# Quadratic discriminant analysis\n",
    "qda = QDA()\n",
    "qda = qda.fit(X_train, y_train)\n",
    "\n",
    "# Confusion matrix\n",
    "qda_pred = qda.predict(X_test)\n",
    "qda_cm = confusion_matrix(y_test, qda_pred)\n",
    "qda_accuracy = accuracy_score(y_test, qda_pred)\n",
    "\n",
    "print('Confusion matrix:')\n",
    "print(qda_cm , '\\n')\n",
    "print('Accuracy: {:.2f}'.format(qda_accuracy * 100)) "
   ]
  },
  {
   "cell_type": "markdown",
   "metadata": {},
   "source": [
    "### Using a quadratic discriminant analysis the model performs much poorly only attaining 41.53% accuracy.\n",
    "### **Naive bayes**"
   ]
  },
  {
   "cell_type": "code",
   "execution_count": 162,
   "metadata": {},
   "outputs": [
    {
     "name": "stdout",
     "output_type": "stream",
     "text": [
      "Confusion matrix:\n",
      "[[ 0 43]\n",
      " [ 0 61]] \n",
      "\n",
      "Accuracy: 58.65\n"
     ]
    }
   ],
   "source": [
    "# Naive bayes\n",
    "nb = GaussianNB()\n",
    "nb = nb.fit(X_train, y_train)\n",
    "\n",
    "# Confusion matrix\n",
    "nb_pred = nb.predict(X_test)\n",
    "nb_cm = confusion_matrix(y_test, nb_pred)\n",
    "nb_accuracy = accuracy_score(y_test, nb_pred)\n",
    "\n",
    "print('Confusion matrix:')\n",
    "print(nb_cm , '\\n')\n",
    "print('Accuracy: {:.2f}'.format(nb_accuracy * 100)) "
   ]
  },
  {
   "cell_type": "markdown",
   "metadata": {},
   "source": [
    "### The naive bayes attains an accuracy of 58.65% lower than logistics regression and linear discriminant analysis but much better than a quadratic discriminant analysis.\n",
    "### **K-nearest neighbours**"
   ]
  },
  {
   "cell_type": "code",
   "execution_count": 163,
   "metadata": {},
   "outputs": [
    {
     "name": "stdout",
     "output_type": "stream",
     "text": [
      "Confusion matrix:\n",
      "[[16 27]\n",
      " [20 41]] \n",
      "\n",
      "Accuracy: 54.81\n"
     ]
    }
   ],
   "source": [
    "# K-nearest neighbour\n",
    "knn = KNeighborsClassifier(n_neighbors= 3)\n",
    "knn = knn.fit(X_train, y_train)\n",
    "\n",
    "# Confusion matrix\n",
    "knn_pred = knn.predict(X_test)\n",
    "knn_cm = confusion_matrix(y_test, knn_pred)\n",
    "knn_accuracy = accuracy_score(y_test, knn_pred)\n",
    "\n",
    "print('Confusion matrix:')\n",
    "print(knn_cm , '\\n')\n",
    "print('Accuracy: {:.2f}'.format(knn_accuracy * 100)) "
   ]
  },
  {
   "cell_type": "markdown",
   "metadata": {},
   "source": [
    "### The k-nearest neighbour attains an accuracy of 54.81%.\n",
    "### **Conclusion**\n",
    "### Comparing all our methods, the best results for predicting the direction of the stock index are obtained using either the logistics regression or linear discriminant analysis as they both have the same accuracy of 62.5% which is higher than quadratic discriminant analysis (41.35%) and the k-nearest neighbour (54.8%).\n",
    "### Logistics regression and linear discriminant analysis are best for modelling linear relationships whereas quadratic discriminant analysis and the k-nearest neighbour are more suitable for non-linear/complex relationships."
   ]
  }
 ],
 "metadata": {
  "kernelspec": {
   "display_name": "base",
   "language": "python",
   "name": "python3"
  },
  "language_info": {
   "codemirror_mode": {
    "name": "ipython",
    "version": 3
   },
   "file_extension": ".py",
   "mimetype": "text/x-python",
   "name": "python",
   "nbconvert_exporter": "python",
   "pygments_lexer": "ipython3",
   "version": "3.9.12"
  },
  "orig_nbformat": 4
 },
 "nbformat": 4,
 "nbformat_minor": 2
}

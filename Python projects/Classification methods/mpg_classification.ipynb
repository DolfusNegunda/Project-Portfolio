{
 "cells": [
  {
   "cell_type": "markdown",
   "metadata": {},
   "source": [
    "# MPG classification task\n",
    "## In this lab I will develop a model to determine whether a given car will have a high or low gas mileage by exploring various classification models such as `logistic regression`, `linear discriminant analysis`, `Quadratic discriminant analysis`, `naive bayes`, and `K-nearest neighbors` to determine which model is most suitable for the task at hand.\n",
    "## For this approach I first conduct a statistical-based feature selection for univariate and multivariate analysis.\n",
    "### **1. Importing libraries and loading data**"
   ]
  },
  {
   "cell_type": "code",
   "execution_count": 147,
   "metadata": {},
   "outputs": [],
   "source": [
    "import pandas as pd\n",
    "import numpy as np\n",
    "import matplotlib.pyplot as plt\n",
    "import seaborn as sns\n",
    "import statsmodels.api as sm\n",
    "from ISLP.models import (ModelSpec as MS, summarize)\n",
    "from sklearn.discriminant_analysis import (LinearDiscriminantAnalysis as LDA, \n",
    "                                           QuadraticDiscriminantAnalysis as QDA)\n",
    "from sklearn.naive_bayes import GaussianNB\n",
    "from sklearn.linear_model import LogisticRegression\n",
    "from sklearn.neighbors import KNeighborsClassifier\n",
    "from sklearn.preprocessing import StandardScaler\n",
    "from sklearn.model_selection import train_test_split\n",
    "from sklearn.metrics import confusion_matrix, accuracy_score"
   ]
  },
  {
   "cell_type": "code",
   "execution_count": 148,
   "metadata": {},
   "outputs": [
    {
     "data": {
      "text/html": [
       "<div>\n",
       "<style scoped>\n",
       "    .dataframe tbody tr th:only-of-type {\n",
       "        vertical-align: middle;\n",
       "    }\n",
       "\n",
       "    .dataframe tbody tr th {\n",
       "        vertical-align: top;\n",
       "    }\n",
       "\n",
       "    .dataframe thead th {\n",
       "        text-align: right;\n",
       "    }\n",
       "</style>\n",
       "<table border=\"1\" class=\"dataframe\">\n",
       "  <thead>\n",
       "    <tr style=\"text-align: right;\">\n",
       "      <th></th>\n",
       "      <th>mpg</th>\n",
       "      <th>cylinders</th>\n",
       "      <th>displacement</th>\n",
       "      <th>horsepower</th>\n",
       "      <th>weight</th>\n",
       "      <th>acceleration</th>\n",
       "      <th>year</th>\n",
       "      <th>origin</th>\n",
       "      <th>name</th>\n",
       "    </tr>\n",
       "  </thead>\n",
       "  <tbody>\n",
       "    <tr>\n",
       "      <th>0</th>\n",
       "      <td>18.0</td>\n",
       "      <td>8</td>\n",
       "      <td>307.0</td>\n",
       "      <td>130</td>\n",
       "      <td>3504</td>\n",
       "      <td>12.0</td>\n",
       "      <td>70</td>\n",
       "      <td>1</td>\n",
       "      <td>chevrolet chevelle malibu</td>\n",
       "    </tr>\n",
       "    <tr>\n",
       "      <th>1</th>\n",
       "      <td>15.0</td>\n",
       "      <td>8</td>\n",
       "      <td>350.0</td>\n",
       "      <td>165</td>\n",
       "      <td>3693</td>\n",
       "      <td>11.5</td>\n",
       "      <td>70</td>\n",
       "      <td>1</td>\n",
       "      <td>buick skylark 320</td>\n",
       "    </tr>\n",
       "    <tr>\n",
       "      <th>2</th>\n",
       "      <td>18.0</td>\n",
       "      <td>8</td>\n",
       "      <td>318.0</td>\n",
       "      <td>150</td>\n",
       "      <td>3436</td>\n",
       "      <td>11.0</td>\n",
       "      <td>70</td>\n",
       "      <td>1</td>\n",
       "      <td>plymouth satellite</td>\n",
       "    </tr>\n",
       "    <tr>\n",
       "      <th>3</th>\n",
       "      <td>16.0</td>\n",
       "      <td>8</td>\n",
       "      <td>304.0</td>\n",
       "      <td>150</td>\n",
       "      <td>3433</td>\n",
       "      <td>12.0</td>\n",
       "      <td>70</td>\n",
       "      <td>1</td>\n",
       "      <td>amc rebel sst</td>\n",
       "    </tr>\n",
       "    <tr>\n",
       "      <th>4</th>\n",
       "      <td>17.0</td>\n",
       "      <td>8</td>\n",
       "      <td>302.0</td>\n",
       "      <td>140</td>\n",
       "      <td>3449</td>\n",
       "      <td>10.5</td>\n",
       "      <td>70</td>\n",
       "      <td>1</td>\n",
       "      <td>ford torino</td>\n",
       "    </tr>\n",
       "  </tbody>\n",
       "</table>\n",
       "</div>"
      ],
      "text/plain": [
       "    mpg  cylinders  displacement  horsepower  weight  acceleration  year  \\\n",
       "0  18.0          8         307.0         130    3504          12.0    70   \n",
       "1  15.0          8         350.0         165    3693          11.5    70   \n",
       "2  18.0          8         318.0         150    3436          11.0    70   \n",
       "3  16.0          8         304.0         150    3433          12.0    70   \n",
       "4  17.0          8         302.0         140    3449          10.5    70   \n",
       "\n",
       "   origin                       name  \n",
       "0       1  chevrolet chevelle malibu  \n",
       "1       1          buick skylark 320  \n",
       "2       1         plymouth satellite  \n",
       "3       1              amc rebel sst  \n",
       "4       1                ford torino  "
      ]
     },
     "execution_count": 148,
     "metadata": {},
     "output_type": "execute_result"
    }
   ],
   "source": [
    "auto = pd.read_csv('Auto.csv')\n",
    "auto.head()"
   ]
  },
  {
   "cell_type": "code",
   "execution_count": 149,
   "metadata": {},
   "outputs": [
    {
     "name": "stdout",
     "output_type": "stream",
     "text": [
      "shape: (392, 9)\n"
     ]
    }
   ],
   "source": [
    "print('shape:', auto.shape)"
   ]
  },
  {
   "cell_type": "markdown",
   "metadata": {},
   "source": [
    "### This data set consists of 392 cars and 8 predictors to determine the gas mileage.\n",
    "### For this task we classify between high and low gas mileage by using the median as our threshold."
   ]
  },
  {
   "cell_type": "code",
   "execution_count": 150,
   "metadata": {},
   "outputs": [
    {
     "data": {
      "text/plain": [
       "22.75"
      ]
     },
     "execution_count": 150,
     "metadata": {},
     "output_type": "execute_result"
    }
   ],
   "source": [
    "auto['mpg'].median()"
   ]
  },
  {
   "cell_type": "code",
   "execution_count": 151,
   "metadata": {},
   "outputs": [
    {
     "data": {
      "text/html": [
       "<div>\n",
       "<style scoped>\n",
       "    .dataframe tbody tr th:only-of-type {\n",
       "        vertical-align: middle;\n",
       "    }\n",
       "\n",
       "    .dataframe tbody tr th {\n",
       "        vertical-align: top;\n",
       "    }\n",
       "\n",
       "    .dataframe thead th {\n",
       "        text-align: right;\n",
       "    }\n",
       "</style>\n",
       "<table border=\"1\" class=\"dataframe\">\n",
       "  <thead>\n",
       "    <tr style=\"text-align: right;\">\n",
       "      <th></th>\n",
       "      <th>mpg</th>\n",
       "      <th>cylinders</th>\n",
       "      <th>displacement</th>\n",
       "      <th>horsepower</th>\n",
       "      <th>weight</th>\n",
       "      <th>acceleration</th>\n",
       "      <th>year</th>\n",
       "      <th>origin</th>\n",
       "      <th>name</th>\n",
       "      <th>mpg_class</th>\n",
       "    </tr>\n",
       "  </thead>\n",
       "  <tbody>\n",
       "    <tr>\n",
       "      <th>11</th>\n",
       "      <td>14.0</td>\n",
       "      <td>8</td>\n",
       "      <td>340.0</td>\n",
       "      <td>160</td>\n",
       "      <td>3609</td>\n",
       "      <td>8.0</td>\n",
       "      <td>70</td>\n",
       "      <td>1</td>\n",
       "      <td>plymouth 'cuda 340</td>\n",
       "      <td>0</td>\n",
       "    </tr>\n",
       "    <tr>\n",
       "      <th>197</th>\n",
       "      <td>20.0</td>\n",
       "      <td>6</td>\n",
       "      <td>225.0</td>\n",
       "      <td>100</td>\n",
       "      <td>3651</td>\n",
       "      <td>17.7</td>\n",
       "      <td>76</td>\n",
       "      <td>1</td>\n",
       "      <td>dodge aspen se</td>\n",
       "      <td>0</td>\n",
       "    </tr>\n",
       "    <tr>\n",
       "      <th>139</th>\n",
       "      <td>29.0</td>\n",
       "      <td>4</td>\n",
       "      <td>98.0</td>\n",
       "      <td>83</td>\n",
       "      <td>2219</td>\n",
       "      <td>16.5</td>\n",
       "      <td>74</td>\n",
       "      <td>2</td>\n",
       "      <td>audi fox</td>\n",
       "      <td>1</td>\n",
       "    </tr>\n",
       "    <tr>\n",
       "      <th>312</th>\n",
       "      <td>26.4</td>\n",
       "      <td>4</td>\n",
       "      <td>140.0</td>\n",
       "      <td>88</td>\n",
       "      <td>2870</td>\n",
       "      <td>18.1</td>\n",
       "      <td>80</td>\n",
       "      <td>1</td>\n",
       "      <td>ford fairmont</td>\n",
       "      <td>1</td>\n",
       "    </tr>\n",
       "    <tr>\n",
       "      <th>171</th>\n",
       "      <td>24.0</td>\n",
       "      <td>4</td>\n",
       "      <td>119.0</td>\n",
       "      <td>97</td>\n",
       "      <td>2545</td>\n",
       "      <td>17.0</td>\n",
       "      <td>75</td>\n",
       "      <td>3</td>\n",
       "      <td>datsun 710</td>\n",
       "      <td>1</td>\n",
       "    </tr>\n",
       "  </tbody>\n",
       "</table>\n",
       "</div>"
      ],
      "text/plain": [
       "      mpg  cylinders  displacement  horsepower  weight  acceleration  year  \\\n",
       "11   14.0          8         340.0         160    3609           8.0    70   \n",
       "197  20.0          6         225.0         100    3651          17.7    76   \n",
       "139  29.0          4          98.0          83    2219          16.5    74   \n",
       "312  26.4          4         140.0          88    2870          18.1    80   \n",
       "171  24.0          4         119.0          97    2545          17.0    75   \n",
       "\n",
       "     origin                name  mpg_class  \n",
       "11        1  plymouth 'cuda 340          0  \n",
       "197       1      dodge aspen se          0  \n",
       "139       2            audi fox          1  \n",
       "312       1       ford fairmont          1  \n",
       "171       3          datsun 710          1  "
      ]
     },
     "execution_count": 151,
     "metadata": {},
     "output_type": "execute_result"
    }
   ],
   "source": [
    "# Creating classification class\n",
    "auto['mpg_class'] = np.where(auto['mpg'] > auto['mpg'].median(), 1, 0)\n",
    "auto.sample(5)"
   ]
  },
  {
   "cell_type": "markdown",
   "metadata": {},
   "source": [
    "### With a median gas mileage of 22.75, any value above the median is classified as high gas mileage (denoted as 1) and low gas mileage otherwise (denoted as 0).\n",
    "### **2. Statistical analysis**\n",
    "### For statistical significance I will determine the pearson correlation coefficient of each predictor to the target as pre-selection. This is followed by a univariate analysis to measure the p-value and t-statistic of the chosen features for further investigation of statistical significance."
   ]
  },
  {
   "cell_type": "code",
   "execution_count": 152,
   "metadata": {},
   "outputs": [
    {
     "data": {
      "text/plain": [
       "0    196\n",
       "1    196\n",
       "Name: mpg_class, dtype: int64"
      ]
     },
     "execution_count": 152,
     "metadata": {},
     "output_type": "execute_result"
    }
   ],
   "source": [
    "# Class distribution\n",
    "auto['mpg_class'].value_counts()"
   ]
  },
  {
   "cell_type": "code",
   "execution_count": 153,
   "metadata": {},
   "outputs": [
    {
     "name": "stderr",
     "output_type": "stream",
     "text": [
      "C:\\Users\\Dolf\\AppData\\Local\\Temp\\ipykernel_25452\\2199375211.py:2: FutureWarning: The default value of numeric_only in DataFrame.corr is deprecated. In a future version, it will default to False. Select only valid columns or specify the value of numeric_only to silence this warning.\n",
      "  corr = auto.corr()\n"
     ]
    },
    {
     "data": {
      "text/plain": [
       "mpg_class       1.000000\n",
       "origin          0.513698\n",
       "year            0.429904\n",
       "acceleration    0.346822\n",
       "horsepower     -0.667053\n",
       "displacement   -0.753477\n",
       "weight         -0.757757\n",
       "cylinders      -0.759194\n",
       "Name: mpg_class, dtype: float64"
      ]
     },
     "execution_count": 153,
     "metadata": {},
     "output_type": "execute_result"
    }
   ],
   "source": [
    "auto = auto.drop(columns= 'mpg')\n",
    "corr = auto.corr()\n",
    "corr['mpg_class'].sort_values(ascending= False)"
   ]
  },
  {
   "cell_type": "code",
   "execution_count": 154,
   "metadata": {},
   "outputs": [
    {
     "data": {
      "image/png": "[encoded data removed]",
      "text/plain": [
       "<Figure size 1000x600 with 4 Axes>"
      ]
     },
     "metadata": {},
     "output_type": "display_data"
    }
   ],
   "source": [
    "import matplotlib.pyplot as plt\n",
    "import seaborn as sns\n",
    "\n",
    "plt.figure(figsize=(10, 6))\n",
    "\n",
    "# First subplot\n",
    "plt.subplot(2, 2, 1)  # 2 rows, 2 columns, first subplot\n",
    "sns.regplot(y=auto['mpg_class'], x=auto['horsepower'], color='purple', line_kws={'color': 'green'})\n",
    "plt.xlabel('horsepower')\n",
    "plt.ylabel('mpg_class')\n",
    "\n",
    "# Second subplot\n",
    "plt.subplot(2, 2, 2)  # 2 rows, 2 columns, second subplot\n",
    "sns.regplot(y=auto['mpg_class'], x=auto['displacement'], color='purple', line_kws={'color': 'green'})\n",
    "plt.xlabel('displacement')\n",
    "plt.ylabel('mpg_class')\n",
    "\n",
    "# Third subplot\n",
    "plt.subplot(2, 2, 3)  # 2 rows, 2 columns, third subplot\n",
    "sns.regplot(y=auto['mpg_class'], x=auto['weight'], color='purple', line_kws={'color': 'green'})\n",
    "plt.xlabel('weight')\n",
    "plt.ylabel('mpg_class')\n",
    "\n",
    "# Fourth subplot\n",
    "plt.subplot(2, 2, 4)  # 2 rows, 2 columns, fourth subplot\n",
    "sns.regplot(y=auto['mpg_class'], x=auto['cylinders'], color='purple', line_kws={'color': 'green'})\n",
    "plt.xlabel('cylinders')\n",
    "plt.ylabel('mpg_class')\n",
    "\n",
    "plt.tight_layout()"
   ]
  },
  {
   "cell_type": "markdown",
   "metadata": {},
   "source": [
    "### Using the correlation coefficients with a threshold of 0.6, we observe a negative relationship between the `horsepower`, `displacement`, `weight`, and `cylinders` with the `gas mileage`. These predictors are then used for a univariate analysis using a linear regression. In correlation analysis a negative coefficient is as useful as a positive coefficient.\n",
    "### **Univariate analysis**"
   ]
  },
  {
   "cell_type": "code",
   "execution_count": 155,
   "metadata": {},
   "outputs": [
    {
     "name": "stdout",
     "output_type": "stream",
     "text": [
      "predictor            t-statistic                   pvalue\n",
      "horsepower     -17.68193936887461                     0.00\n",
      "displacement    -22.632003549122086                     0.00\n",
      "   weight    -22.932776972525126                     0.00\n",
      "cylinders    -23.035327865818914                     0.00\n"
     ]
    }
   ],
   "source": [
    "# Printing the table header with t-statistic and p-value\n",
    "print('{:>} {:>22} {:>24}'.format('predictor', 't-statistic', 'pvalue'))\n",
    "\n",
    "# Initialize an empty dictionary to store t-statistic values\n",
    "t_statistics = {}\n",
    "predictors = auto[['horsepower', 'displacement', 'weight', 'cylinders']]\n",
    "\n",
    "# Loop through each predictor and perform a univariate linear regression\n",
    "for predictor in predictors:\n",
    "    X = MS([predictor]).fit_transform(auto)\n",
    "    y = auto['mpg_class']\n",
    "    model = sm.OLS(y, X)\n",
    "    rslt = model.fit()\n",
    "    \n",
    "    # Print the predictor name, t-statistic, and p-value\n",
    "    print('{:>9} {:>22} {:>24.2f}'.format(predictor, rslt.tvalues[predictor], rslt.pvalues[predictor]))\n",
    "    \n",
    "    # Store the t-statistic value for the predictor in the 't_statistics' dictionary\n",
    "    t_statistics[predictor] = [rslt.tvalues[predictor]]"
   ]
  },
  {
   "cell_type": "markdown",
   "metadata": {},
   "source": [
    "### All 4 predictors appear to be statistically significant. The negative t-statistic is indicative of the negative slope/relationship, and the predictors have a p-value less than 0.05 therefore we can reject the null hypotheses (which states that there is no relationship between the predictors and the target).\n",
    "### I will then conduct a multivariate analysis using a multiple linear regression to determine if there is any association between the predictors.\n",
    "### **Multivariate analysis**"
   ]
  },
  {
   "cell_type": "code",
   "execution_count": 156,
   "metadata": {},
   "outputs": [
    {
     "data": {
      "text/html": [
       "<table class=\"simpletable\">\n",
       "<caption>OLS Regression Results</caption>\n",
       "<tr>\n",
       "  <th>Dep. Variable:</th>        <td>mpg_class</td>    <th>  R-squared:         </th> <td>   0.608</td>\n",
       "</tr>\n",
       "<tr>\n",
       "  <th>Model:</th>                   <td>OLS</td>       <th>  Adj. R-squared:    </th> <td>   0.604</td>\n",
       "</tr>\n",
       "<tr>\n",
       "  <th>Method:</th>             <td>Least Squares</td>  <th>  F-statistic:       </th> <td>   149.8</td>\n",
       "</tr>\n",
       "<tr>\n",
       "  <th>Date:</th>             <td>Mon, 21 Aug 2023</td> <th>  Prob (F-statistic):</th> <td>2.80e-77</td>\n",
       "</tr>\n",
       "<tr>\n",
       "  <th>Time:</th>                 <td>23:46:00</td>     <th>  Log-Likelihood:    </th> <td> -101.13</td>\n",
       "</tr>\n",
       "<tr>\n",
       "  <th>No. Observations:</th>      <td>   392</td>      <th>  AIC:               </th> <td>   212.3</td>\n",
       "</tr>\n",
       "<tr>\n",
       "  <th>Df Residuals:</th>          <td>   387</td>      <th>  BIC:               </th> <td>   232.1</td>\n",
       "</tr>\n",
       "<tr>\n",
       "  <th>Df Model:</th>              <td>     4</td>      <th>                     </th>     <td> </td>   \n",
       "</tr>\n",
       "<tr>\n",
       "  <th>Covariance Type:</th>      <td>nonrobust</td>    <th>                     </th>     <td> </td>   \n",
       "</tr>\n",
       "</table>\n",
       "<table class=\"simpletable\">\n",
       "<tr>\n",
       "        <td></td>          <th>coef</th>     <th>std err</th>      <th>t</th>      <th>P>|t|</th>  <th>[0.025</th>    <th>0.975]</th>  \n",
       "</tr>\n",
       "<tr>\n",
       "  <th>intercept</th>    <td>    1.8033</td> <td>    0.113</td> <td>   15.965</td> <td> 0.000</td> <td>    1.581</td> <td>    2.025</td>\n",
       "</tr>\n",
       "<tr>\n",
       "  <th>horsepower</th>   <td>    0.0011</td> <td>    0.001</td> <td>    1.132</td> <td> 0.258</td> <td>   -0.001</td> <td>    0.003</td>\n",
       "</tr>\n",
       "<tr>\n",
       "  <th>displacement</th> <td>   -0.0004</td> <td>    0.001</td> <td>   -0.524</td> <td> 0.600</td> <td>   -0.002</td> <td>    0.001</td>\n",
       "</tr>\n",
       "<tr>\n",
       "  <th>weight</th>       <td>   -0.0002</td> <td> 5.33e-05</td> <td>   -4.526</td> <td> 0.000</td> <td>   -0.000</td> <td>   -0.000</td>\n",
       "</tr>\n",
       "<tr>\n",
       "  <th>cylinders</th>    <td>   -0.1152</td> <td>    0.030</td> <td>   -3.787</td> <td> 0.000</td> <td>   -0.175</td> <td>   -0.055</td>\n",
       "</tr>\n",
       "</table>\n",
       "<table class=\"simpletable\">\n",
       "<tr>\n",
       "  <th>Omnibus:</th>       <td>44.674</td> <th>  Durbin-Watson:     </th> <td>   1.105</td>\n",
       "</tr>\n",
       "<tr>\n",
       "  <th>Prob(Omnibus):</th> <td> 0.000</td> <th>  Jarque-Bera (JB):  </th> <td>  64.234</td>\n",
       "</tr>\n",
       "<tr>\n",
       "  <th>Skew:</th>          <td>-0.771</td> <th>  Prob(JB):          </th> <td>1.13e-14</td>\n",
       "</tr>\n",
       "<tr>\n",
       "  <th>Kurtosis:</th>      <td> 4.246</td> <th>  Cond. No.          </th> <td>2.23e+04</td>\n",
       "</tr>\n",
       "</table><br/><br/>Notes:<br/>[1] Standard Errors assume that the covariance matrix of the errors is correctly specified.<br/>[2] The condition number is large, 2.23e+04. This might indicate that there are<br/>strong multicollinearity or other numerical problems."
      ],
      "text/latex": [
       "\\begin{center}\n",
       "\\begin{tabular}{lclc}\n",
       "\\toprule\n",
       "\\textbf{Dep. Variable:}    &    mpg\\_class    & \\textbf{  R-squared:         } &     0.608   \\\\\n",
       "\\textbf{Model:}            &       OLS        & \\textbf{  Adj. R-squared:    } &     0.604   \\\\\n",
       "\\textbf{Method:}           &  Least Squares   & \\textbf{  F-statistic:       } &     149.8   \\\\\n",
       "\\textbf{Date:}             & Mon, 21 Aug 2023 & \\textbf{  Prob (F-statistic):} &  2.80e-77   \\\\\n",
       "\\textbf{Time:}             &     23:46:00     & \\textbf{  Log-Likelihood:    } &   -101.13   \\\\\n",
       "\\textbf{No. Observations:} &         392      & \\textbf{  AIC:               } &     212.3   \\\\\n",
       "\\textbf{Df Residuals:}     &         387      & \\textbf{  BIC:               } &     232.1   \\\\\n",
       "\\textbf{Df Model:}         &           4      & \\textbf{                     } &             \\\\\n",
       "\\textbf{Covariance Type:}  &    nonrobust     & \\textbf{                     } &             \\\\\n",
       "\\bottomrule\n",
       "\\end{tabular}\n",
       "\\begin{tabular}{lcccccc}\n",
       "                      & \\textbf{coef} & \\textbf{std err} & \\textbf{t} & \\textbf{P$> |$t$|$} & \\textbf{[0.025} & \\textbf{0.975]}  \\\\\n",
       "\\midrule\n",
       "\\textbf{intercept}    &       1.8033  &        0.113     &    15.965  &         0.000        &        1.581    &        2.025     \\\\\n",
       "\\textbf{horsepower}   &       0.0011  &        0.001     &     1.132  &         0.258        &       -0.001    &        0.003     \\\\\n",
       "\\textbf{displacement} &      -0.0004  &        0.001     &    -0.524  &         0.600        &       -0.002    &        0.001     \\\\\n",
       "\\textbf{weight}       &      -0.0002  &     5.33e-05     &    -4.526  &         0.000        &       -0.000    &       -0.000     \\\\\n",
       "\\textbf{cylinders}    &      -0.1152  &        0.030     &    -3.787  &         0.000        &       -0.175    &       -0.055     \\\\\n",
       "\\bottomrule\n",
       "\\end{tabular}\n",
       "\\begin{tabular}{lclc}\n",
       "\\textbf{Omnibus:}       & 44.674 & \\textbf{  Durbin-Watson:     } &    1.105  \\\\\n",
       "\\textbf{Prob(Omnibus):} &  0.000 & \\textbf{  Jarque-Bera (JB):  } &   64.234  \\\\\n",
       "\\textbf{Skew:}          & -0.771 & \\textbf{  Prob(JB):          } & 1.13e-14  \\\\\n",
       "\\textbf{Kurtosis:}      &  4.246 & \\textbf{  Cond. No.          } & 2.23e+04  \\\\\n",
       "\\bottomrule\n",
       "\\end{tabular}\n",
       "%\\caption{OLS Regression Results}\n",
       "\\end{center}\n",
       "\n",
       "Notes: \\newline\n",
       " [1] Standard Errors assume that the covariance matrix of the errors is correctly specified. \\newline\n",
       " [2] The condition number is large, 2.23e+04. This might indicate that there are \\newline\n",
       " strong multicollinearity or other numerical problems."
      ],
      "text/plain": [
       "<class 'statsmodels.iolib.summary.Summary'>\n",
       "\"\"\"\n",
       "                            OLS Regression Results                            \n",
       "==============================================================================\n",
       "Dep. Variable:              mpg_class   R-squared:                       0.608\n",
       "Model:                            OLS   Adj. R-squared:                  0.604\n",
       "Method:                 Least Squares   F-statistic:                     149.8\n",
       "Date:                Mon, 21 Aug 2023   Prob (F-statistic):           2.80e-77\n",
       "Time:                        23:46:00   Log-Likelihood:                -101.13\n",
       "No. Observations:                 392   AIC:                             212.3\n",
       "Df Residuals:                     387   BIC:                             232.1\n",
       "Df Model:                           4                                         \n",
       "Covariance Type:            nonrobust                                         \n",
       "================================================================================\n",
       "                   coef    std err          t      P>|t|      [0.025      0.975]\n",
       "--------------------------------------------------------------------------------\n",
       "intercept        1.8033      0.113     15.965      0.000       1.581       2.025\n",
       "horsepower       0.0011      0.001      1.132      0.258      -0.001       0.003\n",
       "displacement    -0.0004      0.001     -0.524      0.600      -0.002       0.001\n",
       "weight          -0.0002   5.33e-05     -4.526      0.000      -0.000      -0.000\n",
       "cylinders       -0.1152      0.030     -3.787      0.000      -0.175      -0.055\n",
       "==============================================================================\n",
       "Omnibus:                       44.674   Durbin-Watson:                   1.105\n",
       "Prob(Omnibus):                  0.000   Jarque-Bera (JB):               64.234\n",
       "Skew:                          -0.771   Prob(JB):                     1.13e-14\n",
       "Kurtosis:                       4.246   Cond. No.                     2.23e+04\n",
       "==============================================================================\n",
       "\n",
       "Notes:\n",
       "[1] Standard Errors assume that the covariance matrix of the errors is correctly specified.\n",
       "[2] The condition number is large, 2.23e+04. This might indicate that there are\n",
       "strong multicollinearity or other numerical problems.\n",
       "\"\"\""
      ]
     },
     "execution_count": 156,
     "metadata": {},
     "output_type": "execute_result"
    }
   ],
   "source": [
    "X = MS(predictors).fit_transform(auto)\n",
    "model = sm.OLS(y, X)\n",
    "rslt = model.fit()\n",
    "rslt.summary()"
   ]
  },
  {
   "cell_type": "markdown",
   "metadata": {},
   "source": [
    "### The multivariate linear regression has an F-statistic of 149.8 and an R-sqaured of 0.608, that is to say 60.8% of changes in mpg can be explained by the combination of these predictors (this can be simplified by thinking of the model as being 60.8% accurate).\n",
    "### We do however note that `horsepower` and `displacement` have increased p-values which is higher than 0.05,  therefore we can not reject the null hypothesis for this predictors. \n",
    "### Removing these two predictors from the model increases the F-statistic to  299.6, this is a considerable increase and suggests that the smaller model is more statistically significant. This however decreases the R-sqaured to 60.6% which is an insignificant decrease for a more effecient model.\n",
    "### **3. Classification algorithms**\n",
    "### I will test various classification models to determine which algorithm is most suitable in predicting whether a certain car will have high or low gas milage using `weight` and `cylinders` as the only predictors.\n",
    "### I will seperate the data into training and test set to test which algortithm performs the best on unseen data. This will be measured by the accuracy score."
   ]
  },
  {
   "cell_type": "code",
   "execution_count": 157,
   "metadata": {},
   "outputs": [
    {
     "name": "stdout",
     "output_type": "stream",
     "text": [
      "Confusion matrix:\n",
      "[[39  9]\n",
      " [ 6 44]] \n",
      "\n",
      "Accuracy: 84.69\n"
     ]
    }
   ],
   "source": [
    "X = auto[['weight', 'cylinders']]\n",
    "X_train, X_test, y_train, y_test = train_test_split(X, y, random_state= 0)\n",
    "\n",
    "# Linear discriminant analysis\n",
    "lda = LDA()\n",
    "lda = lda.fit(X_train, y_train)\n",
    "\n",
    "# Confusion matrix\n",
    "lda_pred = lda.predict(X_test)\n",
    "lda_cm = confusion_matrix(y_test, lda_pred)\n",
    "lda_accuracy = accuracy_score(y_test, lda_pred)\n",
    "\n",
    "print('Confusion matrix:')\n",
    "print(lda_cm , '\\n')\n",
    "print('Accuracy: {:.2f}'.format(lda_accuracy * 100)) "
   ]
  },
  {
   "cell_type": "code",
   "execution_count": 158,
   "metadata": {},
   "outputs": [
    {
     "name": "stdout",
     "output_type": "stream",
     "text": [
      "Confusion matrix:\n",
      "[[39  9]\n",
      " [ 7 43]] \n",
      "\n",
      "Accuracy: 83.67\n"
     ]
    }
   ],
   "source": [
    "# Logistic regression analysis\n",
    "logreg = LogisticRegression()\n",
    "logreg = logreg.fit(X_train, y_train)\n",
    "\n",
    "# Confusion matrix\n",
    "logreg_pred = logreg.predict(X_test)\n",
    "logreg_cm = confusion_matrix(y_test, logreg_pred)\n",
    "logreg_accuracy = accuracy_score(y_test, logreg_pred)\n",
    "\n",
    "print('Confusion matrix:')\n",
    "print(logreg_cm , '\\n')\n",
    "print('Accuracy: {:.2f}'.format(logreg_accuracy * 100)) "
   ]
  },
  {
   "cell_type": "code",
   "execution_count": 159,
   "metadata": {},
   "outputs": [
    {
     "name": "stdout",
     "output_type": "stream",
     "text": [
      "Confusion matrix:\n",
      "[[39  9]\n",
      " [ 7 43]] \n",
      "\n",
      "Accuracy: 83.67\n"
     ]
    }
   ],
   "source": [
    "# Quadratic discriminant analysis\n",
    "qda = QDA()\n",
    "qda = qda.fit(X_train, y_train)\n",
    "\n",
    "# Confusion matrix\n",
    "qda_pred = qda.predict(X_test)\n",
    "qda_cm = confusion_matrix(y_test, qda_pred)\n",
    "qda_accuracy = accuracy_score(y_test, qda_pred)\n",
    "\n",
    "print('Confusion matrix:')\n",
    "print(qda_cm , '\\n')\n",
    "print('Accuracy: {:.2f}'.format(qda_accuracy * 100)) "
   ]
  },
  {
   "cell_type": "code",
   "execution_count": 160,
   "metadata": {},
   "outputs": [
    {
     "name": "stdout",
     "output_type": "stream",
     "text": [
      "Confusion matrix:\n",
      "[[39  9]\n",
      " [ 6 44]] \n",
      "\n",
      "Accuracy: 84.69\n"
     ]
    }
   ],
   "source": [
    "# Naive bayes\n",
    "nb = GaussianNB()\n",
    "nb = nb.fit(X_train, y_train)\n",
    "\n",
    "# Confusion matrix\n",
    "nb_pred = nb.predict(X_test)\n",
    "nb_cm = confusion_matrix(y_test, nb_pred)\n",
    "nb_accuracy = accuracy_score(y_test, nb_pred)\n",
    "\n",
    "print('Confusion matrix:')\n",
    "print(nb_cm , '\\n')\n",
    "print('Accuracy: {:.2f}'.format(nb_accuracy * 100)) "
   ]
  },
  {
   "cell_type": "code",
   "execution_count": 161,
   "metadata": {},
   "outputs": [
    {
     "name": "stdout",
     "output_type": "stream",
     "text": [
      "Accuracy: 77.55\n",
      "Accuracy: 80.61\n",
      "Accuracy: 81.63\n",
      "Accuracy: 84.69\n",
      "Accuracy: 83.67\n",
      "Accuracy: 83.67\n",
      "Accuracy: 84.69\n",
      "Accuracy: 83.67\n",
      "Accuracy: 81.63\n",
      " \n",
      "Best k: 4\n",
      " \n",
      "Confusion matrix:\n",
      "[[41  7]\n",
      " [ 8 42]] \n",
      "\n",
      "Accuracy: 84.69\n"
     ]
    }
   ],
   "source": [
    "# Searching for the optimal value of K\n",
    "neighbors = []\n",
    "for n in range(1, 10):\n",
    "    knn = KNeighborsClassifier(n_neighbors= n)\n",
    "    knn = knn.fit(X_train, y_train)\n",
    "    knn_pred = knn.predict(X_test)\n",
    "    knn_accuracy = accuracy_score(y_test, knn_pred)\n",
    "    neighbors.append(knn_accuracy)\n",
    "    print('Accuracy: {:.2f}'.format(knn_accuracy * 100))\n",
    "best_n = max(neighbors)\n",
    "best_n = neighbors.index(best_n) + 1\n",
    "print(' ')\n",
    "print('Best k:', best_n)\n",
    "\n",
    "# Optimal K-nearest neighbour\n",
    "knn = KNeighborsClassifier(n_neighbors= best_n)\n",
    "knn = knn.fit(X_train, y_train)\n",
    "\n",
    "# Confusion matrix\n",
    "knn_pred = knn.predict(X_test)\n",
    "knn_cm = confusion_matrix(y_test, knn_pred)\n",
    "knn_accuracy = accuracy_score(y_test, knn_pred)\n",
    "\n",
    "print(' ')\n",
    "print('Confusion matrix:')\n",
    "print(knn_cm , '\\n')\n",
    "print('Accuracy: {:.2f}'.format(knn_accuracy * 100)) \n"
   ]
  },
  {
   "cell_type": "markdown",
   "metadata": {},
   "source": [
    "### **Conclusion**\n",
    "### We achieve the highest accuracy using the `linear discriminant analysis`, `naive bayes`, and `K-nearest neighbors with k = 4` all attaining 84.69% accuracy. \n",
    "### Since we want to optimise on fuel efficient cars, we can use the results of the confusion matrix for each of these models. The focus should be on true positives, the number of vehicles predicted as having high gas mileage. We observe that the `linear discriminant analysis` and `naive bayes` correctly classify 44 cars having high mpg while the `K-nearest neighbors` only classifies 42 correctly.\n",
    "### This makes intuitive sense since this problem is fairly linear, `linear discriminant analysis` is suitable for linear problems with even class sizes.\n",
    "### **5. Model deployment**"
   ]
  },
  {
   "cell_type": "code",
   "execution_count": 162,
   "metadata": {},
   "outputs": [],
   "source": [
    "# Linear discriminant analysis\n",
    "lda = LDA()\n",
    "lda = lda.fit(X, y)"
   ]
  }
 ],
 "metadata": {
  "kernelspec": {
   "display_name": "base",
   "language": "python",
   "name": "python3"
  },
  "language_info": {
   "codemirror_mode": {
    "name": "ipython",
    "version": 3
   },
   "file_extension": ".py",
   "mimetype": "text/x-python",
   "name": "python",
   "nbconvert_exporter": "python",
   "pygments_lexer": "ipython3",
   "version": "3.9.12"
  },
  "orig_nbformat": 4
 },
 "nbformat": 4,
 "nbformat_minor": 2
}

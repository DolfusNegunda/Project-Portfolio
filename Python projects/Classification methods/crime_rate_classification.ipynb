{
 "cells": [
  {
   "cell_type": "markdown",
   "metadata": {},
   "source": [
    "# Crime rate classification task\n",
    "## In this lab I will develop a model to determine whether a given suburb has a crime rate above or below the median by using multiple combinations of predictors to explore various classification models such as `logistic regression`, `linear discriminant analysis`, `Quadratic discriminant analysis`, `naive bayes`, and `K-nearest neighbors` to determine which model is most suitable for the task at hand.\n",
    "## For this approach I will follow a  combination of wrapper feature selection and statistical-based feature selection for univariate and multivariate analysis.\n",
    "### **1. Importing libraries and loading data**"
   ]
  },
  {
   "cell_type": "code",
   "execution_count": 39,
   "metadata": {},
   "outputs": [],
   "source": [
    "import pandas as pd\n",
    "import numpy as np\n",
    "import matplotlib.pyplot as plt\n",
    "import seaborn as sns\n",
    "import statsmodels.api as sm\n",
    "from ISLP.models import (ModelSpec as MS, summarize)\n",
    "from sklearn.discriminant_analysis import (LinearDiscriminantAnalysis as LDA, \n",
    "                                           QuadraticDiscriminantAnalysis as QDA)\n",
    "from sklearn.naive_bayes import GaussianNB\n",
    "from sklearn.linear_model import LogisticRegression\n",
    "from sklearn.neighbors import KNeighborsClassifier\n",
    "from sklearn.preprocessing import StandardScaler\n",
    "from sklearn.model_selection import train_test_split\n",
    "from sklearn.metrics import confusion_matrix, accuracy_score\n",
    "from ISLP import load_data"
   ]
  },
  {
   "cell_type": "code",
   "execution_count": 40,
   "metadata": {},
   "outputs": [
    {
     "data": {
      "text/html": [
       "<div>\n",
       "<style scoped>\n",
       "    .dataframe tbody tr th:only-of-type {\n",
       "        vertical-align: middle;\n",
       "    }\n",
       "\n",
       "    .dataframe tbody tr th {\n",
       "        vertical-align: top;\n",
       "    }\n",
       "\n",
       "    .dataframe thead th {\n",
       "        text-align: right;\n",
       "    }\n",
       "</style>\n",
       "<table border=\"1\" class=\"dataframe\">\n",
       "  <thead>\n",
       "    <tr style=\"text-align: right;\">\n",
       "      <th></th>\n",
       "      <th>crim</th>\n",
       "      <th>zn</th>\n",
       "      <th>indus</th>\n",
       "      <th>chas</th>\n",
       "      <th>nox</th>\n",
       "      <th>rm</th>\n",
       "      <th>age</th>\n",
       "      <th>dis</th>\n",
       "      <th>rad</th>\n",
       "      <th>tax</th>\n",
       "      <th>ptratio</th>\n",
       "      <th>lstat</th>\n",
       "      <th>medv</th>\n",
       "    </tr>\n",
       "  </thead>\n",
       "  <tbody>\n",
       "    <tr>\n",
       "      <th>0</th>\n",
       "      <td>0.00632</td>\n",
       "      <td>18.0</td>\n",
       "      <td>2.31</td>\n",
       "      <td>0</td>\n",
       "      <td>0.538</td>\n",
       "      <td>6.575</td>\n",
       "      <td>65.2</td>\n",
       "      <td>4.0900</td>\n",
       "      <td>1</td>\n",
       "      <td>296</td>\n",
       "      <td>15.3</td>\n",
       "      <td>4.98</td>\n",
       "      <td>24.0</td>\n",
       "    </tr>\n",
       "    <tr>\n",
       "      <th>1</th>\n",
       "      <td>0.02731</td>\n",
       "      <td>0.0</td>\n",
       "      <td>7.07</td>\n",
       "      <td>0</td>\n",
       "      <td>0.469</td>\n",
       "      <td>6.421</td>\n",
       "      <td>78.9</td>\n",
       "      <td>4.9671</td>\n",
       "      <td>2</td>\n",
       "      <td>242</td>\n",
       "      <td>17.8</td>\n",
       "      <td>9.14</td>\n",
       "      <td>21.6</td>\n",
       "    </tr>\n",
       "    <tr>\n",
       "      <th>2</th>\n",
       "      <td>0.02729</td>\n",
       "      <td>0.0</td>\n",
       "      <td>7.07</td>\n",
       "      <td>0</td>\n",
       "      <td>0.469</td>\n",
       "      <td>7.185</td>\n",
       "      <td>61.1</td>\n",
       "      <td>4.9671</td>\n",
       "      <td>2</td>\n",
       "      <td>242</td>\n",
       "      <td>17.8</td>\n",
       "      <td>4.03</td>\n",
       "      <td>34.7</td>\n",
       "    </tr>\n",
       "    <tr>\n",
       "      <th>3</th>\n",
       "      <td>0.03237</td>\n",
       "      <td>0.0</td>\n",
       "      <td>2.18</td>\n",
       "      <td>0</td>\n",
       "      <td>0.458</td>\n",
       "      <td>6.998</td>\n",
       "      <td>45.8</td>\n",
       "      <td>6.0622</td>\n",
       "      <td>3</td>\n",
       "      <td>222</td>\n",
       "      <td>18.7</td>\n",
       "      <td>2.94</td>\n",
       "      <td>33.4</td>\n",
       "    </tr>\n",
       "    <tr>\n",
       "      <th>4</th>\n",
       "      <td>0.06905</td>\n",
       "      <td>0.0</td>\n",
       "      <td>2.18</td>\n",
       "      <td>0</td>\n",
       "      <td>0.458</td>\n",
       "      <td>7.147</td>\n",
       "      <td>54.2</td>\n",
       "      <td>6.0622</td>\n",
       "      <td>3</td>\n",
       "      <td>222</td>\n",
       "      <td>18.7</td>\n",
       "      <td>5.33</td>\n",
       "      <td>36.2</td>\n",
       "    </tr>\n",
       "  </tbody>\n",
       "</table>\n",
       "</div>"
      ],
      "text/plain": [
       "      crim    zn  indus  chas    nox     rm   age     dis  rad  tax  ptratio  \\\n",
       "0  0.00632  18.0   2.31     0  0.538  6.575  65.2  4.0900    1  296     15.3   \n",
       "1  0.02731   0.0   7.07     0  0.469  6.421  78.9  4.9671    2  242     17.8   \n",
       "2  0.02729   0.0   7.07     0  0.469  7.185  61.1  4.9671    2  242     17.8   \n",
       "3  0.03237   0.0   2.18     0  0.458  6.998  45.8  6.0622    3  222     18.7   \n",
       "4  0.06905   0.0   2.18     0  0.458  7.147  54.2  6.0622    3  222     18.7   \n",
       "\n",
       "   lstat  medv  \n",
       "0   4.98  24.0  \n",
       "1   9.14  21.6  \n",
       "2   4.03  34.7  \n",
       "3   2.94  33.4  \n",
       "4   5.33  36.2  "
      ]
     },
     "execution_count": 40,
     "metadata": {},
     "output_type": "execute_result"
    }
   ],
   "source": [
    "Boston = load_data('Boston')\n",
    "Boston.head()"
   ]
  },
  {
   "cell_type": "code",
   "execution_count": 41,
   "metadata": {},
   "outputs": [
    {
     "name": "stdout",
     "output_type": "stream",
     "text": [
      "shape: (506, 13)\n"
     ]
    }
   ],
   "source": [
    "print('shape:', Boston.shape)"
   ]
  },
  {
   "cell_type": "markdown",
   "metadata": {},
   "source": [
    "### This data set consists of 506 properties in Boston with 12 predictors to determine the crime rate.\n",
    "### For this task we classify crime rate as above or below the median crime rate."
   ]
  },
  {
   "cell_type": "code",
   "execution_count": 42,
   "metadata": {},
   "outputs": [
    {
     "data": {
      "text/plain": [
       "0.25651"
      ]
     },
     "execution_count": 42,
     "metadata": {},
     "output_type": "execute_result"
    }
   ],
   "source": [
    "Boston['crim'].median()"
   ]
  },
  {
   "cell_type": "code",
   "execution_count": 43,
   "metadata": {},
   "outputs": [
    {
     "data": {
      "text/html": [
       "<div>\n",
       "<style scoped>\n",
       "    .dataframe tbody tr th:only-of-type {\n",
       "        vertical-align: middle;\n",
       "    }\n",
       "\n",
       "    .dataframe tbody tr th {\n",
       "        vertical-align: top;\n",
       "    }\n",
       "\n",
       "    .dataframe thead th {\n",
       "        text-align: right;\n",
       "    }\n",
       "</style>\n",
       "<table border=\"1\" class=\"dataframe\">\n",
       "  <thead>\n",
       "    <tr style=\"text-align: right;\">\n",
       "      <th></th>\n",
       "      <th>crim</th>\n",
       "      <th>zn</th>\n",
       "      <th>indus</th>\n",
       "      <th>chas</th>\n",
       "      <th>nox</th>\n",
       "      <th>rm</th>\n",
       "      <th>age</th>\n",
       "      <th>dis</th>\n",
       "      <th>rad</th>\n",
       "      <th>tax</th>\n",
       "      <th>ptratio</th>\n",
       "      <th>lstat</th>\n",
       "      <th>medv</th>\n",
       "      <th>crim_class</th>\n",
       "    </tr>\n",
       "  </thead>\n",
       "  <tbody>\n",
       "    <tr>\n",
       "      <th>62</th>\n",
       "      <td>0.11027</td>\n",
       "      <td>25.0</td>\n",
       "      <td>5.13</td>\n",
       "      <td>0</td>\n",
       "      <td>0.4530</td>\n",
       "      <td>6.456</td>\n",
       "      <td>67.8</td>\n",
       "      <td>7.2255</td>\n",
       "      <td>8</td>\n",
       "      <td>284</td>\n",
       "      <td>19.7</td>\n",
       "      <td>6.73</td>\n",
       "      <td>22.2</td>\n",
       "      <td>0</td>\n",
       "    </tr>\n",
       "    <tr>\n",
       "      <th>435</th>\n",
       "      <td>11.16040</td>\n",
       "      <td>0.0</td>\n",
       "      <td>18.10</td>\n",
       "      <td>0</td>\n",
       "      <td>0.7400</td>\n",
       "      <td>6.629</td>\n",
       "      <td>94.6</td>\n",
       "      <td>2.1247</td>\n",
       "      <td>24</td>\n",
       "      <td>666</td>\n",
       "      <td>20.2</td>\n",
       "      <td>23.27</td>\n",
       "      <td>13.4</td>\n",
       "      <td>1</td>\n",
       "    </tr>\n",
       "    <tr>\n",
       "      <th>488</th>\n",
       "      <td>0.15086</td>\n",
       "      <td>0.0</td>\n",
       "      <td>27.74</td>\n",
       "      <td>0</td>\n",
       "      <td>0.6090</td>\n",
       "      <td>5.454</td>\n",
       "      <td>92.7</td>\n",
       "      <td>1.8209</td>\n",
       "      <td>4</td>\n",
       "      <td>711</td>\n",
       "      <td>20.1</td>\n",
       "      <td>18.06</td>\n",
       "      <td>15.2</td>\n",
       "      <td>0</td>\n",
       "    </tr>\n",
       "    <tr>\n",
       "      <th>411</th>\n",
       "      <td>14.05070</td>\n",
       "      <td>0.0</td>\n",
       "      <td>18.10</td>\n",
       "      <td>0</td>\n",
       "      <td>0.5970</td>\n",
       "      <td>6.657</td>\n",
       "      <td>100.0</td>\n",
       "      <td>1.5275</td>\n",
       "      <td>24</td>\n",
       "      <td>666</td>\n",
       "      <td>20.2</td>\n",
       "      <td>21.22</td>\n",
       "      <td>17.2</td>\n",
       "      <td>1</td>\n",
       "    </tr>\n",
       "    <tr>\n",
       "      <th>279</th>\n",
       "      <td>0.21038</td>\n",
       "      <td>20.0</td>\n",
       "      <td>3.33</td>\n",
       "      <td>0</td>\n",
       "      <td>0.4429</td>\n",
       "      <td>6.812</td>\n",
       "      <td>32.2</td>\n",
       "      <td>4.1007</td>\n",
       "      <td>5</td>\n",
       "      <td>216</td>\n",
       "      <td>14.9</td>\n",
       "      <td>4.85</td>\n",
       "      <td>35.1</td>\n",
       "      <td>0</td>\n",
       "    </tr>\n",
       "  </tbody>\n",
       "</table>\n",
       "</div>"
      ],
      "text/plain": [
       "         crim    zn  indus  chas     nox     rm    age     dis  rad  tax  \\\n",
       "62    0.11027  25.0   5.13     0  0.4530  6.456   67.8  7.2255    8  284   \n",
       "435  11.16040   0.0  18.10     0  0.7400  6.629   94.6  2.1247   24  666   \n",
       "488   0.15086   0.0  27.74     0  0.6090  5.454   92.7  1.8209    4  711   \n",
       "411  14.05070   0.0  18.10     0  0.5970  6.657  100.0  1.5275   24  666   \n",
       "279   0.21038  20.0   3.33     0  0.4429  6.812   32.2  4.1007    5  216   \n",
       "\n",
       "     ptratio  lstat  medv  crim_class  \n",
       "62      19.7   6.73  22.2           0  \n",
       "435     20.2  23.27  13.4           1  \n",
       "488     20.1  18.06  15.2           0  \n",
       "411     20.2  21.22  17.2           1  \n",
       "279     14.9   4.85  35.1           0  "
      ]
     },
     "execution_count": 43,
     "metadata": {},
     "output_type": "execute_result"
    }
   ],
   "source": [
    "# Creating classification class\n",
    "Boston['crim_class'] = np.where(Boston['crim'] > Boston['crim'].median(), 1, 0)\n",
    "Boston.sample(5)"
   ]
  },
  {
   "cell_type": "markdown",
   "metadata": {},
   "source": [
    "### With a median crime rate of 0.256, any value above the median is classified as having a high crime rate  (denoted as 1) and low crime rate otherwise (denoted as 0).\n",
    "### **2. Statistical analysis**\n",
    "### I will first conduct a statistical analysis to develop various combinations for a wrapper feature selection. This will be done by investigating the predictors statistical significance to the target using the pearson correlation coefficient as pre-selection. This is followed by a univariate analysis to measure the p-value and t-statistic of the chosen features for further investigation of statistical significance."
   ]
  },
  {
   "cell_type": "code",
   "execution_count": 56,
   "metadata": {},
   "outputs": [
    {
     "data": {
      "text/plain": [
       "0    253\n",
       "1    253\n",
       "Name: crim_class, dtype: int64"
      ]
     },
     "execution_count": 56,
     "metadata": {},
     "output_type": "execute_result"
    }
   ],
   "source": [
    "# Class distribution\n",
    "Boston['crim_class'].value_counts()"
   ]
  },
  {
   "cell_type": "code",
   "execution_count": 45,
   "metadata": {},
   "outputs": [
    {
     "data": {
      "text/plain": [
       "crim_class    1.000000\n",
       "nox           0.723235\n",
       "rad           0.619786\n",
       "age           0.613940\n",
       "tax           0.608741\n",
       "indus         0.603260\n",
       "lstat         0.453263\n",
       "ptratio       0.253568\n",
       "chas          0.070097\n",
       "rm           -0.156372\n",
       "medv         -0.263017\n",
       "zn           -0.436151\n",
       "dis          -0.616342\n",
       "Name: crim_class, dtype: float64"
      ]
     },
     "execution_count": 45,
     "metadata": {},
     "output_type": "execute_result"
    }
   ],
   "source": [
    "Boston = Boston.drop(columns= 'crim')\n",
    "corr = Boston.corr()\n",
    "corr['crim_class'].sort_values(ascending= False)"
   ]
  },
  {
   "cell_type": "code",
   "execution_count": 55,
   "metadata": {},
   "outputs": [
    {
     "data": {
      "image/png": "[encoded data removed]",
      "text/plain": [
       "<Figure size 1000x900 with 6 Axes>"
      ]
     },
     "metadata": {},
     "output_type": "display_data"
    }
   ],
   "source": [
    "plt.figure(figsize=(10, 9))\n",
    "\n",
    "predictors = ['nox', 'rad', 'age', 'tax', 'indus', 'dis']\n",
    "\n",
    "for i, predictor in enumerate(predictors):\n",
    "    X = np.column_stack((Boston[predictor], np.power(Boston[predictor], 2), np.power(Boston[predictor], 3)))\n",
    "    y = Boston['crim_class']\n",
    "    model = sm.OLS(y, sm.add_constant(X))  # Add constant for the intercept\n",
    "    rslt = model.fit()\n",
    "    \n",
    "    plt.subplot(5, 3, i + 1)\n",
    "    sns.regplot(x= predictor, y= 'crim_class', data= Boston, color= 'purple', line_kws= {'color': 'green'})\n",
    "    plt.xlabel(predictor)\n",
    "    plt.ylabel('crim_class')\n",
    "    \n",
    "    # Plot the full polynomial regression line\n",
    "    x = np.linspace(min(Boston[predictor]), max(Boston[predictor]), 100)\n",
    "    X_pred = np.column_stack((x, x**2, x**3))\n",
    "    y_pred = rslt.predict(sm.add_constant(X_pred))\n",
    "    plt.plot(x, y_pred, color= 'red')\n",
    "\n",
    "plt.tight_layout()\n",
    "plt.show()\n"
   ]
  },
  {
   "cell_type": "markdown",
   "metadata": {},
   "source": [
    "### Using the correlation coefficients with a threshold of 0.6, we observe evidence of a relationship existing between nox, rad, age, tax, indus, dis and the crime rate. It is important to note the relationships do not have a strong correlation.\n",
    "### Using the graphs, we can test for non-linearity. The green line represents the regression line and the red line represents a polynomial regression. The regression line fits the data fairly well in relation to the polynomial regression for most predictors, but we do however observe evidence for non-linearity. Using this information, we can assume that non-linear classification methods such as the KNN and the QDA will give us the best results.\n",
    "### The selected predictors are then used for a univariate analysis using a linear regression. \n",
    "### **Univariate analysis**"
   ]
  },
  {
   "cell_type": "code",
   "execution_count": 47,
   "metadata": {},
   "outputs": [
    {
     "name": "stdout",
     "output_type": "stream",
     "text": [
      "predictor            t-statistic                   pvalue\n",
      "      nox      23.51075673403978                     0.00\n",
      "      rad     17.730232922074535                     0.00\n",
      "      age     17.461036180347634                     0.00\n",
      "      tax     17.225542434471055                     0.00\n",
      "    indus     16.981068698797316                     0.00\n",
      "      dis    -17.571056137083076                     0.00\n"
     ]
    }
   ],
   "source": [
    "# Printing the table header with t-statistic and p-value\n",
    "print('{:>} {:>22} {:>24}'.format('predictor', 't-statistic', 'pvalue'))\n",
    "\n",
    "# Initialize an empty dictionary to store t-statistic values\n",
    "t_statistics = {}\n",
    "predictors = Boston[['nox', 'rad', 'age', 'tax', 'indus', 'dis']]\n",
    "\n",
    "# Loop through each predictor and perform a univariate linear regression\n",
    "for predictor in predictors:\n",
    "    X = MS([predictor]).fit_transform(Boston)\n",
    "    y = Boston['crim_class']\n",
    "    model = sm.OLS(y, X)\n",
    "    rslt = model.fit()\n",
    "    \n",
    "    # Print the predictor name, t-statistic, and p-value\n",
    "    print('{:>9} {:>22} {:>24.2f}'.format(predictor, rslt.tvalues[predictor], rslt.pvalues[predictor]))\n",
    "    \n",
    "    # Store the t-statistic value for the predictor in the 't_statistics' dictionary\n",
    "    t_statistics[predictor] = [rslt.tvalues[predictor]]"
   ]
  },
  {
   "cell_type": "markdown",
   "metadata": {},
   "source": [
    "### All 6 predictors appear to be statistically significant to the target. The negative t-statistic is indicative of the negative slope/relationship between crime rate and dis. The predictors have a p-value less than 0.05 therefore we can reject the null hypotheses (which states that there is no relationship between the predictors and the target).\n",
    "### I will then conduct a multivariate analysis using a multiple linear regression to determine if there is any association between the predictors.\n",
    "### It is important to note that the correlation coefficient and the graphs provided evidence for non-linearity, so a multiple linear regression might not be able to capture the true relationship between the predictors. \n",
    "### **Multivariate analysis**"
   ]
  },
  {
   "cell_type": "code",
   "execution_count": 48,
   "metadata": {},
   "outputs": [
    {
     "data": {
      "text/html": [
       "<table class=\"simpletable\">\n",
       "<caption>OLS Regression Results</caption>\n",
       "<tr>\n",
       "  <th>Dep. Variable:</th>       <td>crim_class</td>    <th>  R-squared:         </th> <td>   0.592</td>\n",
       "</tr>\n",
       "<tr>\n",
       "  <th>Model:</th>                   <td>OLS</td>       <th>  Adj. R-squared:    </th> <td>   0.587</td>\n",
       "</tr>\n",
       "<tr>\n",
       "  <th>Method:</th>             <td>Least Squares</td>  <th>  F-statistic:       </th> <td>   120.5</td>\n",
       "</tr>\n",
       "<tr>\n",
       "  <th>Date:</th>             <td>Tue, 22 Aug 2023</td> <th>  Prob (F-statistic):</th> <td>9.45e-94</td>\n",
       "</tr>\n",
       "<tr>\n",
       "  <th>Time:</th>                 <td>12:52:31</td>     <th>  Log-Likelihood:    </th> <td> -140.60</td>\n",
       "</tr>\n",
       "<tr>\n",
       "  <th>No. Observations:</th>      <td>   506</td>      <th>  AIC:               </th> <td>   295.2</td>\n",
       "</tr>\n",
       "<tr>\n",
       "  <th>Df Residuals:</th>          <td>   499</td>      <th>  BIC:               </th> <td>   324.8</td>\n",
       "</tr>\n",
       "<tr>\n",
       "  <th>Df Model:</th>              <td>     6</td>      <th>                     </th>     <td> </td>   \n",
       "</tr>\n",
       "<tr>\n",
       "  <th>Covariance Type:</th>      <td>nonrobust</td>    <th>                     </th>     <td> </td>   \n",
       "</tr>\n",
       "</table>\n",
       "<table class=\"simpletable\">\n",
       "<tr>\n",
       "      <td></td>         <th>coef</th>     <th>std err</th>      <th>t</th>      <th>P>|t|</th>  <th>[0.025</th>    <th>0.975]</th>  \n",
       "</tr>\n",
       "<tr>\n",
       "  <th>intercept</th> <td>   -0.6778</td> <td>    0.151</td> <td>   -4.489</td> <td> 0.000</td> <td>   -0.974</td> <td>   -0.381</td>\n",
       "</tr>\n",
       "<tr>\n",
       "  <th>nox</th>       <td>    1.7549</td> <td>    0.241</td> <td>    7.280</td> <td> 0.000</td> <td>    1.281</td> <td>    2.228</td>\n",
       "</tr>\n",
       "<tr>\n",
       "  <th>rad</th>       <td>    0.0222</td> <td>    0.004</td> <td>    5.371</td> <td> 0.000</td> <td>    0.014</td> <td>    0.030</td>\n",
       "</tr>\n",
       "<tr>\n",
       "  <th>age</th>       <td>    0.0027</td> <td>    0.001</td> <td>    3.323</td> <td> 0.001</td> <td>    0.001</td> <td>    0.004</td>\n",
       "</tr>\n",
       "<tr>\n",
       "  <th>tax</th>       <td>   -0.0004</td> <td>    0.000</td> <td>   -1.701</td> <td> 0.090</td> <td>   -0.001</td> <td> 6.48e-05</td>\n",
       "</tr>\n",
       "<tr>\n",
       "  <th>indus</th>     <td>    0.0020</td> <td>    0.004</td> <td>    0.503</td> <td> 0.615</td> <td>   -0.006</td> <td>    0.010</td>\n",
       "</tr>\n",
       "<tr>\n",
       "  <th>dis</th>       <td>   -0.0126</td> <td>    0.012</td> <td>   -1.031</td> <td> 0.303</td> <td>   -0.037</td> <td>    0.011</td>\n",
       "</tr>\n",
       "</table>\n",
       "<table class=\"simpletable\">\n",
       "<tr>\n",
       "  <th>Omnibus:</th>       <td>31.950</td> <th>  Durbin-Watson:     </th> <td>   0.742</td>\n",
       "</tr>\n",
       "<tr>\n",
       "  <th>Prob(Omnibus):</th> <td> 0.000</td> <th>  Jarque-Bera (JB):  </th> <td>  36.768</td>\n",
       "</tr>\n",
       "<tr>\n",
       "  <th>Skew:</th>          <td> 0.653</td> <th>  Prob(JB):          </th> <td>1.04e-08</td>\n",
       "</tr>\n",
       "<tr>\n",
       "  <th>Kurtosis:</th>      <td> 2.808</td> <th>  Cond. No.          </th> <td>8.41e+03</td>\n",
       "</tr>\n",
       "</table><br/><br/>Notes:<br/>[1] Standard Errors assume that the covariance matrix of the errors is correctly specified.<br/>[2] The condition number is large, 8.41e+03. This might indicate that there are<br/>strong multicollinearity or other numerical problems."
      ],
      "text/latex": [
       "\\begin{center}\n",
       "\\begin{tabular}{lclc}\n",
       "\\toprule\n",
       "\\textbf{Dep. Variable:}    &   crim\\_class    & \\textbf{  R-squared:         } &     0.592   \\\\\n",
       "\\textbf{Model:}            &       OLS        & \\textbf{  Adj. R-squared:    } &     0.587   \\\\\n",
       "\\textbf{Method:}           &  Least Squares   & \\textbf{  F-statistic:       } &     120.5   \\\\\n",
       "\\textbf{Date:}             & Tue, 22 Aug 2023 & \\textbf{  Prob (F-statistic):} &  9.45e-94   \\\\\n",
       "\\textbf{Time:}             &     12:52:31     & \\textbf{  Log-Likelihood:    } &   -140.60   \\\\\n",
       "\\textbf{No. Observations:} &         506      & \\textbf{  AIC:               } &     295.2   \\\\\n",
       "\\textbf{Df Residuals:}     &         499      & \\textbf{  BIC:               } &     324.8   \\\\\n",
       "\\textbf{Df Model:}         &           6      & \\textbf{                     } &             \\\\\n",
       "\\textbf{Covariance Type:}  &    nonrobust     & \\textbf{                     } &             \\\\\n",
       "\\bottomrule\n",
       "\\end{tabular}\n",
       "\\begin{tabular}{lcccccc}\n",
       "                   & \\textbf{coef} & \\textbf{std err} & \\textbf{t} & \\textbf{P$> |$t$|$} & \\textbf{[0.025} & \\textbf{0.975]}  \\\\\n",
       "\\midrule\n",
       "\\textbf{intercept} &      -0.6778  &        0.151     &    -4.489  &         0.000        &       -0.974    &       -0.381     \\\\\n",
       "\\textbf{nox}       &       1.7549  &        0.241     &     7.280  &         0.000        &        1.281    &        2.228     \\\\\n",
       "\\textbf{rad}       &       0.0222  &        0.004     &     5.371  &         0.000        &        0.014    &        0.030     \\\\\n",
       "\\textbf{age}       &       0.0027  &        0.001     &     3.323  &         0.001        &        0.001    &        0.004     \\\\\n",
       "\\textbf{tax}       &      -0.0004  &        0.000     &    -1.701  &         0.090        &       -0.001    &     6.48e-05     \\\\\n",
       "\\textbf{indus}     &       0.0020  &        0.004     &     0.503  &         0.615        &       -0.006    &        0.010     \\\\\n",
       "\\textbf{dis}       &      -0.0126  &        0.012     &    -1.031  &         0.303        &       -0.037    &        0.011     \\\\\n",
       "\\bottomrule\n",
       "\\end{tabular}\n",
       "\\begin{tabular}{lclc}\n",
       "\\textbf{Omnibus:}       & 31.950 & \\textbf{  Durbin-Watson:     } &    0.742  \\\\\n",
       "\\textbf{Prob(Omnibus):} &  0.000 & \\textbf{  Jarque-Bera (JB):  } &   36.768  \\\\\n",
       "\\textbf{Skew:}          &  0.653 & \\textbf{  Prob(JB):          } & 1.04e-08  \\\\\n",
       "\\textbf{Kurtosis:}      &  2.808 & \\textbf{  Cond. No.          } & 8.41e+03  \\\\\n",
       "\\bottomrule\n",
       "\\end{tabular}\n",
       "%\\caption{OLS Regression Results}\n",
       "\\end{center}\n",
       "\n",
       "Notes: \\newline\n",
       " [1] Standard Errors assume that the covariance matrix of the errors is correctly specified. \\newline\n",
       " [2] The condition number is large, 8.41e+03. This might indicate that there are \\newline\n",
       " strong multicollinearity or other numerical problems."
      ],
      "text/plain": [
       "<class 'statsmodels.iolib.summary.Summary'>\n",
       "\"\"\"\n",
       "                            OLS Regression Results                            \n",
       "==============================================================================\n",
       "Dep. Variable:             crim_class   R-squared:                       0.592\n",
       "Model:                            OLS   Adj. R-squared:                  0.587\n",
       "Method:                 Least Squares   F-statistic:                     120.5\n",
       "Date:                Tue, 22 Aug 2023   Prob (F-statistic):           9.45e-94\n",
       "Time:                        12:52:31   Log-Likelihood:                -140.60\n",
       "No. Observations:                 506   AIC:                             295.2\n",
       "Df Residuals:                     499   BIC:                             324.8\n",
       "Df Model:                           6                                         \n",
       "Covariance Type:            nonrobust                                         \n",
       "==============================================================================\n",
       "                 coef    std err          t      P>|t|      [0.025      0.975]\n",
       "------------------------------------------------------------------------------\n",
       "intercept     -0.6778      0.151     -4.489      0.000      -0.974      -0.381\n",
       "nox            1.7549      0.241      7.280      0.000       1.281       2.228\n",
       "rad            0.0222      0.004      5.371      0.000       0.014       0.030\n",
       "age            0.0027      0.001      3.323      0.001       0.001       0.004\n",
       "tax           -0.0004      0.000     -1.701      0.090      -0.001    6.48e-05\n",
       "indus          0.0020      0.004      0.503      0.615      -0.006       0.010\n",
       "dis           -0.0126      0.012     -1.031      0.303      -0.037       0.011\n",
       "==============================================================================\n",
       "Omnibus:                       31.950   Durbin-Watson:                   0.742\n",
       "Prob(Omnibus):                  0.000   Jarque-Bera (JB):               36.768\n",
       "Skew:                           0.653   Prob(JB):                     1.04e-08\n",
       "Kurtosis:                       2.808   Cond. No.                     8.41e+03\n",
       "==============================================================================\n",
       "\n",
       "Notes:\n",
       "[1] Standard Errors assume that the covariance matrix of the errors is correctly specified.\n",
       "[2] The condition number is large, 8.41e+03. This might indicate that there are\n",
       "strong multicollinearity or other numerical problems.\n",
       "\"\"\""
      ]
     },
     "execution_count": 48,
     "metadata": {},
     "output_type": "execute_result"
    }
   ],
   "source": [
    "X = MS(predictors).fit_transform(Boston)\n",
    "model = sm.OLS(y, X)\n",
    "rslt = model.fit()\n",
    "rslt.summary()"
   ]
  },
  {
   "cell_type": "markdown",
   "metadata": {},
   "source": [
    "### The multivariate linear regression has an R-sqaured of 0.592, that is to say 59.2% of changes in crime rate can be explained by the combination of these predictors (this can be simplified by thinking of the model as being 59.2% accurate).\n",
    "### We do however note that tax, indus and dis have increased p-values which is higher than 0.05,  therefore we can not reject the null hypothesis for this predictors. This is known as the confounding effect. \n",
    "### By removing these three predictors we can apply a wrapper model selection by comparing the performance of the different combinations of predictors. The first one using only nox, rad, and age determined by the multivariate analysis, the second using the 6 predictors that were pre-selected using pearson correlation and univariate analysis, and lastly using all 12 predictors contained in the data set.\n",
    "### **3. Classification algorithms**\n",
    "### I will test various classification methods to determine which algorithm and combination of predictors is most suitable in predicting whether a certain suburb has a crime rate above or below the median crime rate in Boston.\n",
    "### I will seperate the data into training and test sets to test which algortithm performs the best on unseen data. This will be measured by the accuracy score.\n",
    "### **Linear discriminant analysis**"
   ]
  },
  {
   "cell_type": "code",
   "execution_count": 49,
   "metadata": {},
   "outputs": [
    {
     "name": "stdout",
     "output_type": "stream",
     "text": [
      "Small model accuracy: 86.27\n",
      "Large model accuracy: 86.27\n",
      "Full model accuracy: 88.24\n"
     ]
    }
   ],
   "source": [
    "Xsm = Boston[['nox', 'rad', 'age']]\n",
    "Xlm = Boston[['nox', 'rad', 'age', 'tax', 'indus', 'dis']]\n",
    "Xall = Boston.drop(columns= 'crim_class')\n",
    "\n",
    "Xsm_train, Xsm_test, y_train, y_test = train_test_split(Xsm, y, test_size= 0.2,random_state= 0)\n",
    "Xlm_train, Xlm_test, y_train, y_test = train_test_split(Xlm, y, test_size= 0.2,random_state= 0)\n",
    "Xall_train, Xall_test, y_train, y_test = train_test_split(Xall, y, test_size= 0.2,random_state= 0)\n",
    "\n",
    "# Linear discriminant analysis\n",
    "lda = LDA()\n",
    "lda = lda.fit(Xsm_train, y_train)\n",
    "lda_pred = lda.predict(Xsm_test)\n",
    "lda_accuracy = accuracy_score(y_test, lda_pred)\n",
    "print('Small model accuracy: {:.2f}'.format(lda_accuracy * 100)) \n",
    "\n",
    "lda = lda.fit(Xlm_train, y_train)\n",
    "lda_pred = lda.predict(Xlm_test)\n",
    "lda_accuracy = accuracy_score(y_test, lda_pred)\n",
    "print('Large model accuracy: {:.2f}'.format(lda_accuracy * 100)) \n",
    "\n",
    "lda = lda.fit(Xall_train, y_train)\n",
    "lda_pred = lda.predict(Xall_test)\n",
    "lda_accuracy = accuracy_score(y_test, lda_pred)\n",
    "print('Full model accuracy: {:.2f}'.format(lda_accuracy * 100))"
   ]
  },
  {
   "cell_type": "markdown",
   "metadata": {},
   "source": [
    "### **Logistic regression**"
   ]
  },
  {
   "cell_type": "code",
   "execution_count": 50,
   "metadata": {},
   "outputs": [
    {
     "name": "stdout",
     "output_type": "stream",
     "text": [
      "Small moodel accuracy: 82.35\n",
      "Large model accuracy: 86.27\n"
     ]
    },
    {
     "name": "stdout",
     "output_type": "stream",
     "text": [
      "Full model accuracy: 85.29\n"
     ]
    },
    {
     "name": "stderr",
     "output_type": "stream",
     "text": [
      "c:\\Users\\Dolf\\miniconda3\\lib\\site-packages\\sklearn\\linear_model\\_logistic.py:458: ConvergenceWarning: lbfgs failed to converge (status=1):\n",
      "STOP: TOTAL NO. of ITERATIONS REACHED LIMIT.\n",
      "\n",
      "Increase the number of iterations (max_iter) or scale the data as shown in:\n",
      "    https://scikit-learn.org/stable/modules/preprocessing.html\n",
      "Please also refer to the documentation for alternative solver options:\n",
      "    https://scikit-learn.org/stable/modules/linear_model.html#logistic-regression\n",
      "  n_iter_i = _check_optimize_result(\n",
      "c:\\Users\\Dolf\\miniconda3\\lib\\site-packages\\sklearn\\linear_model\\_logistic.py:458: ConvergenceWarning: lbfgs failed to converge (status=1):\n",
      "STOP: TOTAL NO. of ITERATIONS REACHED LIMIT.\n",
      "\n",
      "Increase the number of iterations (max_iter) or scale the data as shown in:\n",
      "    https://scikit-learn.org/stable/modules/preprocessing.html\n",
      "Please also refer to the documentation for alternative solver options:\n",
      "    https://scikit-learn.org/stable/modules/linear_model.html#logistic-regression\n",
      "  n_iter_i = _check_optimize_result(\n"
     ]
    }
   ],
   "source": [
    "# Logistic regression analysis\n",
    "logreg = LogisticRegression()\n",
    "logreg = logreg.fit(Xsm_train, y_train)\n",
    "logreg_pred = logreg.predict(Xsm_test)\n",
    "logreg_accuracy = accuracy_score(y_test, logreg_pred)\n",
    "print('Small moodel accuracy: {:.2f}'.format(logreg_accuracy * 100)) \n",
    "\n",
    "logreg = logreg.fit(Xlm_train, y_train)\n",
    "logreg_pred = logreg.predict(Xlm_test)\n",
    "logreg_accuracy = accuracy_score(y_test, logreg_pred)\n",
    "print('Large model accuracy: {:.2f}'.format(logreg_accuracy * 100)) \n",
    "\n",
    "logreg = logreg.fit(Xall_train, y_train)\n",
    "logreg_pred = logreg.predict(Xall_test)\n",
    "logreg_accuracy = accuracy_score(y_test, logreg_pred)\n",
    "print('Full model accuracy: {:.2f}'.format(logreg_accuracy * 100)) "
   ]
  },
  {
   "cell_type": "markdown",
   "metadata": {},
   "source": [
    "### **Naive bayes**"
   ]
  },
  {
   "cell_type": "code",
   "execution_count": 52,
   "metadata": {},
   "outputs": [
    {
     "name": "stdout",
     "output_type": "stream",
     "text": [
      "Small model accuracy: 87.25\n",
      "Large model accuracy: 86.27\n",
      "Full model accuracy: 83.33\n"
     ]
    }
   ],
   "source": [
    "# Naive bayes\n",
    "nb = GaussianNB()\n",
    "nb = nb.fit(Xsm_train, y_train)\n",
    "nb_pred = nb.predict(Xsm_test)\n",
    "nb_accuracy = accuracy_score(y_test, nb_pred)\n",
    "print('Small model accuracy: {:.2f}'.format(nb_accuracy * 100)) \n",
    "\n",
    "nb = nb.fit(Xlm_train, y_train)\n",
    "nb_pred = nb.predict(Xlm_test)\n",
    "nb_accuracy = accuracy_score(y_test, nb_pred)\n",
    "print('Large model accuracy: {:.2f}'.format(nb_accuracy * 100)) \n",
    "\n",
    "nb = nb.fit(Xall_train, y_train)\n",
    "nb_pred = nb.predict(Xall_test)\n",
    "nb_accuracy = accuracy_score(y_test, nb_pred)\n",
    "print('Full model accuracy: {:.2f}'.format(nb_accuracy * 100)) "
   ]
  },
  {
   "cell_type": "markdown",
   "metadata": {},
   "source": [
    "### **Quadratic discriminant analysis**"
   ]
  },
  {
   "cell_type": "code",
   "execution_count": 51,
   "metadata": {},
   "outputs": [
    {
     "name": "stdout",
     "output_type": "stream",
     "text": [
      "Small model accuracy: 86.27\n",
      "Large model accuracy: 90.20\n",
      "Full model accuracy: 89.22\n"
     ]
    }
   ],
   "source": [
    "# Quadratic discriminant analysis\n",
    "qda = QDA()\n",
    "qda = qda.fit(Xsm_train, y_train)\n",
    "qda_pred = qda.predict(Xsm_test)\n",
    "qda_accuracy = accuracy_score(y_test, qda_pred)\n",
    "print('Small model accuracy: {:.2f}'.format(qda_accuracy * 100)) \n",
    "\n",
    "qda = qda.fit(Xlm_train, y_train)\n",
    "qda_pred = qda.predict(Xlm_test)\n",
    "qda_accuracy = accuracy_score(y_test, qda_pred)\n",
    "print('Large model accuracy: {:.2f}'.format(qda_accuracy * 100)) \n",
    "\n",
    "qda = qda.fit(Xall_train, y_train)\n",
    "qda_pred = qda.predict(Xall_test)\n",
    "qda_accuracy = accuracy_score(y_test, qda_pred)\n",
    "print('Full model accuracy: {:.2f}'.format(qda_accuracy * 100)) "
   ]
  },
  {
   "cell_type": "markdown",
   "metadata": {},
   "source": [
    "### **K-nearest neighbour**\n",
    "### For KNN I will limit the number of K to range between 3 and 9. A K value of 1 or 2 can be prone to overfitting which can render our results unreliable.\n",
    "### I will create a function that tests for the best value of K for each combination of predictors."
   ]
  },
  {
   "cell_type": "code",
   "execution_count": 53,
   "metadata": {},
   "outputs": [
    {
     "name": "stdout",
     "output_type": "stream",
     "text": [
      "Best k = 9\n",
      "Small model accuracy: 81.37\n",
      " \n",
      "Best k = 4\n",
      "Large model accuracy: 92.16\n",
      " \n",
      "Best k = 4\n",
      "Full model accuracy: 94.12\n"
     ]
    }
   ],
   "source": [
    "# Get the best k for each model between 3 and 9\n",
    "def get_knn_accuracy(X_train, X_test, y_train, y_test):\n",
    "    neighbors = []\n",
    "    for n in range(3, 10):\n",
    "        knn = KNeighborsClassifier(n_neighbors=n)\n",
    "        knn = knn.fit(X_train, y_train)\n",
    "        knn_pred = knn.predict(X_test)\n",
    "        knn_accuracy = accuracy_score(y_test, knn_pred)\n",
    "        neighbors.append(knn_accuracy)\n",
    "    best_n = max(neighbors)\n",
    "    best_n = neighbors.index(best_n) + 3\n",
    "    knn = KNeighborsClassifier(n_neighbors=best_n)\n",
    "    knn = knn.fit(X_train, y_train)\n",
    "    knn_pred = knn.predict(X_test)\n",
    "    knn_accuracy = accuracy_score(y_test, knn_pred)\n",
    "    print('Best k =', best_n)\n",
    "    return knn_accuracy\n",
    "\n",
    "knn_accuracy_small = get_knn_accuracy(Xsm_train, Xsm_test, y_train, y_test)\n",
    "print('Small model accuracy: {:.2f}'.format(knn_accuracy_small * 100))\n",
    "print(' ')\n",
    "\n",
    "knn_accuracy_large = get_knn_accuracy(Xlm_train, Xlm_test, y_train, y_test)\n",
    "print('Large model accuracy: {:.2f}'.format(knn_accuracy_large * 100))\n",
    "print(' ')\n",
    "\n",
    "knn_accuracy_full = get_knn_accuracy(Xall_train, Xall_test, y_train, y_test)\n",
    "print('Full model accuracy: {:.2f}'.format(knn_accuracy_full * 100))\n"
   ]
  },
  {
   "cell_type": "markdown",
   "metadata": {},
   "source": [
    "### **Conclusion**\n",
    "### As expected from our assumption, we achieve the highest accuracy using non-linear classification methods, namely KNN and QDA. In comparing the best set of predictors, we can attain a 92.16% accuracy using KNN with 4 neighbours and the second combination of predictors that was chosen using the univariate analysis.\n",
    "### The data showed moderate correlation and provided evidence of non-linearity hence the higher accuracy of non-linear methods. \n",
    "### Despite the fuller model having a higher accuracy, a 2% decrease can be considered insignificant in favour of a more efficient model. This also reduces the possibility of overfitting the data by reducing the noise in the data making the predictions more reliable.\n",
    "### For choosing a suburb that is considered safer it is best to look into suburbs that have been classified as true negative using the results of the confusion matrix.\n",
    "### **5. Confusion matrix for best model**"
   ]
  },
  {
   "cell_type": "code",
   "execution_count": 58,
   "metadata": {},
   "outputs": [
    {
     "name": "stdout",
     "output_type": "stream",
     "text": [
      "Confusion matrix:\n",
      "[[49  2]\n",
      " [ 6 45]] \n",
      "\n",
      "Accuracy: 92.16\n"
     ]
    }
   ],
   "source": [
    "# Optimal K-nearest neighbour\n",
    "knn = KNeighborsClassifier(n_neighbors= 4)\n",
    "knn = knn.fit(Xlm_train, y_train)\n",
    "\n",
    "# Confusion matrix\n",
    "knn_pred = knn.predict(Xlm_test)\n",
    "knn_cm = confusion_matrix(y_test, knn_pred)\n",
    "knn_accuracy = accuracy_score(y_test, knn_pred)\n",
    "\n",
    "print('Confusion matrix:')\n",
    "print(knn_cm , '\\n')\n",
    "print('Accuracy: {:.2f}'.format(knn_accuracy * 100)) \n"
   ]
  },
  {
   "cell_type": "markdown",
   "metadata": {},
   "source": [
    "### 49 suburbs are considered safe."
   ]
  }
 ],
 "metadata": {
  "kernelspec": {
   "display_name": "base",
   "language": "python",
   "name": "python3"
  },
  "language_info": {
   "codemirror_mode": {
    "name": "ipython",
    "version": 3
   },
   "file_extension": ".py",
   "mimetype": "text/x-python",
   "name": "python",
   "nbconvert_exporter": "python",
   "pygments_lexer": "ipython3",
   "version": "3.9.12"
  },
  "orig_nbformat": 4
 },
 "nbformat": 4,
 "nbformat_minor": 2
}

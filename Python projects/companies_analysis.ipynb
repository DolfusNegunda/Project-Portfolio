{
 "cells": [
  {
   "attachments": {},
   "cell_type": "markdown",
   "metadata": {},
   "source": [
    "## Descriptive Analysis - Big companies\n",
    "\n",
    "### Goal: Analyze and derive insights from dataset\n",
    "\n",
    "### Sections:\n",
    "#### * Section 1 - Importing Libraries\n",
    "#### * Section 2 - Loading and Understanding the data\n",
    "#### * Section 3 - Data processing\n",
    "#### * Section 4 - Data Analysis - Visual EDA\n",
    "#### * Section 5 - Insights and conclusion\n",
    "\n",
    "The dataset contains information about some of the world's biggest companies around the globe and can be found on Kaggle.com: 'https://www.kaggle.com/datasets/marshuu/worlds-biggest-companies-dataset?select=cleaned_biggest_companies.csv'."
   ]
  },
  {
   "attachments": {},
   "cell_type": "markdown",
   "metadata": {},
   "source": [
    "### 1. Importing libraries"
   ]
  },
  {
   "cell_type": "code",
   "execution_count": 1,
   "metadata": {},
   "outputs": [],
   "source": [
    "import pandas as pd\n",
    "import datetime as dt\n",
    "import numpy as np\n",
    "import seaborn as sns\n",
    "import matplotlib.pyplot as plt\n",
    "\n",
    "plt.style.use('ggplot')\n",
    "sns.set_theme(style= 'darkgrid')"
   ]
  },
  {
   "attachments": {},
   "cell_type": "markdown",
   "metadata": {},
   "source": [
    "### 2. Loading and understanding the data"
   ]
  },
  {
   "cell_type": "code",
   "execution_count": 2,
   "metadata": {},
   "outputs": [
    {
     "data": {
      "text/html": [
       "<div>\n",
       "<style scoped>\n",
       "    .dataframe tbody tr th:only-of-type {\n",
       "        vertical-align: middle;\n",
       "    }\n",
       "\n",
       "    .dataframe tbody tr th {\n",
       "        vertical-align: top;\n",
       "    }\n",
       "\n",
       "    .dataframe thead th {\n",
       "        text-align: right;\n",
       "    }\n",
       "</style>\n",
       "<table border=\"1\" class=\"dataframe\">\n",
       "  <thead>\n",
       "    <tr style=\"text-align: right;\">\n",
       "      <th></th>\n",
       "      <th>Company Name</th>\n",
       "      <th>Country Founded</th>\n",
       "      <th>Year Founded</th>\n",
       "      <th>Revenue 2018</th>\n",
       "      <th>Revenue 2019</th>\n",
       "      <th>Revenue 2020</th>\n",
       "      <th>Net Income 2018</th>\n",
       "      <th>Net Income 2019</th>\n",
       "      <th>Net Income 2020</th>\n",
       "      <th>Industry</th>\n",
       "    </tr>\n",
       "  </thead>\n",
       "  <tbody>\n",
       "    <tr>\n",
       "      <th>0</th>\n",
       "      <td>Amazon</td>\n",
       "      <td>United States</td>\n",
       "      <td>1994</td>\n",
       "      <td>232.9</td>\n",
       "      <td>280.5</td>\n",
       "      <td>386.1</td>\n",
       "      <td>21.3</td>\n",
       "      <td>21.3</td>\n",
       "      <td>21.3</td>\n",
       "      <td>Retail</td>\n",
       "    </tr>\n",
       "    <tr>\n",
       "      <th>1</th>\n",
       "      <td>Apple</td>\n",
       "      <td>United States</td>\n",
       "      <td>1976</td>\n",
       "      <td>265.6</td>\n",
       "      <td>260.2</td>\n",
       "      <td>274.5</td>\n",
       "      <td>59.5</td>\n",
       "      <td>55.2</td>\n",
       "      <td>111.4</td>\n",
       "      <td>Technology</td>\n",
       "    </tr>\n",
       "    <tr>\n",
       "      <th>2</th>\n",
       "      <td>Google</td>\n",
       "      <td>United States</td>\n",
       "      <td>1998</td>\n",
       "      <td>136.8</td>\n",
       "      <td>161.9</td>\n",
       "      <td>182.3</td>\n",
       "      <td>30.7</td>\n",
       "      <td>34.3</td>\n",
       "      <td>46.2</td>\n",
       "      <td>Technology</td>\n",
       "    </tr>\n",
       "    <tr>\n",
       "      <th>3</th>\n",
       "      <td>Microsoft</td>\n",
       "      <td>United States</td>\n",
       "      <td>1975</td>\n",
       "      <td>110.4</td>\n",
       "      <td>130.9</td>\n",
       "      <td>143.0</td>\n",
       "      <td>16.6</td>\n",
       "      <td>44.3</td>\n",
       "      <td>53.0</td>\n",
       "      <td>Technology</td>\n",
       "    </tr>\n",
       "    <tr>\n",
       "      <th>4</th>\n",
       "      <td>Alibaba</td>\n",
       "      <td>China</td>\n",
       "      <td>1999</td>\n",
       "      <td>39.9</td>\n",
       "      <td>56.1</td>\n",
       "      <td>70.2</td>\n",
       "      <td>12.9</td>\n",
       "      <td>14.9</td>\n",
       "      <td>11.9</td>\n",
       "      <td>Retail</td>\n",
       "    </tr>\n",
       "  </tbody>\n",
       "</table>\n",
       "</div>"
      ],
      "text/plain": [
       "  Company Name Country Founded  Year Founded  Revenue 2018  Revenue 2019  \\\n",
       "0       Amazon   United States          1994         232.9         280.5   \n",
       "1        Apple   United States          1976         265.6         260.2   \n",
       "2       Google   United States          1998         136.8         161.9   \n",
       "3    Microsoft   United States          1975         110.4         130.9   \n",
       "4      Alibaba           China          1999          39.9          56.1   \n",
       "\n",
       "   Revenue 2020  Net Income 2018  Net Income 2019  Net Income 2020    Industry  \n",
       "0         386.1             21.3             21.3             21.3      Retail  \n",
       "1         274.5             59.5             55.2            111.4  Technology  \n",
       "2         182.3             30.7             34.3             46.2  Technology  \n",
       "3         143.0             16.6             44.3             53.0  Technology  \n",
       "4          70.2             12.9             14.9             11.9      Retail  "
      ]
     },
     "execution_count": 2,
     "metadata": {},
     "output_type": "execute_result"
    }
   ],
   "source": [
    "df = pd.read_csv('cleaned_biggest_companies.csv')\n",
    "df.head()"
   ]
  },
  {
   "cell_type": "code",
   "execution_count": 3,
   "metadata": {},
   "outputs": [
    {
     "name": "stdout",
     "output_type": "stream",
     "text": [
      "<class 'pandas.core.frame.DataFrame'>\n",
      "RangeIndex: 274 entries, 0 to 273\n",
      "Data columns (total 10 columns):\n",
      " #   Column           Non-Null Count  Dtype  \n",
      "---  ------           --------------  -----  \n",
      " 0   Company Name     274 non-null    object \n",
      " 1   Country Founded  274 non-null    object \n",
      " 2   Year Founded     274 non-null    int64  \n",
      " 3   Revenue 2018     274 non-null    float64\n",
      " 4   Revenue 2019     274 non-null    float64\n",
      " 5   Revenue 2020     274 non-null    float64\n",
      " 6   Net Income 2018  274 non-null    float64\n",
      " 7   Net Income 2019  274 non-null    float64\n",
      " 8   Net Income 2020  274 non-null    float64\n",
      " 9   Industry         274 non-null    object \n",
      "dtypes: float64(6), int64(1), object(3)\n",
      "memory usage: 21.5+ KB\n"
     ]
    }
   ],
   "source": [
    "# General info about each variable and its data type\n",
    "df.info()"
   ]
  },
  {
   "cell_type": "code",
   "execution_count": 4,
   "metadata": {},
   "outputs": [
    {
     "data": {
      "text/plain": [
       "Company Name       0\n",
       "Country Founded    0\n",
       "Year Founded       0\n",
       "Revenue 2018       0\n",
       "Revenue 2019       0\n",
       "Revenue 2020       0\n",
       "Net Income 2018    0\n",
       "Net Income 2019    0\n",
       "Net Income 2020    0\n",
       "Industry           0\n",
       "dtype: int64"
      ]
     },
     "execution_count": 4,
     "metadata": {},
     "output_type": "execute_result"
    }
   ],
   "source": [
    "# Checking null values\n",
    "df.isna().sum()"
   ]
  },
  {
   "cell_type": "code",
   "execution_count": 5,
   "metadata": {},
   "outputs": [
    {
     "data": {
      "text/html": [
       "<div>\n",
       "<style scoped>\n",
       "    .dataframe tbody tr th:only-of-type {\n",
       "        vertical-align: middle;\n",
       "    }\n",
       "\n",
       "    .dataframe tbody tr th {\n",
       "        vertical-align: top;\n",
       "    }\n",
       "\n",
       "    .dataframe thead th {\n",
       "        text-align: right;\n",
       "    }\n",
       "</style>\n",
       "<table border=\"1\" class=\"dataframe\">\n",
       "  <thead>\n",
       "    <tr style=\"text-align: right;\">\n",
       "      <th></th>\n",
       "      <th>Company Name</th>\n",
       "      <th>Country Founded</th>\n",
       "      <th>Year Founded</th>\n",
       "      <th>Revenue 2018</th>\n",
       "      <th>Revenue 2019</th>\n",
       "      <th>Revenue 2020</th>\n",
       "      <th>Net Income 2018</th>\n",
       "      <th>Net Income 2019</th>\n",
       "      <th>Net Income 2020</th>\n",
       "      <th>Industry</th>\n",
       "    </tr>\n",
       "  </thead>\n",
       "  <tbody>\n",
       "    <tr>\n",
       "      <th>34</th>\n",
       "      <td>Anheuser-Busch InBev</td>\n",
       "      <td>Belgium</td>\n",
       "      <td>1366</td>\n",
       "      <td>54.600</td>\n",
       "      <td>54.600</td>\n",
       "      <td>52.300</td>\n",
       "      <td>9.700</td>\n",
       "      <td>10.200</td>\n",
       "      <td>9.100</td>\n",
       "      <td>Beverages</td>\n",
       "    </tr>\n",
       "    <tr>\n",
       "      <th>115</th>\n",
       "      <td>BP</td>\n",
       "      <td>United Kingdom</td>\n",
       "      <td>1909</td>\n",
       "      <td>303.700</td>\n",
       "      <td>303.500</td>\n",
       "      <td>303.300</td>\n",
       "      <td>6.200</td>\n",
       "      <td>4.700</td>\n",
       "      <td>3.200</td>\n",
       "      <td>Oil and gas</td>\n",
       "    </tr>\n",
       "    <tr>\n",
       "      <th>22</th>\n",
       "      <td>Chevron</td>\n",
       "      <td>United States</td>\n",
       "      <td>1879</td>\n",
       "      <td>134.600</td>\n",
       "      <td>134.300</td>\n",
       "      <td>121.500</td>\n",
       "      <td>14.800</td>\n",
       "      <td>11.900</td>\n",
       "      <td>5.600</td>\n",
       "      <td>Oil</td>\n",
       "    </tr>\n",
       "    <tr>\n",
       "      <th>169</th>\n",
       "      <td>Danske Bank</td>\n",
       "      <td>Estonia</td>\n",
       "      <td>1992</td>\n",
       "      <td>0.051</td>\n",
       "      <td>0.052</td>\n",
       "      <td>0.053</td>\n",
       "      <td>0.051</td>\n",
       "      <td>0.052</td>\n",
       "      <td>0.053</td>\n",
       "      <td>Banking</td>\n",
       "    </tr>\n",
       "    <tr>\n",
       "      <th>32</th>\n",
       "      <td>Goldman Sachs</td>\n",
       "      <td>United States</td>\n",
       "      <td>1869</td>\n",
       "      <td>32.200</td>\n",
       "      <td>32.700</td>\n",
       "      <td>32.800</td>\n",
       "      <td>7.600</td>\n",
       "      <td>9.800</td>\n",
       "      <td>11.300</td>\n",
       "      <td>Investment</td>\n",
       "    </tr>\n",
       "    <tr>\n",
       "      <th>28</th>\n",
       "      <td>Johnson &amp; Johnson</td>\n",
       "      <td>United States</td>\n",
       "      <td>1886</td>\n",
       "      <td>81.600</td>\n",
       "      <td>82.100</td>\n",
       "      <td>82.000</td>\n",
       "      <td>16.300</td>\n",
       "      <td>15.500</td>\n",
       "      <td>16.400</td>\n",
       "      <td>Healthcare</td>\n",
       "    </tr>\n",
       "    <tr>\n",
       "      <th>204</th>\n",
       "      <td>MTN Group</td>\n",
       "      <td>Nigeria</td>\n",
       "      <td>1994</td>\n",
       "      <td>3.300</td>\n",
       "      <td>3.500</td>\n",
       "      <td>3.600</td>\n",
       "      <td>0.500</td>\n",
       "      <td>0.600</td>\n",
       "      <td>0.700</td>\n",
       "      <td>Telecommunications</td>\n",
       "    </tr>\n",
       "    <tr>\n",
       "      <th>165</th>\n",
       "      <td>Nordea Bank</td>\n",
       "      <td>Sweden</td>\n",
       "      <td>1997</td>\n",
       "      <td>10.800</td>\n",
       "      <td>11.000</td>\n",
       "      <td>11.200</td>\n",
       "      <td>1.100</td>\n",
       "      <td>2.100</td>\n",
       "      <td>3.100</td>\n",
       "      <td>Banking</td>\n",
       "    </tr>\n",
       "    <tr>\n",
       "      <th>116</th>\n",
       "      <td>Royal Dutch Shell</td>\n",
       "      <td>United Kingdom</td>\n",
       "      <td>1907</td>\n",
       "      <td>388.400</td>\n",
       "      <td>396.600</td>\n",
       "      <td>404.800</td>\n",
       "      <td>23.700</td>\n",
       "      <td>19.700</td>\n",
       "      <td>15.700</td>\n",
       "      <td>Oil and gas</td>\n",
       "    </tr>\n",
       "    <tr>\n",
       "      <th>118</th>\n",
       "      <td>Unilever</td>\n",
       "      <td>United Kingdom</td>\n",
       "      <td>1929</td>\n",
       "      <td>60.200</td>\n",
       "      <td>61.900</td>\n",
       "      <td>63.600</td>\n",
       "      <td>7.100</td>\n",
       "      <td>7.900</td>\n",
       "      <td>8.700</td>\n",
       "      <td>Consumer goods</td>\n",
       "    </tr>\n",
       "  </tbody>\n",
       "</table>\n",
       "</div>"
      ],
      "text/plain": [
       "             Company Name Country Founded  Year Founded  Revenue 2018  \\\n",
       "34   Anheuser-Busch InBev         Belgium          1366        54.600   \n",
       "115                    BP  United Kingdom          1909       303.700   \n",
       "22                Chevron   United States          1879       134.600   \n",
       "169           Danske Bank         Estonia          1992         0.051   \n",
       "32          Goldman Sachs   United States          1869        32.200   \n",
       "28      Johnson & Johnson   United States          1886        81.600   \n",
       "204             MTN Group         Nigeria          1994         3.300   \n",
       "165           Nordea Bank          Sweden          1997        10.800   \n",
       "116     Royal Dutch Shell  United Kingdom          1907       388.400   \n",
       "118              Unilever  United Kingdom          1929        60.200   \n",
       "\n",
       "     Revenue 2019  Revenue 2020  Net Income 2018  Net Income 2019  \\\n",
       "34         54.600        52.300            9.700           10.200   \n",
       "115       303.500       303.300            6.200            4.700   \n",
       "22        134.300       121.500           14.800           11.900   \n",
       "169         0.052         0.053            0.051            0.052   \n",
       "32         32.700        32.800            7.600            9.800   \n",
       "28         82.100        82.000           16.300           15.500   \n",
       "204         3.500         3.600            0.500            0.600   \n",
       "165        11.000        11.200            1.100            2.100   \n",
       "116       396.600       404.800           23.700           19.700   \n",
       "118        61.900        63.600            7.100            7.900   \n",
       "\n",
       "     Net Income 2020            Industry  \n",
       "34             9.100           Beverages  \n",
       "115            3.200         Oil and gas  \n",
       "22             5.600                 Oil  \n",
       "169            0.053             Banking  \n",
       "32            11.300          Investment  \n",
       "28            16.400          Healthcare  \n",
       "204            0.700  Telecommunications  \n",
       "165            3.100             Banking  \n",
       "116           15.700         Oil and gas  \n",
       "118            8.700      Consumer goods  "
      ]
     },
     "execution_count": 5,
     "metadata": {},
     "output_type": "execute_result"
    }
   ],
   "source": [
    "# Checking duplicates by company name\n",
    "df[df['Company Name'].duplicated()].sort_values(by= 'Company Name')"
   ]
  },
  {
   "cell_type": "code",
   "execution_count": 6,
   "metadata": {},
   "outputs": [],
   "source": [
    "# We have 10 duplicates, removing duplicates founded in the wrong country\n",
    "df = df.drop(index=[21, 24, 14, 29, 9, 23, 20, 169, 204, 165])"
   ]
  },
  {
   "cell_type": "code",
   "execution_count": 7,
   "metadata": {},
   "outputs": [
    {
     "name": "stdout",
     "output_type": "stream",
     "text": [
      "<class 'pandas.core.frame.DataFrame'>\n",
      "Int64Index: 264 entries, 0 to 273\n",
      "Data columns (total 10 columns):\n",
      " #   Column           Non-Null Count  Dtype  \n",
      "---  ------           --------------  -----  \n",
      " 0   Company Name     264 non-null    object \n",
      " 1   Country Founded  264 non-null    object \n",
      " 2   Year Founded     264 non-null    int64  \n",
      " 3   Revenue 2018     264 non-null    float64\n",
      " 4   Revenue 2019     264 non-null    float64\n",
      " 5   Revenue 2020     264 non-null    float64\n",
      " 6   Net Income 2018  264 non-null    float64\n",
      " 7   Net Income 2019  264 non-null    float64\n",
      " 8   Net Income 2020  264 non-null    float64\n",
      " 9   Industry         264 non-null    object \n",
      "dtypes: float64(6), int64(1), object(3)\n",
      "memory usage: 22.7+ KB\n"
     ]
    }
   ],
   "source": [
    "df.info()"
   ]
  },
  {
   "attachments": {},
   "cell_type": "markdown",
   "metadata": {},
   "source": [
    "### 3. Data Processing"
   ]
  },
  {
   "cell_type": "code",
   "execution_count": 8,
   "metadata": {},
   "outputs": [
    {
     "data": {
      "text/html": [
       "<div>\n",
       "<style scoped>\n",
       "    .dataframe tbody tr th:only-of-type {\n",
       "        vertical-align: middle;\n",
       "    }\n",
       "\n",
       "    .dataframe tbody tr th {\n",
       "        vertical-align: top;\n",
       "    }\n",
       "\n",
       "    .dataframe thead th {\n",
       "        text-align: right;\n",
       "    }\n",
       "</style>\n",
       "<table border=\"1\" class=\"dataframe\">\n",
       "  <thead>\n",
       "    <tr style=\"text-align: right;\">\n",
       "      <th></th>\n",
       "      <th>Company Name</th>\n",
       "      <th>variable</th>\n",
       "      <th>value</th>\n",
       "    </tr>\n",
       "  </thead>\n",
       "  <tbody>\n",
       "    <tr>\n",
       "      <th>697</th>\n",
       "      <td>ACS</td>\n",
       "      <td>Revenue 2020</td>\n",
       "      <td>57.4</td>\n",
       "    </tr>\n",
       "    <tr>\n",
       "      <th>169</th>\n",
       "      <td>ACS</td>\n",
       "      <td>Revenue 2018</td>\n",
       "      <td>56.2</td>\n",
       "    </tr>\n",
       "    <tr>\n",
       "      <th>433</th>\n",
       "      <td>ACS</td>\n",
       "      <td>Revenue 2019</td>\n",
       "      <td>56.8</td>\n",
       "    </tr>\n",
       "    <tr>\n",
       "      <th>408</th>\n",
       "      <td>AMP</td>\n",
       "      <td>Revenue 2019</td>\n",
       "      <td>16.5</td>\n",
       "    </tr>\n",
       "    <tr>\n",
       "      <th>672</th>\n",
       "      <td>AMP</td>\n",
       "      <td>Revenue 2020</td>\n",
       "      <td>16.7</td>\n",
       "    </tr>\n",
       "    <tr>\n",
       "      <th>144</th>\n",
       "      <td>AMP</td>\n",
       "      <td>Revenue 2018</td>\n",
       "      <td>16.3</td>\n",
       "    </tr>\n",
       "  </tbody>\n",
       "</table>\n",
       "</div>"
      ],
      "text/plain": [
       "    Company Name      variable  value\n",
       "697          ACS  Revenue 2020   57.4\n",
       "169          ACS  Revenue 2018   56.2\n",
       "433          ACS  Revenue 2019   56.8\n",
       "408          AMP  Revenue 2019   16.5\n",
       "672          AMP  Revenue 2020   16.7\n",
       "144          AMP  Revenue 2018   16.3"
      ]
     },
     "execution_count": 8,
     "metadata": {},
     "output_type": "execute_result"
    }
   ],
   "source": [
    "# Unpivoting the yearly Revenue and Net income columns into rows\n",
    "revenue_df = df.melt(id_vars= 'Company Name', value_vars= ['Revenue 2018','Revenue 2019','Revenue 2020'])\n",
    "income_df = df.melt(id_vars= 'Company Name', value_vars= ['Net Income 2018','Net Income 2019','Net Income 2020'])\n",
    "revenue_df.sort_values(by='Company Name').head(6)"
   ]
  },
  {
   "cell_type": "code",
   "execution_count": 9,
   "metadata": {},
   "outputs": [
    {
     "data": {
      "text/html": [
       "<div>\n",
       "<style scoped>\n",
       "    .dataframe tbody tr th:only-of-type {\n",
       "        vertical-align: middle;\n",
       "    }\n",
       "\n",
       "    .dataframe tbody tr th {\n",
       "        vertical-align: top;\n",
       "    }\n",
       "\n",
       "    .dataframe thead th {\n",
       "        text-align: right;\n",
       "    }\n",
       "</style>\n",
       "<table border=\"1\" class=\"dataframe\">\n",
       "  <thead>\n",
       "    <tr style=\"text-align: right;\">\n",
       "      <th></th>\n",
       "      <th>Company Name</th>\n",
       "      <th>variable</th>\n",
       "      <th>value</th>\n",
       "    </tr>\n",
       "  </thead>\n",
       "  <tbody>\n",
       "    <tr>\n",
       "      <th>697</th>\n",
       "      <td>ACS</td>\n",
       "      <td>2020</td>\n",
       "      <td>57.4</td>\n",
       "    </tr>\n",
       "    <tr>\n",
       "      <th>169</th>\n",
       "      <td>ACS</td>\n",
       "      <td>2018</td>\n",
       "      <td>56.2</td>\n",
       "    </tr>\n",
       "    <tr>\n",
       "      <th>433</th>\n",
       "      <td>ACS</td>\n",
       "      <td>2019</td>\n",
       "      <td>56.8</td>\n",
       "    </tr>\n",
       "    <tr>\n",
       "      <th>408</th>\n",
       "      <td>AMP</td>\n",
       "      <td>2019</td>\n",
       "      <td>16.5</td>\n",
       "    </tr>\n",
       "    <tr>\n",
       "      <th>672</th>\n",
       "      <td>AMP</td>\n",
       "      <td>2020</td>\n",
       "      <td>16.7</td>\n",
       "    </tr>\n",
       "    <tr>\n",
       "      <th>144</th>\n",
       "      <td>AMP</td>\n",
       "      <td>2018</td>\n",
       "      <td>16.3</td>\n",
       "    </tr>\n",
       "  </tbody>\n",
       "</table>\n",
       "</div>"
      ],
      "text/plain": [
       "    Company Name variable  value\n",
       "697          ACS     2020   57.4\n",
       "169          ACS     2018   56.2\n",
       "433          ACS     2019   56.8\n",
       "408          AMP     2019   16.5\n",
       "672          AMP     2020   16.7\n",
       "144          AMP     2018   16.3"
      ]
     },
     "execution_count": 9,
     "metadata": {},
     "output_type": "execute_result"
    }
   ],
   "source": [
    "# Removing non numeric values from the 'variable' columns\n",
    "revenue_df['variable'] = revenue_df['variable'].str.replace('Revenue ','',)\n",
    "income_df['variable'] = income_df['variable'].str.replace('Net Income ','',)\n",
    "revenue_df.sort_values(by='Company Name').head(6)"
   ]
  },
  {
   "cell_type": "code",
   "execution_count": 10,
   "metadata": {},
   "outputs": [
    {
     "data": {
      "text/html": [
       "<div>\n",
       "<style scoped>\n",
       "    .dataframe tbody tr th:only-of-type {\n",
       "        vertical-align: middle;\n",
       "    }\n",
       "\n",
       "    .dataframe tbody tr th {\n",
       "        vertical-align: top;\n",
       "    }\n",
       "\n",
       "    .dataframe thead th {\n",
       "        text-align: right;\n",
       "    }\n",
       "</style>\n",
       "<table border=\"1\" class=\"dataframe\">\n",
       "  <thead>\n",
       "    <tr style=\"text-align: right;\">\n",
       "      <th></th>\n",
       "      <th>Company Name</th>\n",
       "      <th>variable</th>\n",
       "      <th>value_x</th>\n",
       "      <th>value_y</th>\n",
       "    </tr>\n",
       "  </thead>\n",
       "  <tbody>\n",
       "    <tr>\n",
       "      <th>169</th>\n",
       "      <td>ACS</td>\n",
       "      <td>2018</td>\n",
       "      <td>56.2</td>\n",
       "      <td>5.6</td>\n",
       "    </tr>\n",
       "    <tr>\n",
       "      <th>433</th>\n",
       "      <td>ACS</td>\n",
       "      <td>2019</td>\n",
       "      <td>56.8</td>\n",
       "      <td>6.6</td>\n",
       "    </tr>\n",
       "    <tr>\n",
       "      <th>697</th>\n",
       "      <td>ACS</td>\n",
       "      <td>2020</td>\n",
       "      <td>57.4</td>\n",
       "      <td>7.6</td>\n",
       "    </tr>\n",
       "    <tr>\n",
       "      <th>144</th>\n",
       "      <td>AMP</td>\n",
       "      <td>2018</td>\n",
       "      <td>16.3</td>\n",
       "      <td>1.3</td>\n",
       "    </tr>\n",
       "    <tr>\n",
       "      <th>408</th>\n",
       "      <td>AMP</td>\n",
       "      <td>2019</td>\n",
       "      <td>16.5</td>\n",
       "      <td>2.3</td>\n",
       "    </tr>\n",
       "    <tr>\n",
       "      <th>672</th>\n",
       "      <td>AMP</td>\n",
       "      <td>2020</td>\n",
       "      <td>16.7</td>\n",
       "      <td>3.3</td>\n",
       "    </tr>\n",
       "    <tr>\n",
       "      <th>135</th>\n",
       "      <td>ANZ</td>\n",
       "      <td>2018</td>\n",
       "      <td>27.6</td>\n",
       "      <td>6.6</td>\n",
       "    </tr>\n",
       "    <tr>\n",
       "      <th>399</th>\n",
       "      <td>ANZ</td>\n",
       "      <td>2019</td>\n",
       "      <td>28.2</td>\n",
       "      <td>5.6</td>\n",
       "    </tr>\n",
       "    <tr>\n",
       "      <th>663</th>\n",
       "      <td>ANZ</td>\n",
       "      <td>2020</td>\n",
       "      <td>28.8</td>\n",
       "      <td>4.6</td>\n",
       "    </tr>\n",
       "  </tbody>\n",
       "</table>\n",
       "</div>"
      ],
      "text/plain": [
       "    Company Name  variable  value_x  value_y\n",
       "169          ACS      2018     56.2      5.6\n",
       "433          ACS      2019     56.8      6.6\n",
       "697          ACS      2020     57.4      7.6\n",
       "144          AMP      2018     16.3      1.3\n",
       "408          AMP      2019     16.5      2.3\n",
       "672          AMP      2020     16.7      3.3\n",
       "135          ANZ      2018     27.6      6.6\n",
       "399          ANZ      2019     28.2      5.6\n",
       "663          ANZ      2020     28.8      4.6"
      ]
     },
     "execution_count": 10,
     "metadata": {},
     "output_type": "execute_result"
    }
   ],
   "source": [
    "# Joining unpivoted columns and converting 'variable' column to datetime\n",
    "df_new = pd.merge(revenue_df, income_df, left_on=['Company Name','variable'], right_on=['Company Name','variable'],)\n",
    "df_new['variable'] = pd.to_datetime(df_new['variable'])\n",
    "df_new['variable']=df_new['variable'].dt.year\n",
    "df_new.sort_values(by=['Company Name','variable']).head(9)\n"
   ]
  },
  {
   "cell_type": "code",
   "execution_count": 11,
   "metadata": {},
   "outputs": [
    {
     "data": {
      "text/html": [
       "<div>\n",
       "<style scoped>\n",
       "    .dataframe tbody tr th:only-of-type {\n",
       "        vertical-align: middle;\n",
       "    }\n",
       "\n",
       "    .dataframe tbody tr th {\n",
       "        vertical-align: top;\n",
       "    }\n",
       "\n",
       "    .dataframe thead th {\n",
       "        text-align: right;\n",
       "    }\n",
       "</style>\n",
       "<table border=\"1\" class=\"dataframe\">\n",
       "  <thead>\n",
       "    <tr style=\"text-align: right;\">\n",
       "      <th></th>\n",
       "      <th>Company Name</th>\n",
       "      <th>Country Founded</th>\n",
       "      <th>Year Founded</th>\n",
       "      <th>Revenue 2018</th>\n",
       "      <th>Revenue 2019</th>\n",
       "      <th>Revenue 2020</th>\n",
       "      <th>Net Income 2018</th>\n",
       "      <th>Net Income 2019</th>\n",
       "      <th>Net Income 2020</th>\n",
       "      <th>Industry</th>\n",
       "    </tr>\n",
       "  </thead>\n",
       "  <tbody>\n",
       "    <tr>\n",
       "      <th>178</th>\n",
       "      <td>ACS</td>\n",
       "      <td>Spain</td>\n",
       "      <td>1997</td>\n",
       "      <td>56.2</td>\n",
       "      <td>56.8</td>\n",
       "      <td>57.4</td>\n",
       "      <td>5.6</td>\n",
       "      <td>6.6</td>\n",
       "      <td>7.6</td>\n",
       "      <td>Construction and services</td>\n",
       "    </tr>\n",
       "    <tr>\n",
       "      <th>151</th>\n",
       "      <td>AMP</td>\n",
       "      <td>Australia</td>\n",
       "      <td>1849</td>\n",
       "      <td>16.3</td>\n",
       "      <td>16.5</td>\n",
       "      <td>16.7</td>\n",
       "      <td>1.3</td>\n",
       "      <td>2.3</td>\n",
       "      <td>3.3</td>\n",
       "      <td>Financial services</td>\n",
       "    </tr>\n",
       "    <tr>\n",
       "      <th>142</th>\n",
       "      <td>ANZ</td>\n",
       "      <td>Australia</td>\n",
       "      <td>1951</td>\n",
       "      <td>27.6</td>\n",
       "      <td>28.2</td>\n",
       "      <td>28.8</td>\n",
       "      <td>6.6</td>\n",
       "      <td>5.6</td>\n",
       "      <td>4.6</td>\n",
       "      <td>Banking</td>\n",
       "    </tr>\n",
       "  </tbody>\n",
       "</table>\n",
       "</div>"
      ],
      "text/plain": [
       "    Company Name Country Founded  Year Founded  Revenue 2018  Revenue 2019  \\\n",
       "178          ACS           Spain          1997          56.2          56.8   \n",
       "151          AMP       Australia          1849          16.3          16.5   \n",
       "142          ANZ       Australia          1951          27.6          28.2   \n",
       "\n",
       "     Revenue 2020  Net Income 2018  Net Income 2019  Net Income 2020  \\\n",
       "178          57.4              5.6              6.6              7.6   \n",
       "151          16.7              1.3              2.3              3.3   \n",
       "142          28.8              6.6              5.6              4.6   \n",
       "\n",
       "                      Industry  \n",
       "178  Construction and services  \n",
       "151         Financial services  \n",
       "142                    Banking  "
      ]
     },
     "execution_count": 11,
     "metadata": {},
     "output_type": "execute_result"
    }
   ],
   "source": [
    "# Quick verification with above output\n",
    "df.sort_values(by='Company Name').head(3)"
   ]
  },
  {
   "cell_type": "code",
   "execution_count": 12,
   "metadata": {},
   "outputs": [
    {
     "data": {
      "text/html": [
       "<div>\n",
       "<style scoped>\n",
       "    .dataframe tbody tr th:only-of-type {\n",
       "        vertical-align: middle;\n",
       "    }\n",
       "\n",
       "    .dataframe tbody tr th {\n",
       "        vertical-align: top;\n",
       "    }\n",
       "\n",
       "    .dataframe thead th {\n",
       "        text-align: right;\n",
       "    }\n",
       "</style>\n",
       "<table border=\"1\" class=\"dataframe\">\n",
       "  <thead>\n",
       "    <tr style=\"text-align: right;\">\n",
       "      <th></th>\n",
       "      <th>Company Name</th>\n",
       "      <th>variable</th>\n",
       "      <th>value_x</th>\n",
       "      <th>value_y</th>\n",
       "      <th>Country Founded</th>\n",
       "      <th>Year Founded</th>\n",
       "      <th>Industry</th>\n",
       "    </tr>\n",
       "  </thead>\n",
       "  <tbody>\n",
       "    <tr>\n",
       "      <th>507</th>\n",
       "      <td>ACS</td>\n",
       "      <td>2018</td>\n",
       "      <td>56.2</td>\n",
       "      <td>5.6</td>\n",
       "      <td>Spain</td>\n",
       "      <td>1997</td>\n",
       "      <td>Construction and services</td>\n",
       "    </tr>\n",
       "    <tr>\n",
       "      <th>508</th>\n",
       "      <td>ACS</td>\n",
       "      <td>2019</td>\n",
       "      <td>56.8</td>\n",
       "      <td>6.6</td>\n",
       "      <td>Spain</td>\n",
       "      <td>1997</td>\n",
       "      <td>Construction and services</td>\n",
       "    </tr>\n",
       "    <tr>\n",
       "      <th>509</th>\n",
       "      <td>ACS</td>\n",
       "      <td>2020</td>\n",
       "      <td>57.4</td>\n",
       "      <td>7.6</td>\n",
       "      <td>Spain</td>\n",
       "      <td>1997</td>\n",
       "      <td>Construction and services</td>\n",
       "    </tr>\n",
       "    <tr>\n",
       "      <th>432</th>\n",
       "      <td>AMP</td>\n",
       "      <td>2018</td>\n",
       "      <td>16.3</td>\n",
       "      <td>1.3</td>\n",
       "      <td>Australia</td>\n",
       "      <td>1849</td>\n",
       "      <td>Financial services</td>\n",
       "    </tr>\n",
       "    <tr>\n",
       "      <th>433</th>\n",
       "      <td>AMP</td>\n",
       "      <td>2019</td>\n",
       "      <td>16.5</td>\n",
       "      <td>2.3</td>\n",
       "      <td>Australia</td>\n",
       "      <td>1849</td>\n",
       "      <td>Financial services</td>\n",
       "    </tr>\n",
       "    <tr>\n",
       "      <th>434</th>\n",
       "      <td>AMP</td>\n",
       "      <td>2020</td>\n",
       "      <td>16.7</td>\n",
       "      <td>3.3</td>\n",
       "      <td>Australia</td>\n",
       "      <td>1849</td>\n",
       "      <td>Financial services</td>\n",
       "    </tr>\n",
       "  </tbody>\n",
       "</table>\n",
       "</div>"
      ],
      "text/plain": [
       "    Company Name  variable  value_x  value_y Country Founded  Year Founded  \\\n",
       "507          ACS      2018     56.2      5.6           Spain          1997   \n",
       "508          ACS      2019     56.8      6.6           Spain          1997   \n",
       "509          ACS      2020     57.4      7.6           Spain          1997   \n",
       "432          AMP      2018     16.3      1.3       Australia          1849   \n",
       "433          AMP      2019     16.5      2.3       Australia          1849   \n",
       "434          AMP      2020     16.7      3.3       Australia          1849   \n",
       "\n",
       "                      Industry  \n",
       "507  Construction and services  \n",
       "508  Construction and services  \n",
       "509  Construction and services  \n",
       "432         Financial services  \n",
       "433         Financial services  \n",
       "434         Financial services  "
      ]
     },
     "execution_count": 12,
     "metadata": {},
     "output_type": "execute_result"
    }
   ],
   "source": [
    "# Recreating the original data set (unpivoted)\n",
    "df_final = pd.merge(df_new, df[['Company Name','Country Founded','Year Founded', 'Industry']].copy(), on='Company Name')\n",
    "df_final.sort_values(by=['Company Name','variable']).head(6)"
   ]
  },
  {
   "cell_type": "code",
   "execution_count": 13,
   "metadata": {},
   "outputs": [
    {
     "data": {
      "text/html": [
       "<div>\n",
       "<style scoped>\n",
       "    .dataframe tbody tr th:only-of-type {\n",
       "        vertical-align: middle;\n",
       "    }\n",
       "\n",
       "    .dataframe tbody tr th {\n",
       "        vertical-align: top;\n",
       "    }\n",
       "\n",
       "    .dataframe thead th {\n",
       "        text-align: right;\n",
       "    }\n",
       "</style>\n",
       "<table border=\"1\" class=\"dataframe\">\n",
       "  <thead>\n",
       "    <tr style=\"text-align: right;\">\n",
       "      <th></th>\n",
       "      <th>Company Name</th>\n",
       "      <th>Year</th>\n",
       "      <th>Revenue</th>\n",
       "      <th>Net Income</th>\n",
       "      <th>Country Founded</th>\n",
       "      <th>Year Founded</th>\n",
       "      <th>Industry</th>\n",
       "    </tr>\n",
       "  </thead>\n",
       "  <tbody>\n",
       "    <tr>\n",
       "      <th>507</th>\n",
       "      <td>ACS</td>\n",
       "      <td>2018</td>\n",
       "      <td>56.2</td>\n",
       "      <td>5.6</td>\n",
       "      <td>Spain</td>\n",
       "      <td>1997</td>\n",
       "      <td>Construction and services</td>\n",
       "    </tr>\n",
       "    <tr>\n",
       "      <th>508</th>\n",
       "      <td>ACS</td>\n",
       "      <td>2019</td>\n",
       "      <td>56.8</td>\n",
       "      <td>6.6</td>\n",
       "      <td>Spain</td>\n",
       "      <td>1997</td>\n",
       "      <td>Construction and services</td>\n",
       "    </tr>\n",
       "    <tr>\n",
       "      <th>509</th>\n",
       "      <td>ACS</td>\n",
       "      <td>2020</td>\n",
       "      <td>57.4</td>\n",
       "      <td>7.6</td>\n",
       "      <td>Spain</td>\n",
       "      <td>1997</td>\n",
       "      <td>Construction and services</td>\n",
       "    </tr>\n",
       "    <tr>\n",
       "      <th>432</th>\n",
       "      <td>AMP</td>\n",
       "      <td>2018</td>\n",
       "      <td>16.3</td>\n",
       "      <td>1.3</td>\n",
       "      <td>Australia</td>\n",
       "      <td>1849</td>\n",
       "      <td>Financial services</td>\n",
       "    </tr>\n",
       "    <tr>\n",
       "      <th>433</th>\n",
       "      <td>AMP</td>\n",
       "      <td>2019</td>\n",
       "      <td>16.5</td>\n",
       "      <td>2.3</td>\n",
       "      <td>Australia</td>\n",
       "      <td>1849</td>\n",
       "      <td>Financial services</td>\n",
       "    </tr>\n",
       "    <tr>\n",
       "      <th>434</th>\n",
       "      <td>AMP</td>\n",
       "      <td>2020</td>\n",
       "      <td>16.7</td>\n",
       "      <td>3.3</td>\n",
       "      <td>Australia</td>\n",
       "      <td>1849</td>\n",
       "      <td>Financial services</td>\n",
       "    </tr>\n",
       "  </tbody>\n",
       "</table>\n",
       "</div>"
      ],
      "text/plain": [
       "    Company Name  Year  Revenue  Net Income Country Founded  Year Founded  \\\n",
       "507          ACS  2018     56.2         5.6           Spain          1997   \n",
       "508          ACS  2019     56.8         6.6           Spain          1997   \n",
       "509          ACS  2020     57.4         7.6           Spain          1997   \n",
       "432          AMP  2018     16.3         1.3       Australia          1849   \n",
       "433          AMP  2019     16.5         2.3       Australia          1849   \n",
       "434          AMP  2020     16.7         3.3       Australia          1849   \n",
       "\n",
       "                      Industry  \n",
       "507  Construction and services  \n",
       "508  Construction and services  \n",
       "509  Construction and services  \n",
       "432         Financial services  \n",
       "433         Financial services  \n",
       "434         Financial services  "
      ]
     },
     "execution_count": 13,
     "metadata": {},
     "output_type": "execute_result"
    }
   ],
   "source": [
    "# Renaming columns\n",
    "df_final.rename(columns= {'variable': 'Year', 'value_x': 'Revenue', 'value_y': 'Net Income', \n",
    "    'Country Founded_x': 'Country Founded', 'Year Founded_x': 'Year Founded', 'Industry_x': 'Industry'}, inplace=True)\n",
    "#df_final.drop(['Country Founded_y', 'Year Founded_y', 'Industry_y'], axis= 1, inplace=True)\n",
    "df_final.sort_values(by=['Company Name','Year']).head(6)"
   ]
  },
  {
   "cell_type": "code",
   "execution_count": 14,
   "metadata": {},
   "outputs": [
    {
     "data": {
      "text/plain": [
       "Ukrainian Railways          3\n",
       "Agromet                     3\n",
       "Kredyt Bank                 3\n",
       "Budimex                     3\n",
       "Singapore Press Holdings    3\n",
       "Name: Company Name, dtype: int64"
      ]
     },
     "execution_count": 14,
     "metadata": {},
     "output_type": "execute_result"
    }
   ],
   "source": [
    "df_final['Company Name'].value_counts().tail()"
   ]
  },
  {
   "cell_type": "code",
   "execution_count": 15,
   "metadata": {},
   "outputs": [
    {
     "data": {
      "text/plain": [
       "Amazon            3\n",
       "LG                3\n",
       "Ferrovial         3\n",
       "Banco Sabadell    3\n",
       "ACS               3\n",
       "Name: Company Name, dtype: int64"
      ]
     },
     "execution_count": 15,
     "metadata": {},
     "output_type": "execute_result"
    }
   ],
   "source": [
    "df_final['Company Name'].value_counts().head()"
   ]
  },
  {
   "cell_type": "code",
   "execution_count": 16,
   "metadata": {},
   "outputs": [
    {
     "data": {
      "text/html": [
       "<div>\n",
       "<style scoped>\n",
       "    .dataframe tbody tr th:only-of-type {\n",
       "        vertical-align: middle;\n",
       "    }\n",
       "\n",
       "    .dataframe tbody tr th {\n",
       "        vertical-align: top;\n",
       "    }\n",
       "\n",
       "    .dataframe thead th {\n",
       "        text-align: right;\n",
       "    }\n",
       "</style>\n",
       "<table border=\"1\" class=\"dataframe\">\n",
       "  <thead>\n",
       "    <tr style=\"text-align: right;\">\n",
       "      <th></th>\n",
       "      <th>Year</th>\n",
       "      <th>Revenue</th>\n",
       "      <th>Net Income</th>\n",
       "      <th>Year Founded</th>\n",
       "    </tr>\n",
       "  </thead>\n",
       "  <tbody>\n",
       "    <tr>\n",
       "      <th>count</th>\n",
       "      <td>792.000000</td>\n",
       "      <td>792.000000</td>\n",
       "      <td>792.000000</td>\n",
       "      <td>792.000000</td>\n",
       "    </tr>\n",
       "    <tr>\n",
       "      <th>mean</th>\n",
       "      <td>2019.000000</td>\n",
       "      <td>53.036879</td>\n",
       "      <td>5.512938</td>\n",
       "      <td>1933.378788</td>\n",
       "    </tr>\n",
       "    <tr>\n",
       "      <th>std</th>\n",
       "      <td>0.817013</td>\n",
       "      <td>81.420550</td>\n",
       "      <td>8.411524</td>\n",
       "      <td>74.107128</td>\n",
       "    </tr>\n",
       "    <tr>\n",
       "      <th>min</th>\n",
       "      <td>2018.000000</td>\n",
       "      <td>0.029000</td>\n",
       "      <td>-1.580000</td>\n",
       "      <td>1366.000000</td>\n",
       "    </tr>\n",
       "    <tr>\n",
       "      <th>25%</th>\n",
       "      <td>2018.000000</td>\n",
       "      <td>9.075000</td>\n",
       "      <td>0.920750</td>\n",
       "      <td>1900.500000</td>\n",
       "    </tr>\n",
       "    <tr>\n",
       "      <th>50%</th>\n",
       "      <td>2019.000000</td>\n",
       "      <td>24.500000</td>\n",
       "      <td>2.810000</td>\n",
       "      <td>1948.000000</td>\n",
       "    </tr>\n",
       "    <tr>\n",
       "      <th>75%</th>\n",
       "      <td>2020.000000</td>\n",
       "      <td>61.900000</td>\n",
       "      <td>6.525000</td>\n",
       "      <td>1988.000000</td>\n",
       "    </tr>\n",
       "    <tr>\n",
       "      <th>max</th>\n",
       "      <td>2020.000000</td>\n",
       "      <td>524.400000</td>\n",
       "      <td>111.400000</td>\n",
       "      <td>2015.000000</td>\n",
       "    </tr>\n",
       "  </tbody>\n",
       "</table>\n",
       "</div>"
      ],
      "text/plain": [
       "              Year     Revenue  Net Income  Year Founded\n",
       "count   792.000000  792.000000  792.000000    792.000000\n",
       "mean   2019.000000   53.036879    5.512938   1933.378788\n",
       "std       0.817013   81.420550    8.411524     74.107128\n",
       "min    2018.000000    0.029000   -1.580000   1366.000000\n",
       "25%    2018.000000    9.075000    0.920750   1900.500000\n",
       "50%    2019.000000   24.500000    2.810000   1948.000000\n",
       "75%    2020.000000   61.900000    6.525000   1988.000000\n",
       "max    2020.000000  524.400000  111.400000   2015.000000"
      ]
     },
     "execution_count": 16,
     "metadata": {},
     "output_type": "execute_result"
    }
   ],
   "source": [
    "df_final.describe()"
   ]
  },
  {
   "cell_type": "code",
   "execution_count": 17,
   "metadata": {},
   "outputs": [],
   "source": [
    "# Saving data from for future use\n",
    "df_final.head(2)\n",
    "df_final.to_csv('biggest_companies_unpivoted.csv', index=False)"
   ]
  },
  {
   "attachments": {},
   "cell_type": "markdown",
   "metadata": {},
   "source": [
    "\n",
    "### 4. Data Analysis - EDA & Visualization"
   ]
  },
  {
   "cell_type": "code",
   "execution_count": 18,
   "metadata": {},
   "outputs": [
    {
     "data": {
      "text/plain": [
       "<Axes: >"
      ]
     },
     "execution_count": 18,
     "metadata": {},
     "output_type": "execute_result"
    },
    {
     "data": {
      "image/png": "[encoded data removed]",
      "text/plain": [
       "<Figure size 640x480 with 1 Axes>"
      ]
     },
     "metadata": {},
     "output_type": "display_data"
    }
   ],
   "source": [
    "# Top 5 industries\n",
    "# Divided by 3 since every record will appear 3 times\n",
    "industry_count = df_final['Industry'].sort_values().value_counts().head()/3\n",
    "industry_count.plot(kind='barh')"
   ]
  },
  {
   "cell_type": "code",
   "execution_count": 19,
   "metadata": {},
   "outputs": [
    {
     "data": {
      "text/plain": [
       "Banking               36.0\n",
       "Technology            20.0\n",
       "Telecommunications    19.0\n",
       "Automotive            15.0\n",
       "Oil and gas           14.0\n",
       "Name: Industry, dtype: float64"
      ]
     },
     "execution_count": 19,
     "metadata": {},
     "output_type": "execute_result"
    }
   ],
   "source": [
    "industry_count"
   ]
  },
  {
   "cell_type": "code",
   "execution_count": 20,
   "metadata": {},
   "outputs": [
    {
     "data": {
      "text/plain": [
       "<Axes: >"
      ]
     },
     "execution_count": 20,
     "metadata": {},
     "output_type": "execute_result"
    },
    {
     "data": {
      "image/png": "[encoded data removed]",
      "text/plain": [
       "<Figure size 640x480 with 1 Axes>"
      ]
     },
     "metadata": {},
     "output_type": "display_data"
    }
   ],
   "source": [
    "# Top 5 Countries which Companies were founded\n",
    "countries_count = df_final['Country Founded'].sort_values().value_counts().head()/3\n",
    "countries_count.plot(kind='barh')"
   ]
  },
  {
   "cell_type": "code",
   "execution_count": 21,
   "metadata": {},
   "outputs": [
    {
     "data": {
      "text/plain": [
       "United States     38.0\n",
       "United Kingdom    26.0\n",
       "Germany           24.0\n",
       "China             16.0\n",
       "Australia         15.0\n",
       "Name: Country Founded, dtype: float64"
      ]
     },
     "execution_count": 21,
     "metadata": {},
     "output_type": "execute_result"
    }
   ],
   "source": [
    "df_final['Country Founded'].sort_values().value_counts().head()/3"
   ]
  },
  {
   "cell_type": "code",
   "execution_count": 22,
   "metadata": {},
   "outputs": [
    {
     "data": {
      "text/plain": [
       "<Axes: xlabel='Year Founded', ylabel='Count'>"
      ]
     },
     "execution_count": 22,
     "metadata": {},
     "output_type": "execute_result"
    },
    {
     "data": {
      "image/png": "[encoded data removed]",
      "text/plain": [
       "<Figure size 640x480 with 1 Axes>"
      ]
     },
     "metadata": {},
     "output_type": "display_data"
    }
   ],
   "source": [
    "# Scanning distribution of Data based on year founded\n",
    "sns.histplot(df_final, x= 'Year Founded', bins = 10)"
   ]
  },
  {
   "cell_type": "code",
   "execution_count": 23,
   "metadata": {},
   "outputs": [
    {
     "data": {
      "text/plain": [
       "<Axes: ylabel='Company Name'>"
      ]
     },
     "execution_count": 23,
     "metadata": {},
     "output_type": "execute_result"
    },
    {
     "data": {
      "image/png": "[encoded data removed]",
      "text/plain": [
       "<Figure size 640x480 with 1 Axes>"
      ]
     },
     "metadata": {},
     "output_type": "display_data"
    }
   ],
   "source": [
    "# Top 5 most profitable companies between 2018 - 2020\n",
    "net_income = df_final.groupby('Company Name')['Net Income'].sum().sort_values(ascending=False).head()\n",
    "net_income.plot(kind='barh')"
   ]
  },
  {
   "cell_type": "code",
   "execution_count": 24,
   "metadata": {},
   "outputs": [
    {
     "data": {
      "text/plain": [
       "Company Name\n",
       "Apple        226.1\n",
       "Microsoft    113.9\n",
       "Google       111.2\n",
       "Name: Net Income, dtype: float64"
      ]
     },
     "execution_count": 24,
     "metadata": {},
     "output_type": "execute_result"
    }
   ],
   "source": [
    "net_income.head(3)"
   ]
  },
  {
   "cell_type": "code",
   "execution_count": 25,
   "metadata": {},
   "outputs": [
    {
     "data": {
      "text/plain": [
       "<Axes: ylabel='Company Name'>"
      ]
     },
     "execution_count": 25,
     "metadata": {},
     "output_type": "execute_result"
    },
    {
     "data": {
      "image/png": "[encoded data removed]",
      "text/plain": [
       "<Figure size 640x480 with 1 Axes>"
      ]
     },
     "metadata": {},
     "output_type": "display_data"
    }
   ],
   "source": [
    "# Top 5 companies that Generates the most Revenue between 2018 - 2020\n",
    "net_revenue = df_final.groupby('Company Name')['Revenue'].sum().sort_values(ascending=False).head()\n",
    "net_revenue.plot(kind='barh')"
   ]
  },
  {
   "cell_type": "code",
   "execution_count": 26,
   "metadata": {},
   "outputs": [
    {
     "data": {
      "text/plain": [
       "Company Name\n",
       "Wal-Mart                    1539.1\n",
       "China National Petroleum    1339.8\n",
       "Sinopec                     1287.3\n",
       "China State Grid            1265.0\n",
       "Royal Dutch Shell           1189.8\n",
       "Name: Revenue, dtype: float64"
      ]
     },
     "execution_count": 26,
     "metadata": {},
     "output_type": "execute_result"
    }
   ],
   "source": [
    "net_revenue"
   ]
  },
  {
   "cell_type": "code",
   "execution_count": 27,
   "metadata": {},
   "outputs": [
    {
     "data": {
      "text/plain": [
       "<Axes: ylabel='Industry'>"
      ]
     },
     "execution_count": 27,
     "metadata": {},
     "output_type": "execute_result"
    },
    {
     "data": {
      "image/png": "[encoded data removed]",
      "text/plain": [
       "<Figure size 640x480 with 1 Axes>"
      ]
     },
     "metadata": {},
     "output_type": "display_data"
    }
   ],
   "source": [
    "# Top 5 most profitable industry between 2018 - 2020\n",
    "net_income_industry = df_final.groupby('Industry')['Net Income'].sum().sort_values(ascending=False).head()\n",
    "net_income_industry.plot(kind='barh')"
   ]
  },
  {
   "cell_type": "code",
   "execution_count": 28,
   "metadata": {},
   "outputs": [
    {
     "data": {
      "text/plain": [
       "Industry\n",
       "Technology     835.083\n",
       "Banking        820.416\n",
       "Oil and gas    308.300\n",
       "Name: Net Income, dtype: float64"
      ]
     },
     "execution_count": 28,
     "metadata": {},
     "output_type": "execute_result"
    }
   ],
   "source": [
    "net_income_industry.head(3)"
   ]
  },
  {
   "cell_type": "code",
   "execution_count": 29,
   "metadata": {},
   "outputs": [
    {
     "data": {
      "text/plain": [
       "<Axes: ylabel='Industry'>"
      ]
     },
     "execution_count": 29,
     "metadata": {},
     "output_type": "execute_result"
    },
    {
     "data": {
      "image/png": "[encoded data removed]",
      "text/plain": [
       "<Figure size 640x480 with 1 Axes>"
      ]
     },
     "metadata": {},
     "output_type": "display_data"
    }
   ],
   "source": [
    "# Top 5 industries that Generates the most Revenue between 2018 - 2020\n",
    "net_revenue_industry = df_final.groupby('Industry')['Revenue'].sum().sort_values(ascending=False).head()\n",
    "net_revenue_industry.plot(kind='barh')"
   ]
  },
  {
   "cell_type": "code",
   "execution_count": 30,
   "metadata": {},
   "outputs": [
    {
     "data": {
      "text/plain": [
       "Industry\n",
       "Oil and gas    6186.800\n",
       "Technology     4811.800\n",
       "Banking        4386.377\n",
       "Automotive     3926.900\n",
       "Retail         3767.750\n",
       "Name: Revenue, dtype: float64"
      ]
     },
     "execution_count": 30,
     "metadata": {},
     "output_type": "execute_result"
    }
   ],
   "source": [
    "net_revenue_industry"
   ]
  },
  {
   "cell_type": "code",
   "execution_count": 31,
   "metadata": {},
   "outputs": [
    {
     "data": {
      "text/plain": [
       "<Axes: ylabel='Country Founded'>"
      ]
     },
     "execution_count": 31,
     "metadata": {},
     "output_type": "execute_result"
    },
    {
     "data": {
      "image/png": "[encoded data removed]",
      "text/plain": [
       "<Figure size 640x480 with 1 Axes>"
      ]
     },
     "metadata": {},
     "output_type": "display_data"
    }
   ],
   "source": [
    "# Top 5 most profitable countries between 2018 - 2020\n",
    "net_income_country = df_final.groupby('Country Founded')['Net Income'].sum().sort_values(ascending=False).head()\n",
    "net_income_country.plot(kind='barh')"
   ]
  },
  {
   "cell_type": "code",
   "execution_count": 32,
   "metadata": {},
   "outputs": [
    {
     "data": {
      "text/plain": [
       "Country Founded\n",
       "United States     1323.088\n",
       "China              913.600\n",
       "United Kingdom     390.988\n",
       "Name: Net Income, dtype: float64"
      ]
     },
     "execution_count": 32,
     "metadata": {},
     "output_type": "execute_result"
    }
   ],
   "source": [
    "net_income_country.head(3)"
   ]
  },
  {
   "cell_type": "code",
   "execution_count": 33,
   "metadata": {},
   "outputs": [
    {
     "data": {
      "text/plain": [
       "<Axes: ylabel='Country Founded'>"
      ]
     },
     "execution_count": 33,
     "metadata": {},
     "output_type": "execute_result"
    },
    {
     "data": {
      "image/png": "[encoded data removed]",
      "text/plain": [
       "<Figure size 640x480 with 1 Axes>"
      ]
     },
     "metadata": {},
     "output_type": "display_data"
    }
   ],
   "source": [
    "# Top 5 countries that Generates the most Revenue between 2018 - 2020\n",
    "net_revenue_country = df_final.groupby('Country Founded')['Revenue'].sum().sort_values(ascending=False).head()\n",
    "net_revenue_country.plot(kind='barh')"
   ]
  },
  {
   "cell_type": "code",
   "execution_count": 34,
   "metadata": {},
   "outputs": [
    {
     "data": {
      "text/plain": [
       "Country Founded\n",
       "United States    10153.991\n",
       "China             9229.900\n",
       "Germany           4659.200\n",
       "Name: Revenue, dtype: float64"
      ]
     },
     "execution_count": 34,
     "metadata": {},
     "output_type": "execute_result"
    }
   ],
   "source": [
    "net_revenue_country.head(3)"
   ]
  },
  {
   "cell_type": "code",
   "execution_count": 35,
   "metadata": {},
   "outputs": [
    {
     "name": "stderr",
     "output_type": "stream",
     "text": [
      "C:\\Users\\Dolf\\AppData\\Local\\Temp\\ipykernel_19268\\3539485801.py:2: FutureWarning: The default value of numeric_only in DataFrame.corr is deprecated. In a future version, it will default to False. Select only valid columns or specify the value of numeric_only to silence this warning.\n",
      "  corr_matrix = df_final.corr()\n"
     ]
    },
    {
     "data": {
      "text/plain": [
       "Net Income      1.000000\n",
       "Revenue         0.599037\n",
       "Year            0.045322\n",
       "Year Founded    0.043310\n",
       "Name: Net Income, dtype: float64"
      ]
     },
     "execution_count": 35,
     "metadata": {},
     "output_type": "execute_result"
    }
   ],
   "source": [
    "# Checking correlations in data set with a focus on net income\n",
    "corr_matrix = df_final.corr()\n",
    "corr_matrix['Net Income'].sort_values(ascending=False)"
   ]
  },
  {
   "cell_type": "code",
   "execution_count": 36,
   "metadata": {},
   "outputs": [
    {
     "data": {
      "text/plain": [
       "<Axes: xlabel='Revenue', ylabel='Net Income'>"
      ]
     },
     "execution_count": 36,
     "metadata": {},
     "output_type": "execute_result"
    },
    {
     "data": {
      "image/png": "[encoded data removed]",
      "text/plain": [
       "<Figure size 640x480 with 1 Axes>"
      ]
     },
     "metadata": {},
     "output_type": "display_data"
    }
   ],
   "source": [
    "sns.scatterplot(df_final, x='Revenue', y='Net Income', alpha = 0.2)"
   ]
  },
  {
   "attachments": {},
   "cell_type": "markdown",
   "metadata": {},
   "source": [
    "### 5. Insights"
   ]
  },
  {
   "attachments": {},
   "cell_type": "markdown",
   "metadata": {},
   "source": [
    "#### Insights\n",
    "* The data consists of 264 of some of the biggest companies globally\n",
    "* A majority of these companies form part of the banking sector, nearly double of those in Technology and Telecommunication respectively\n",
    "* Most companies are founded in the USA, followed by the United Kingdom and Germany\n",
    "* There has been a drastic rise of new companies between 1900 and 2015\n",
    "* Companies and industries that generate the most Revenue are not the most profitable\n",
    "* Despite the UK and Germany having more companies listed than China, China generated more profit and revenue between 2018 and 2020 with USA topping the charts.\n",
    "* The Technology and Banking sectors were the most profitable industries between 2018 and 2020, evenly matched followed by the Oil and Gas industry which is over half lesser than the 2 top sectors\n",
    "* Technology has fewer companies than banking but higher profit\n",
    "* Apple was by far the most profitable company in the given period, with double the profit of Microsoft and Google respectively\n",
    "* The top 3 most profitable companies are in the Technology sector and were founded in USA\n",
    "* The data does not contain any relevant correlations"
   ]
  }
 ],
 "metadata": {
  "kernelspec": {
   "display_name": "base",
   "language": "python",
   "name": "python3"
  },
  "language_info": {
   "codemirror_mode": {
    "name": "ipython",
    "version": 3
   },
   "file_extension": ".py",
   "mimetype": "text/x-python",
   "name": "python",
   "nbconvert_exporter": "python",
   "pygments_lexer": "ipython3",
   "version": "3.9.12"
  },
  "orig_nbformat": 4,
  "vscode": {
   "interpreter": {
    "hash": "957d859b40b0211d74c5c43fc51ff77d71cd365e4a62c1cdcfedf0a33be2cc80"
   }
  }
 },
 "nbformat": 4,
 "nbformat_minor": 2
}
